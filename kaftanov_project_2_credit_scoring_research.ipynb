{
 "cells": [
  {
   "cell_type": "markdown",
   "metadata": {},
   "source": [
    "# Исследование надёжности заёмщиков\n",
    "\n",
    "Заказчик — кредитный отдел банка. Нужно разобраться, влияет ли семейное положение, количество детей клиента, уровень дохода и цели кредита на факт погашения кредита в срок. Входные данные от банка — статистика о платёжеспособности клиентов.\n",
    "\n",
    "Цель исследования — проверить четыре гипотезы:\n",
    "\n",
    "**1. Количество детей у клиента влияет на факт погашения кредита в срок. Клиенты, у которых детей больше, реже гасят кредиты в срок.**  \n",
    "\n",
    "**2. Семейное положение влияет на факт погашения кредита в срок. Клиенты, состоящие в браке, чаще гасят кредиты в срок по сравнению с теми, кто никогда не состоял в браке.** \n",
    "\n",
    "**3. Уровень дохода влияет на факт погашения кредита в срок. Чем выше уровень дохода клиентов, тем чаще они гасят кредит в срок.**  \n",
    "\n",
    "**4. Цели кредита влияют на факт погашения кредита в срок. Клиенты, которые берут кредиты на покупку автомобиля, реже гасят их в срок.** \n",
    "\n",
    "Данные клиентах банка мы получили из файла `data.csv`. О качестве данных ничего не известно. Поэтому перед проверкой гипотез понадобится обзор данных.\n",
    "\n",
    "Мы проверим данные на ошибки и оценим их влияние на исследование. Затем, на этапе предобработки мы поищем возможность исправить самые критичные ошибки данных.\n",
    "\n",
    "Таким образом, исследование пройдёт в три этапа:\n",
    "\n",
    "`Обзор данных.`  \n",
    "`Предобработка данных.`  \n",
    "`Проверка гипотез.`\n",
    "\n",
    "Результаты исследования будут учтены при построении модели **кредитного скоринга** — специальной системы, которая оценивает способность потенциального заёмщика вернуть кредит банку."
   ]
  },
  {
   "cell_type": "markdown",
   "metadata": {},
   "source": [
    "## Обзор данных\n",
    "\n",
    "Составляем первое представление о данных банка"
   ]
  },
  {
   "cell_type": "markdown",
   "metadata": {},
   "source": [
    "Импортируем библиотеку `pandas`."
   ]
  },
  {
   "cell_type": "code",
   "execution_count": 10,
   "metadata": {},
   "outputs": [],
   "source": [
    "import pandas as pd # импорт библиотеки pandas"
   ]
  },
  {
   "cell_type": "markdown",
   "metadata": {},
   "source": [
    "Читаем файл data.csv и сохраняем его в переменной df:"
   ]
  },
  {
   "cell_type": "code",
   "execution_count": 11,
   "metadata": {},
   "outputs": [],
   "source": [
    "df = pd.read_csv('C:\\\\Users\\\\admin\\\\credit_scoring_research_project.csv') # чтение файла с данными и сохранение в df"
   ]
  },
  {
   "cell_type": "markdown",
   "metadata": {},
   "source": [
    "Выведим на экран первые десять строк таблицы: "
   ]
  },
  {
   "cell_type": "code",
   "execution_count": 12,
   "metadata": {
    "scrolled": true
   },
   "outputs": [
    {
     "data": {
      "text/html": [
       "<div>\n",
       "<style scoped>\n",
       "    .dataframe tbody tr th:only-of-type {\n",
       "        vertical-align: middle;\n",
       "    }\n",
       "\n",
       "    .dataframe tbody tr th {\n",
       "        vertical-align: top;\n",
       "    }\n",
       "\n",
       "    .dataframe thead th {\n",
       "        text-align: right;\n",
       "    }\n",
       "</style>\n",
       "<table border=\"1\" class=\"dataframe\">\n",
       "  <thead>\n",
       "    <tr style=\"text-align: right;\">\n",
       "      <th></th>\n",
       "      <th>children</th>\n",
       "      <th>days_employed</th>\n",
       "      <th>dob_years</th>\n",
       "      <th>education</th>\n",
       "      <th>education_id</th>\n",
       "      <th>family_status</th>\n",
       "      <th>family_status_id</th>\n",
       "      <th>gender</th>\n",
       "      <th>income_type</th>\n",
       "      <th>debt</th>\n",
       "      <th>total_income</th>\n",
       "      <th>purpose</th>\n",
       "    </tr>\n",
       "  </thead>\n",
       "  <tbody>\n",
       "    <tr>\n",
       "      <td>0</td>\n",
       "      <td>1</td>\n",
       "      <td>-8437.673028</td>\n",
       "      <td>42</td>\n",
       "      <td>высшее</td>\n",
       "      <td>0</td>\n",
       "      <td>женат / замужем</td>\n",
       "      <td>0</td>\n",
       "      <td>F</td>\n",
       "      <td>сотрудник</td>\n",
       "      <td>0</td>\n",
       "      <td>253875.639453</td>\n",
       "      <td>покупка жилья</td>\n",
       "    </tr>\n",
       "    <tr>\n",
       "      <td>1</td>\n",
       "      <td>1</td>\n",
       "      <td>-4024.803754</td>\n",
       "      <td>36</td>\n",
       "      <td>среднее</td>\n",
       "      <td>1</td>\n",
       "      <td>женат / замужем</td>\n",
       "      <td>0</td>\n",
       "      <td>F</td>\n",
       "      <td>сотрудник</td>\n",
       "      <td>0</td>\n",
       "      <td>112080.014102</td>\n",
       "      <td>приобретение автомобиля</td>\n",
       "    </tr>\n",
       "    <tr>\n",
       "      <td>2</td>\n",
       "      <td>0</td>\n",
       "      <td>-5623.422610</td>\n",
       "      <td>33</td>\n",
       "      <td>Среднее</td>\n",
       "      <td>1</td>\n",
       "      <td>женат / замужем</td>\n",
       "      <td>0</td>\n",
       "      <td>M</td>\n",
       "      <td>сотрудник</td>\n",
       "      <td>0</td>\n",
       "      <td>145885.952297</td>\n",
       "      <td>покупка жилья</td>\n",
       "    </tr>\n",
       "    <tr>\n",
       "      <td>3</td>\n",
       "      <td>3</td>\n",
       "      <td>-4124.747207</td>\n",
       "      <td>32</td>\n",
       "      <td>среднее</td>\n",
       "      <td>1</td>\n",
       "      <td>женат / замужем</td>\n",
       "      <td>0</td>\n",
       "      <td>M</td>\n",
       "      <td>сотрудник</td>\n",
       "      <td>0</td>\n",
       "      <td>267628.550329</td>\n",
       "      <td>дополнительное образование</td>\n",
       "    </tr>\n",
       "    <tr>\n",
       "      <td>4</td>\n",
       "      <td>0</td>\n",
       "      <td>340266.072047</td>\n",
       "      <td>53</td>\n",
       "      <td>среднее</td>\n",
       "      <td>1</td>\n",
       "      <td>гражданский брак</td>\n",
       "      <td>1</td>\n",
       "      <td>F</td>\n",
       "      <td>пенсионер</td>\n",
       "      <td>0</td>\n",
       "      <td>158616.077870</td>\n",
       "      <td>сыграть свадьбу</td>\n",
       "    </tr>\n",
       "    <tr>\n",
       "      <td>5</td>\n",
       "      <td>0</td>\n",
       "      <td>-926.185831</td>\n",
       "      <td>27</td>\n",
       "      <td>высшее</td>\n",
       "      <td>0</td>\n",
       "      <td>гражданский брак</td>\n",
       "      <td>1</td>\n",
       "      <td>M</td>\n",
       "      <td>компаньон</td>\n",
       "      <td>0</td>\n",
       "      <td>255763.565419</td>\n",
       "      <td>покупка жилья</td>\n",
       "    </tr>\n",
       "    <tr>\n",
       "      <td>6</td>\n",
       "      <td>0</td>\n",
       "      <td>-2879.202052</td>\n",
       "      <td>43</td>\n",
       "      <td>высшее</td>\n",
       "      <td>0</td>\n",
       "      <td>женат / замужем</td>\n",
       "      <td>0</td>\n",
       "      <td>F</td>\n",
       "      <td>компаньон</td>\n",
       "      <td>0</td>\n",
       "      <td>240525.971920</td>\n",
       "      <td>операции с жильем</td>\n",
       "    </tr>\n",
       "    <tr>\n",
       "      <td>7</td>\n",
       "      <td>0</td>\n",
       "      <td>-152.779569</td>\n",
       "      <td>50</td>\n",
       "      <td>СРЕДНЕЕ</td>\n",
       "      <td>1</td>\n",
       "      <td>женат / замужем</td>\n",
       "      <td>0</td>\n",
       "      <td>M</td>\n",
       "      <td>сотрудник</td>\n",
       "      <td>0</td>\n",
       "      <td>135823.934197</td>\n",
       "      <td>образование</td>\n",
       "    </tr>\n",
       "    <tr>\n",
       "      <td>8</td>\n",
       "      <td>2</td>\n",
       "      <td>-6929.865299</td>\n",
       "      <td>35</td>\n",
       "      <td>ВЫСШЕЕ</td>\n",
       "      <td>0</td>\n",
       "      <td>гражданский брак</td>\n",
       "      <td>1</td>\n",
       "      <td>F</td>\n",
       "      <td>сотрудник</td>\n",
       "      <td>0</td>\n",
       "      <td>95856.832424</td>\n",
       "      <td>на проведение свадьбы</td>\n",
       "    </tr>\n",
       "    <tr>\n",
       "      <td>9</td>\n",
       "      <td>0</td>\n",
       "      <td>-2188.756445</td>\n",
       "      <td>41</td>\n",
       "      <td>среднее</td>\n",
       "      <td>1</td>\n",
       "      <td>женат / замужем</td>\n",
       "      <td>0</td>\n",
       "      <td>M</td>\n",
       "      <td>сотрудник</td>\n",
       "      <td>0</td>\n",
       "      <td>144425.938277</td>\n",
       "      <td>покупка жилья для семьи</td>\n",
       "    </tr>\n",
       "  </tbody>\n",
       "</table>\n",
       "</div>"
      ],
      "text/plain": [
       "   children  days_employed  dob_years education  education_id  \\\n",
       "0         1   -8437.673028         42    высшее             0   \n",
       "1         1   -4024.803754         36   среднее             1   \n",
       "2         0   -5623.422610         33   Среднее             1   \n",
       "3         3   -4124.747207         32   среднее             1   \n",
       "4         0  340266.072047         53   среднее             1   \n",
       "5         0    -926.185831         27    высшее             0   \n",
       "6         0   -2879.202052         43    высшее             0   \n",
       "7         0    -152.779569         50   СРЕДНЕЕ             1   \n",
       "8         2   -6929.865299         35    ВЫСШЕЕ             0   \n",
       "9         0   -2188.756445         41   среднее             1   \n",
       "\n",
       "      family_status  family_status_id gender income_type  debt   total_income  \\\n",
       "0   женат / замужем                 0      F   сотрудник     0  253875.639453   \n",
       "1   женат / замужем                 0      F   сотрудник     0  112080.014102   \n",
       "2   женат / замужем                 0      M   сотрудник     0  145885.952297   \n",
       "3   женат / замужем                 0      M   сотрудник     0  267628.550329   \n",
       "4  гражданский брак                 1      F   пенсионер     0  158616.077870   \n",
       "5  гражданский брак                 1      M   компаньон     0  255763.565419   \n",
       "6   женат / замужем                 0      F   компаньон     0  240525.971920   \n",
       "7   женат / замужем                 0      M   сотрудник     0  135823.934197   \n",
       "8  гражданский брак                 1      F   сотрудник     0   95856.832424   \n",
       "9   женат / замужем                 0      M   сотрудник     0  144425.938277   \n",
       "\n",
       "                      purpose  \n",
       "0               покупка жилья  \n",
       "1     приобретение автомобиля  \n",
       "2               покупка жилья  \n",
       "3  дополнительное образование  \n",
       "4             сыграть свадьбу  \n",
       "5               покупка жилья  \n",
       "6           операции с жильем  \n",
       "7                 образование  \n",
       "8       на проведение свадьбы  \n",
       "9     покупка жилья для семьи  "
      ]
     },
     "execution_count": 12,
     "metadata": {},
     "output_type": "execute_result"
    }
   ],
   "source": [
    "df.head(10) # получение первых 10 строк таблицы df"
   ]
  },
  {
   "cell_type": "markdown",
   "metadata": {},
   "source": [
    "Получаем общую информацию о таблице:"
   ]
  },
  {
   "cell_type": "code",
   "execution_count": 13,
   "metadata": {
    "scrolled": false
   },
   "outputs": [
    {
     "name": "stdout",
     "output_type": "stream",
     "text": [
      "<class 'pandas.core.frame.DataFrame'>\n",
      "RangeIndex: 21525 entries, 0 to 21524\n",
      "Data columns (total 12 columns):\n",
      "children            21525 non-null int64\n",
      "days_employed       19351 non-null float64\n",
      "dob_years           21525 non-null int64\n",
      "education           21525 non-null object\n",
      "education_id        21525 non-null int64\n",
      "family_status       21525 non-null object\n",
      "family_status_id    21525 non-null int64\n",
      "gender              21525 non-null object\n",
      "income_type         21525 non-null object\n",
      "debt                21525 non-null int64\n",
      "total_income        19351 non-null float64\n",
      "purpose             21525 non-null object\n",
      "dtypes: float64(2), int64(5), object(5)\n",
      "memory usage: 2.0+ MB\n"
     ]
    }
   ],
   "source": [
    "df.info() # получение общей информации о данных в таблице df"
   ]
  },
  {
   "cell_type": "markdown",
   "metadata": {},
   "source": [
    "Итак, в таблице двенадцать столбцов. Тип данных в пяти столбцах — `object`, в пяти столбцах - `int` и в двух столбцах - `float`.\n",
    "\n",
    "Согласно документации к данным:\n",
    "\n",
    "`children` — количество детей в семье  \n",
    "`days_employed` — общий трудовой стаж в днях  \n",
    "`dob_years` — возраст клиента в годах  \n",
    "`education` — уровень образования клиента  \n",
    "`education_id` — идентификатор уровня образования  \n",
    "`family_status` — семейное положение  \n",
    "`family_status_id` — идентификатор семейного положения  \n",
    "`gender` — пол клиента  \n",
    "`income_type` — тип занятости  \n",
    "`debt` — имел ли задолженность по возврату кредитов  \n",
    "`total_income` — ежемесячный доход в рублях   \n",
    "`purpose` — цель получения кредита\n",
    "\n",
    "В названиях колонок нарушений стиля нет.  \n",
    "В столбце `education` значения записаны в разных регистрах. Для текущего исследования эти данные не представляют интереса, однако, для избежания возможных скрытых дубликатов лучше привести значения к единому регистру.   \n",
    "Количество значений в столбцах различается. Значит, в данных есть пропущенные значения."
   ]
  },
  {
   "cell_type": "markdown",
   "metadata": {},
   "source": [
    "Подробно изучим колонки с интересующими нас данными:"
   ]
  },
  {
   "cell_type": "code",
   "execution_count": 14,
   "metadata": {
    "scrolled": true
   },
   "outputs": [
    {
     "data": {
      "text/plain": [
       "женат / замужем          12380\n",
       "гражданский брак          4177\n",
       "Не женат / не замужем     2813\n",
       "в разводе                 1195\n",
       "вдовец / вдова             960\n",
       "Name: family_status, dtype: int64"
      ]
     },
     "execution_count": 14,
     "metadata": {},
     "output_type": "execute_result"
    }
   ],
   "source": [
    "df['family_status'].value_counts() # подсчет уникальных значений в колонке family_status"
   ]
  },
  {
   "cell_type": "markdown",
   "metadata": {},
   "source": [
    "В колонке `family_status` имеется пять вариантов семейного статуса. Больше всего клиентов, состоящих в браке."
   ]
  },
  {
   "cell_type": "code",
   "execution_count": 15,
   "metadata": {},
   "outputs": [
    {
     "data": {
      "text/plain": [
       "0    12380\n",
       "1     4177\n",
       "4     2813\n",
       "3     1195\n",
       "2      960\n",
       "Name: family_status_id, dtype: int64"
      ]
     },
     "execution_count": 15,
     "metadata": {},
     "output_type": "execute_result"
    }
   ],
   "source": [
    "df['family_status_id'].value_counts() # подсчет уникальных значений в колонке family_status_id"
   ]
  },
  {
   "cell_type": "markdown",
   "metadata": {},
   "source": [
    "В колонке `family_status_id` также имеется пять вариантов семейного статуса, которые обозначены от 0 до 4 и соответствуют статусам из колонки `family_status`."
   ]
  },
  {
   "cell_type": "code",
   "execution_count": 16,
   "metadata": {
    "scrolled": true
   },
   "outputs": [
    {
     "data": {
      "text/plain": [
       "0    19784\n",
       "1     1741\n",
       "Name: debt, dtype: int64"
      ]
     },
     "execution_count": 16,
     "metadata": {},
     "output_type": "execute_result"
    }
   ],
   "source": [
    "df['debt'].value_counts() # подсчет уникальных значений в колонке debt"
   ]
  },
  {
   "cell_type": "markdown",
   "metadata": {},
   "source": [
    "В колонке `debt` имеется всего два обозначения:  \n",
    "0 - нет задолженности  \n",
    "1 - есть задолженность"
   ]
  },
  {
   "cell_type": "code",
   "execution_count": 17,
   "metadata": {},
   "outputs": [
    {
     "data": {
      "text/plain": [
       " 0     14149\n",
       " 1      4818\n",
       " 2      2055\n",
       " 3       330\n",
       " 20       76\n",
       "-1        47\n",
       " 4        41\n",
       " 5         9\n",
       "Name: children, dtype: int64"
      ]
     },
     "execution_count": 17,
     "metadata": {},
     "output_type": "execute_result"
    }
   ],
   "source": [
    "df['children'].value_counts()"
   ]
  },
  {
   "cell_type": "markdown",
   "metadata": {},
   "source": [
    "В колонке `children` указано количество детей клиента, однако есть неправдоподобные данные: не может быть \"минус один\" ребенок. Также невозможно, чтобы у 76 клиентов было по двадцать детей, при том, что у остальных не больше пяти.  \n",
    "Эти ошибки, наиболее вероятно, связаны с неправильным внесением данных.  \n",
    "\"-1\" должно соответствовать \"1\", а \"20\" должно соответствовать \"2\"."
   ]
  },
  {
   "cell_type": "code",
   "execution_count": 18,
   "metadata": {
    "scrolled": true
   },
   "outputs": [
    {
     "data": {
      "text/plain": [
       "свадьба                                   797\n",
       "на проведение свадьбы                     777\n",
       "сыграть свадьбу                           774\n",
       "операции с недвижимостью                  676\n",
       "покупка коммерческой недвижимости         664\n",
       "операции с жильем                         653\n",
       "покупка жилья для сдачи                   653\n",
       "операции с коммерческой недвижимостью     651\n",
       "покупка жилья                             647\n",
       "жилье                                     647\n",
       "покупка жилья для семьи                   641\n",
       "строительство собственной недвижимости    635\n",
       "недвижимость                              634\n",
       "операции со своей недвижимостью           630\n",
       "строительство жилой недвижимости          626\n",
       "покупка недвижимости                      624\n",
       "покупка своего жилья                      620\n",
       "строительство недвижимости                620\n",
       "ремонт жилью                              612\n",
       "покупка жилой недвижимости                607\n",
       "на покупку своего автомобиля              505\n",
       "заняться высшим образованием              496\n",
       "автомобиль                                495\n",
       "сделка с подержанным автомобилем          489\n",
       "свой автомобиль                           480\n",
       "на покупку подержанного автомобиля        479\n",
       "автомобили                                478\n",
       "на покупку автомобиля                     472\n",
       "приобретение автомобиля                   462\n",
       "дополнительное образование                462\n",
       "сделка с автомобилем                      455\n",
       "высшее образование                        453\n",
       "получение дополнительного образования     447\n",
       "образование                               447\n",
       "получение образования                     443\n",
       "профильное образование                    436\n",
       "получение высшего образования             426\n",
       "заняться образованием                     412\n",
       "Name: purpose, dtype: int64"
      ]
     },
     "execution_count": 18,
     "metadata": {},
     "output_type": "execute_result"
    }
   ],
   "source": [
    "df['purpose'].value_counts() # подсчет уникальных значений в колонке purpose"
   ]
  },
  {
   "cell_type": "code",
   "execution_count": 19,
   "metadata": {
    "scrolled": true
   },
   "outputs": [
    {
     "data": {
      "text/plain": [
       "38"
      ]
     },
     "execution_count": 19,
     "metadata": {},
     "output_type": "execute_result"
    }
   ],
   "source": [
    "len(df['purpose'].value_counts()) # подсчет длины списка уникальных значений в колонке debt"
   ]
  },
  {
   "cell_type": "markdown",
   "metadata": {},
   "source": [
    "В колонке `purpose` имеется 38 уникальных целей кредита. В дальнейшем эти данные будет необходимо уточнить с помощью лемматизации."
   ]
  },
  {
   "cell_type": "markdown",
   "metadata": {},
   "source": [
    "**Вывод**"
   ]
  },
  {
   "cell_type": "markdown",
   "metadata": {},
   "source": [
    "При изучении датасета мы определили, что необходимые для нашего исследования данные содержатся в следующих колонках:   \n",
    "`children` — количество детей в семье  \n",
    "`family_status` — семейное положение  \n",
    "`debt` — имел ли задолженность по возврату кредитов  \n",
    "`total_income` — ежемесячный доход  \n",
    "`purpose` — цель получения кредита\n",
    "\n",
    "Предварительно можно утверждать, что, данных достаточно для проверки гипотез, однако, мы выявили следующие проблемы в данных, которые будет необходимо устранить на этапе предобработки:  \n",
    "1. В колонке `children` есть неявные дубликаты.\n",
    "2. В колонке `total_income` есть пропущенные значения.\n",
    "\n",
    "Также на этапе предобработки будет необходимо произвести поиск и удаление явных дубликатов."
   ]
  },
  {
   "cell_type": "markdown",
   "metadata": {},
   "source": [
    "## Предобработка данных"
   ]
  },
  {
   "cell_type": "markdown",
   "metadata": {},
   "source": [
    "### Обработка пропусков  \n",
    "\n",
    "Сначала посчитаем, сколько в таблице пропущенных значений:"
   ]
  },
  {
   "cell_type": "code",
   "execution_count": 20,
   "metadata": {
    "scrolled": true
   },
   "outputs": [
    {
     "data": {
      "text/plain": [
       "children               0\n",
       "days_employed       2174\n",
       "dob_years              0\n",
       "education              0\n",
       "education_id           0\n",
       "family_status          0\n",
       "family_status_id       0\n",
       "gender                 0\n",
       "income_type            0\n",
       "debt                   0\n",
       "total_income        2174\n",
       "purpose                0\n",
       "dtype: int64"
      ]
     },
     "execution_count": 20,
     "metadata": {},
     "output_type": "execute_result"
    }
   ],
   "source": [
    "df.isna().sum() # подсчёт пропусков"
   ]
  },
  {
   "cell_type": "markdown",
   "metadata": {},
   "source": [
    "Пропуски имеются в двух колонках: `days_employed` и `total_income`."
   ]
  },
  {
   "cell_type": "markdown",
   "metadata": {},
   "source": [
    "Для того, чтобы заменить или восстановить пропущенные значения, детально изучим эти колонки. "
   ]
  },
  {
   "cell_type": "code",
   "execution_count": 21,
   "metadata": {},
   "outputs": [
    {
     "data": {
      "text/plain": [
       "0     -8437.673028\n",
       "1     -4024.803754\n",
       "2     -5623.422610\n",
       "3     -4124.747207\n",
       "4    340266.072047\n",
       "5      -926.185831\n",
       "6     -2879.202052\n",
       "7      -152.779569\n",
       "8     -6929.865299\n",
       "9     -2188.756445\n",
       "Name: days_employed, dtype: float64"
      ]
     },
     "execution_count": 21,
     "metadata": {},
     "output_type": "execute_result"
    }
   ],
   "source": [
    "df['days_employed'].head(10) # получение первых 10 значений колонки days_employed"
   ]
  },
  {
   "cell_type": "markdown",
   "metadata": {},
   "source": [
    "Мы видим, что в колонке имеются отрицательные значения, а также неправдоподобно большие значения, например, в пятой строке трудовой стаж составляет больше 340 тысяч дней!  \n",
    "\n",
    "Предположим, что отрицательные значения появились из-за ошибки при внесении данных и приведем все значения в колонке к абсолютным, а затем посмотрим диапазон значений."
   ]
  },
  {
   "cell_type": "code",
   "execution_count": 22,
   "metadata": {},
   "outputs": [],
   "source": [
    "df['days_employed'] = abs(df['days_employed']) # приведение значений колонки days_employed к абсолютным"
   ]
  },
  {
   "cell_type": "code",
   "execution_count": 23,
   "metadata": {},
   "outputs": [
    {
     "data": {
      "text/plain": [
       "24.14163324048118"
      ]
     },
     "execution_count": 23,
     "metadata": {},
     "output_type": "execute_result"
    }
   ],
   "source": [
    "df['days_employed'].min() # получение минимального значения "
   ]
  },
  {
   "cell_type": "code",
   "execution_count": 24,
   "metadata": {
    "scrolled": true
   },
   "outputs": [
    {
     "data": {
      "text/plain": [
       "401755.40047533"
      ]
     },
     "execution_count": 24,
     "metadata": {},
     "output_type": "execute_result"
    }
   ],
   "source": [
    "df['days_employed'].max() # получение макимального значения"
   ]
  },
  {
   "cell_type": "markdown",
   "metadata": {},
   "source": [
    "Получается, что минимальный трудовой стаж составил 24 дня, а максимальный больше 1000 лет!"
   ]
  },
  {
   "cell_type": "markdown",
   "metadata": {},
   "source": [
    "Теперь изучим колонку `total_income`."
   ]
  },
  {
   "cell_type": "code",
   "execution_count": 25,
   "metadata": {
    "scrolled": false
   },
   "outputs": [
    {
     "data": {
      "text/plain": [
       "0    253875.639453\n",
       "1    112080.014102\n",
       "2    145885.952297\n",
       "3    267628.550329\n",
       "4    158616.077870\n",
       "5    255763.565419\n",
       "6    240525.971920\n",
       "7    135823.934197\n",
       "8     95856.832424\n",
       "9    144425.938277\n",
       "Name: total_income, dtype: float64"
      ]
     },
     "execution_count": 25,
     "metadata": {},
     "output_type": "execute_result"
    }
   ],
   "source": [
    "df['total_income'].head(10) # получение первых 10 значений колонки total_income"
   ]
  },
  {
   "cell_type": "markdown",
   "metadata": {},
   "source": [
    "Изучим диапазон значений в колонке."
   ]
  },
  {
   "cell_type": "code",
   "execution_count": 26,
   "metadata": {
    "scrolled": true
   },
   "outputs": [
    {
     "data": {
      "text/plain": [
       "2265604.028722744"
      ]
     },
     "execution_count": 26,
     "metadata": {},
     "output_type": "execute_result"
    }
   ],
   "source": [
    "df['total_income'].max() # получение макимального значения"
   ]
  },
  {
   "cell_type": "code",
   "execution_count": 27,
   "metadata": {
    "scrolled": true
   },
   "outputs": [
    {
     "data": {
      "text/plain": [
       "20667.26379327158"
      ]
     },
     "execution_count": 27,
     "metadata": {},
     "output_type": "execute_result"
    }
   ],
   "source": [
    "df['total_income'].min() # получение минимального значения "
   ]
  },
  {
   "cell_type": "code",
   "execution_count": 28,
   "metadata": {},
   "outputs": [
    {
     "data": {
      "text/plain": [
       "167422.30220817294"
      ]
     },
     "execution_count": 28,
     "metadata": {},
     "output_type": "execute_result"
    }
   ],
   "source": [
    "df['total_income'].mean() # получение среднего значения"
   ]
  },
  {
   "cell_type": "code",
   "execution_count": 29,
   "metadata": {
    "scrolled": true
   },
   "outputs": [
    {
     "data": {
      "text/plain": [
       "145017.93753253992"
      ]
     },
     "execution_count": 29,
     "metadata": {},
     "output_type": "execute_result"
    }
   ],
   "source": [
    "df['total_income'].median() # получение медианы"
   ]
  },
  {
   "cell_type": "markdown",
   "metadata": {},
   "source": [
    "Ежемесячный доход клиентов находится в диапазоне от ~20 тысяч до ~2 миллионов рублей в месяц. Средний и медианных доход различаются не сильно. Таким образом, мы считаем, что данные указаны корректно, а пропуски в данных связаны с ошибками при их внесении."
   ]
  },
  {
   "cell_type": "markdown",
   "metadata": {},
   "source": [
    "Заполняем пропущенные значения в колонке `total_income` медианными."
   ]
  },
  {
   "cell_type": "code",
   "execution_count": 30,
   "metadata": {},
   "outputs": [],
   "source": [
    "df['total_income'] = df['total_income'].fillna(df['total_income'].median()) # заполнение пропущенных значений"
   ]
  },
  {
   "cell_type": "markdown",
   "metadata": {},
   "source": [
    "В колонке `days_employed` указано слишком много некорректных данных. Так как значения этой колонки не представляют интереса для проведения нашего исследования, то целесообразно ее удалить."
   ]
  },
  {
   "cell_type": "code",
   "execution_count": 31,
   "metadata": {},
   "outputs": [],
   "source": [
    "df.dropna(axis = 'columns', inplace = True) # удаление колонок с пропущенными значениями"
   ]
  },
  {
   "cell_type": "markdown",
   "metadata": {},
   "source": [
    "Убедимся, что в таблице не осталось пропусков. Для этого ещё раз посчитаем пропущенные значения."
   ]
  },
  {
   "cell_type": "code",
   "execution_count": 32,
   "metadata": {
    "scrolled": true
   },
   "outputs": [
    {
     "data": {
      "text/plain": [
       "children            0\n",
       "dob_years           0\n",
       "education           0\n",
       "education_id        0\n",
       "family_status       0\n",
       "family_status_id    0\n",
       "gender              0\n",
       "income_type         0\n",
       "debt                0\n",
       "total_income        0\n",
       "purpose             0\n",
       "dtype: int64"
      ]
     },
     "execution_count": 32,
     "metadata": {},
     "output_type": "execute_result"
    }
   ],
   "source": [
    "df.isna().sum() # подсчёт пропусков"
   ]
  },
  {
   "cell_type": "markdown",
   "metadata": {},
   "source": [
    "**Вывод**"
   ]
  },
  {
   "cell_type": "markdown",
   "metadata": {},
   "source": [
    "Пропуски имелись в двух колонках: `days_employed` и `total_income`. В колонке `total_income` мы заполнили пропуски медианными значениями ежемесячного дохода, а колонку `days_employed` удалили, так как в значениях было слишком много ошибок, а ценности для нашего исследования она не представляла."
   ]
  },
  {
   "cell_type": "markdown",
   "metadata": {},
   "source": [
    "### Замена типа данных"
   ]
  },
  {
   "cell_type": "markdown",
   "metadata": {},
   "source": [
    "Ранее при изучении колонки `total_income` мы определили, что значения в ней указаны в виде вещественных чисел. Для большей наглядности и удобства операций с этими значениями переведем значения колонки в целочисленные."
   ]
  },
  {
   "cell_type": "code",
   "execution_count": 33,
   "metadata": {},
   "outputs": [],
   "source": [
    "df['total_income'] = df['total_income'].astype('int') # преобразование значений колонки total_income в целочисленные"
   ]
  },
  {
   "cell_type": "markdown",
   "metadata": {},
   "source": [
    "### Обработка дубликатов"
   ]
  },
  {
   "cell_type": "markdown",
   "metadata": {},
   "source": [
    "Посчитаем явные дубликаты в таблице, но перед этим приведем значения колонки `education` к нижнему регистру:"
   ]
  },
  {
   "cell_type": "code",
   "execution_count": 34,
   "metadata": {
    "scrolled": false
   },
   "outputs": [],
   "source": [
    "df['education'] = df['education'].str.lower() # перевод значений колонки education в нижний регистр"
   ]
  },
  {
   "cell_type": "code",
   "execution_count": 35,
   "metadata": {
    "scrolled": true
   },
   "outputs": [
    {
     "data": {
      "text/plain": [
       "'Количество дубликатов 71'"
      ]
     },
     "execution_count": 35,
     "metadata": {},
     "output_type": "execute_result"
    }
   ],
   "source": [
    "f'Количество дубликатов {df.duplicated().sum()}' # подсчёт явных дубликатов"
   ]
  },
  {
   "cell_type": "markdown",
   "metadata": {},
   "source": [
    "Вызовем специальный метод pandas, чтобы удалить явные дубликаты:"
   ]
  },
  {
   "cell_type": "code",
   "execution_count": 36,
   "metadata": {
    "scrolled": true
   },
   "outputs": [],
   "source": [
    "df = df.drop_duplicates().reset_index(drop = True) # удаление явных дубликатов с удалением старых индексов и формированием новых"
   ]
  },
  {
   "cell_type": "markdown",
   "metadata": {},
   "source": [
    "Проверим, что дубликаты устранены:"
   ]
  },
  {
   "cell_type": "code",
   "execution_count": 37,
   "metadata": {},
   "outputs": [
    {
     "data": {
      "text/plain": [
       "'Количество дубликатов 0'"
      ]
     },
     "execution_count": 37,
     "metadata": {},
     "output_type": "execute_result"
    }
   ],
   "source": [
    "f'Количество дубликатов {df.duplicated().sum()}' # подсчёт явных дубликатов"
   ]
  },
  {
   "cell_type": "markdown",
   "metadata": {},
   "source": [
    "Ранее мы обнаружили в колонке `children` неявные дубликаты: -1 вместо 1 и 20 вместо 2.  \n",
    "Для того, чтобы избавиться от дубликатов, приведем значения колонки к абсолютным и заменим 20 на 2 с помощью специального метода pandas:"
   ]
  },
  {
   "cell_type": "code",
   "execution_count": 38,
   "metadata": {},
   "outputs": [],
   "source": [
    "df['children'] = abs(df['children']) # приведение значений колонки children к абсолютным"
   ]
  },
  {
   "cell_type": "code",
   "execution_count": 39,
   "metadata": {},
   "outputs": [],
   "source": [
    "df['children'] = df['children'].replace(20, 2) # устранение неявного дубликата"
   ]
  },
  {
   "cell_type": "markdown",
   "metadata": {},
   "source": [
    "Проверим, что дубликаты устранены:"
   ]
  },
  {
   "cell_type": "code",
   "execution_count": 40,
   "metadata": {},
   "outputs": [
    {
     "data": {
      "text/plain": [
       "0    14091\n",
       "1     4855\n",
       "2     2128\n",
       "3      330\n",
       "4       41\n",
       "5        9\n",
       "Name: children, dtype: int64"
      ]
     },
     "execution_count": 40,
     "metadata": {},
     "output_type": "execute_result"
    }
   ],
   "source": [
    "df['children'].value_counts() # подсчет уникальных значений колонки children"
   ]
  },
  {
   "cell_type": "markdown",
   "metadata": {},
   "source": [
    "**Вывод**"
   ]
  },
  {
   "cell_type": "markdown",
   "metadata": {},
   "source": [
    "Мы обнаружили 71 явный дубликат в датасете и 2 варианта неявных дубликатов в колонке `children` и устранили их."
   ]
  },
  {
   "cell_type": "markdown",
   "metadata": {},
   "source": [
    "### Лемматизация"
   ]
  },
  {
   "cell_type": "markdown",
   "metadata": {},
   "source": [
    "Уточним уникальные цели кредита с помощью лемматизации.  \n",
    "Для этого импортируем из библиотеки pymystem3 функцию леммаизации Mystem."
   ]
  },
  {
   "cell_type": "code",
   "execution_count": 33,
   "metadata": {
    "scrolled": true
   },
   "outputs": [],
   "source": [
    "from pymystem3 import Mystem # импорт функции лемматизации Mystem\n",
    "m = Mystem()"
   ]
  },
  {
   "cell_type": "markdown",
   "metadata": {},
   "source": [
    "Создаем series с уникальными значениями целей кредита."
   ]
  },
  {
   "cell_type": "code",
   "execution_count": 34,
   "metadata": {},
   "outputs": [],
   "source": [
    "purpose_list = df['purpose'].unique() # сохранение series со значениями целей кредита в переменную"
   ]
  },
  {
   "cell_type": "markdown",
   "metadata": {},
   "source": [
    "Создаем пустой список для сохранения в него лемматизированных целей кредита и заполняем его с помощью цикла."
   ]
  },
  {
   "cell_type": "code",
   "execution_count": 35,
   "metadata": {},
   "outputs": [],
   "source": [
    "lemmas = [] # создание пустого списка"
   ]
  },
  {
   "cell_type": "code",
   "execution_count": 36,
   "metadata": {},
   "outputs": [],
   "source": [
    "# каждую строчку в 'purpose_list' лемматизируем, получаем список лемм и добавляем значения в пустой список 'lemmas'\n",
    "for purpose in purpose_list:\n",
    "    lemma = m.lemmatize(purpose)\n",
    "    lemmas.append(lemma)"
   ]
  },
  {
   "cell_type": "code",
   "execution_count": 37,
   "metadata": {},
   "outputs": [
    {
     "data": {
      "text/plain": [
       "[['покупка', ' ', 'жилье', '\\n'],\n",
       " ['приобретение', ' ', 'автомобиль', '\\n'],\n",
       " ['дополнительный', ' ', 'образование', '\\n'],\n",
       " ['сыграть', ' ', 'свадьба', '\\n'],\n",
       " ['операция', ' ', 'с', ' ', 'жилье', '\\n'],\n",
       " ['образование', '\\n'],\n",
       " ['на', ' ', 'проведение', ' ', 'свадьба', '\\n'],\n",
       " ['покупка', ' ', 'жилье', ' ', 'для', ' ', 'семья', '\\n'],\n",
       " ['покупка', ' ', 'недвижимость', '\\n'],\n",
       " ['покупка', ' ', 'коммерческий', ' ', 'недвижимость', '\\n'],\n",
       " ['покупка', ' ', 'жилой', ' ', 'недвижимость', '\\n'],\n",
       " ['строительство', ' ', 'собственный', ' ', 'недвижимость', '\\n'],\n",
       " ['недвижимость', '\\n'],\n",
       " ['строительство', ' ', 'недвижимость', '\\n'],\n",
       " ['на', ' ', 'покупка', ' ', 'подержать', ' ', 'автомобиль', '\\n'],\n",
       " ['на', ' ', 'покупка', ' ', 'свой', ' ', 'автомобиль', '\\n'],\n",
       " ['операция', ' ', 'с', ' ', 'коммерческий', ' ', 'недвижимость', '\\n'],\n",
       " ['строительство', ' ', 'жилой', ' ', 'недвижимость', '\\n'],\n",
       " ['жилье', '\\n'],\n",
       " ['операция', ' ', 'со', ' ', 'свой', ' ', 'недвижимость', '\\n'],\n",
       " ['автомобиль', '\\n'],\n",
       " ['заниматься', ' ', 'образование', '\\n'],\n",
       " ['сделка', ' ', 'с', ' ', 'подержанный', ' ', 'автомобиль', '\\n'],\n",
       " ['получение', ' ', 'образование', '\\n'],\n",
       " ['автомобиль', '\\n'],\n",
       " ['свадьба', '\\n'],\n",
       " ['получение', ' ', 'дополнительный', ' ', 'образование', '\\n'],\n",
       " ['покупка', ' ', 'свой', ' ', 'жилье', '\\n'],\n",
       " ['операция', ' ', 'с', ' ', 'недвижимость', '\\n'],\n",
       " ['получение', ' ', 'высокий', ' ', 'образование', '\\n'],\n",
       " ['свой', ' ', 'автомобиль', '\\n'],\n",
       " ['сделка', ' ', 'с', ' ', 'автомобиль', '\\n'],\n",
       " ['профильный', ' ', 'образование', '\\n'],\n",
       " ['высокий', ' ', 'образование', '\\n'],\n",
       " ['покупка', ' ', 'жилье', ' ', 'для', ' ', 'сдача', '\\n'],\n",
       " ['на', ' ', 'покупка', ' ', 'автомобиль', '\\n'],\n",
       " ['ремонт', ' ', 'жилье', '\\n'],\n",
       " ['заниматься', ' ', 'высокий', ' ', 'образование', '\\n']]"
      ]
     },
     "execution_count": 37,
     "metadata": {},
     "output_type": "execute_result"
    }
   ],
   "source": [
    "lemmas # выводим список на экран"
   ]
  },
  {
   "cell_type": "markdown",
   "metadata": {},
   "source": [
    "**Вывод**"
   ]
  },
  {
   "cell_type": "markdown",
   "metadata": {},
   "source": [
    "По результатам лемматизации мы определили, что все цели кредита можно свести к четырем категориям: операции с недвижимостью, покупка автомобиля, образование и расходы на свадьбу."
   ]
  },
  {
   "cell_type": "markdown",
   "metadata": {},
   "source": [
    "### Категоризация данных"
   ]
  },
  {
   "cell_type": "markdown",
   "metadata": {},
   "source": [
    "Как мы определили выше, для проверки гипотез нам необходимы данные из колонок `children`, `family_status`, `debt`,`total_income` и `purpose`, однако, не все данные представлены в удобном для анализа виде.  \n",
    "Если в колонках `children` и  `family_status` имеется всего по пять уникальных значений, то колонке `total_income` уникальных значений очень много, а вколонке purpose имеется 38 вариантов формулировки целей, хотя, как мы уже установили, их всего четыре. В этих случаях необходимо произвести категоризацию данных.  \n",
    "Также, для большей наглядности и удобства построения сводных таблиц, мы приняли решение произвести категоризацию данных из колонки `debt`."
   ]
  },
  {
   "cell_type": "markdown",
   "metadata": {},
   "source": [
    "Создадим новую колонку для категорий целей кредита. Для этого создадим функцию, которая разобьет цели по четырем категориям, а затем, для проверки результата подсчитаем количество значений в каждой категории."
   ]
  },
  {
   "cell_type": "code",
   "execution_count": 41,
   "metadata": {},
   "outputs": [],
   "source": [
    "# разбиваем на категории по леммам: \"Жилье/недвижимость\", \"автомобиль\", \"образование\", \"свадьба\" \n",
    "def purpose_to_category(purpose):\n",
    "    if 'авто' in purpose:\n",
    "        return 'автомобиль'\n",
    "    elif 'свад' in purpose:\n",
    "        return  'свадьба'\n",
    "    elif 'образован' in purpose:\n",
    "        return 'образование'\n",
    "    elif 'недвиж' or 'жил' in purpose:\n",
    "        return  'недвижимость'"
   ]
  },
  {
   "cell_type": "code",
   "execution_count": 42,
   "metadata": {},
   "outputs": [],
   "source": [
    "df['purpose_category']= df['purpose'].apply(purpose_to_category) # создаем новую колонку для категорий"
   ]
  },
  {
   "cell_type": "code",
   "execution_count": 43,
   "metadata": {
    "scrolled": false
   },
   "outputs": [
    {
     "data": {
      "text/plain": [
       "недвижимость    10811\n",
       "автомобиль       4306\n",
       "образование      4013\n",
       "свадьба          2324\n",
       "Name: purpose_category, dtype: int64"
      ]
     },
     "execution_count": 43,
     "metadata": {},
     "output_type": "execute_result"
    }
   ],
   "source": [
    "df['purpose_category'].value_counts() # проверяем результат категоризации"
   ]
  },
  {
   "cell_type": "markdown",
   "metadata": {},
   "source": [
    "Создадим новую колонку для категорий ежемесячного дохода.  \n",
    "Ранее мы установили, что ежемесячный доход клиентов находится в диапазоне от ~20 тысяч до ~2 миллионов рублей в месяц. Средний и медианных доход различаются не сильно и составляют ~167 тысяч и ~145 тысяч рублей соответственно.   \n",
    "На основании этих данных мы определили четыре категории ежемесячного дохода: \"низкий доход\", \"средний доход\", \"высокий доход\" и \"очень высокий доход\".  \n",
    "Создадим функцию, которая разобьет цели по этим категориям, а затем, для проверки результата подсчитаем количество значений в каждой категории."
   ]
  },
  {
   "cell_type": "code",
   "execution_count": 44,
   "metadata": {},
   "outputs": [],
   "source": [
    "# разбиваем ежемесячный доход на категории\n",
    "def total_income_to_category(total_income):\n",
    "    if total_income <= 75000:\n",
    "        return 'низкий доход'\n",
    "    if 75001 <= total_income <= 150000:\n",
    "        return 'средний доход'\n",
    "    elif 150001 <= total_income <= 500000:\n",
    "        return  'высокий доход'\n",
    "    elif 500001 <= total_income:\n",
    "        return 'очень высокий доход'"
   ]
  },
  {
   "cell_type": "code",
   "execution_count": 45,
   "metadata": {},
   "outputs": [],
   "source": [
    "df['total_income_category']= df['total_income'].apply(total_income_to_category) # создаем новую колонку для категорий"
   ]
  },
  {
   "cell_type": "code",
   "execution_count": 46,
   "metadata": {
    "scrolled": true
   },
   "outputs": [
    {
     "data": {
      "text/plain": [
       "средний доход          10405\n",
       "высокий доход           8962\n",
       "низкий доход            1865\n",
       "очень высокий доход      222\n",
       "Name: total_income_category, dtype: int64"
      ]
     },
     "execution_count": 46,
     "metadata": {},
     "output_type": "execute_result"
    }
   ],
   "source": [
    "df['total_income_category'].value_counts() # проверяем результат категоризации"
   ]
  },
  {
   "cell_type": "markdown",
   "metadata": {},
   "source": [
    "Создадим новую колонку для категорий по факту наличия или отсутствия задолженности клиентов перед банком: 'должник', если клиент не вернул кредит вовремя, и 'вернул кредит'."
   ]
  },
  {
   "cell_type": "code",
   "execution_count": 47,
   "metadata": {},
   "outputs": [],
   "source": [
    "# разбиваем колонку debt на категории\n",
    "def debt_to_category(debt):\n",
    "    if debt > 0:\n",
    "        return 'должник'\n",
    "    else:\n",
    "        return 'вернул кредит'"
   ]
  },
  {
   "cell_type": "code",
   "execution_count": 48,
   "metadata": {},
   "outputs": [],
   "source": [
    "df['debt_category'] = df['debt'].apply(debt_to_category) # создаем новую колонку для категорий"
   ]
  },
  {
   "cell_type": "markdown",
   "metadata": {},
   "source": [
    "Проверим результаты предобработки данных:"
   ]
  },
  {
   "cell_type": "code",
   "execution_count": 49,
   "metadata": {
    "scrolled": true
   },
   "outputs": [
    {
     "data": {
      "text/html": [
       "<div>\n",
       "<style scoped>\n",
       "    .dataframe tbody tr th:only-of-type {\n",
       "        vertical-align: middle;\n",
       "    }\n",
       "\n",
       "    .dataframe tbody tr th {\n",
       "        vertical-align: top;\n",
       "    }\n",
       "\n",
       "    .dataframe thead th {\n",
       "        text-align: right;\n",
       "    }\n",
       "</style>\n",
       "<table border=\"1\" class=\"dataframe\">\n",
       "  <thead>\n",
       "    <tr style=\"text-align: right;\">\n",
       "      <th></th>\n",
       "      <th>children</th>\n",
       "      <th>dob_years</th>\n",
       "      <th>education</th>\n",
       "      <th>education_id</th>\n",
       "      <th>family_status</th>\n",
       "      <th>family_status_id</th>\n",
       "      <th>gender</th>\n",
       "      <th>income_type</th>\n",
       "      <th>debt</th>\n",
       "      <th>total_income</th>\n",
       "      <th>purpose</th>\n",
       "      <th>purpose_category</th>\n",
       "      <th>total_income_category</th>\n",
       "      <th>debt_category</th>\n",
       "    </tr>\n",
       "  </thead>\n",
       "  <tbody>\n",
       "    <tr>\n",
       "      <td>0</td>\n",
       "      <td>1</td>\n",
       "      <td>42</td>\n",
       "      <td>высшее</td>\n",
       "      <td>0</td>\n",
       "      <td>женат / замужем</td>\n",
       "      <td>0</td>\n",
       "      <td>F</td>\n",
       "      <td>сотрудник</td>\n",
       "      <td>0</td>\n",
       "      <td>253875</td>\n",
       "      <td>покупка жилья</td>\n",
       "      <td>недвижимость</td>\n",
       "      <td>высокий доход</td>\n",
       "      <td>вернул кредит</td>\n",
       "    </tr>\n",
       "    <tr>\n",
       "      <td>1</td>\n",
       "      <td>1</td>\n",
       "      <td>36</td>\n",
       "      <td>среднее</td>\n",
       "      <td>1</td>\n",
       "      <td>женат / замужем</td>\n",
       "      <td>0</td>\n",
       "      <td>F</td>\n",
       "      <td>сотрудник</td>\n",
       "      <td>0</td>\n",
       "      <td>112080</td>\n",
       "      <td>приобретение автомобиля</td>\n",
       "      <td>автомобиль</td>\n",
       "      <td>средний доход</td>\n",
       "      <td>вернул кредит</td>\n",
       "    </tr>\n",
       "    <tr>\n",
       "      <td>2</td>\n",
       "      <td>0</td>\n",
       "      <td>33</td>\n",
       "      <td>среднее</td>\n",
       "      <td>1</td>\n",
       "      <td>женат / замужем</td>\n",
       "      <td>0</td>\n",
       "      <td>M</td>\n",
       "      <td>сотрудник</td>\n",
       "      <td>0</td>\n",
       "      <td>145885</td>\n",
       "      <td>покупка жилья</td>\n",
       "      <td>недвижимость</td>\n",
       "      <td>средний доход</td>\n",
       "      <td>вернул кредит</td>\n",
       "    </tr>\n",
       "    <tr>\n",
       "      <td>3</td>\n",
       "      <td>3</td>\n",
       "      <td>32</td>\n",
       "      <td>среднее</td>\n",
       "      <td>1</td>\n",
       "      <td>женат / замужем</td>\n",
       "      <td>0</td>\n",
       "      <td>M</td>\n",
       "      <td>сотрудник</td>\n",
       "      <td>0</td>\n",
       "      <td>267628</td>\n",
       "      <td>дополнительное образование</td>\n",
       "      <td>образование</td>\n",
       "      <td>высокий доход</td>\n",
       "      <td>вернул кредит</td>\n",
       "    </tr>\n",
       "    <tr>\n",
       "      <td>4</td>\n",
       "      <td>0</td>\n",
       "      <td>53</td>\n",
       "      <td>среднее</td>\n",
       "      <td>1</td>\n",
       "      <td>гражданский брак</td>\n",
       "      <td>1</td>\n",
       "      <td>F</td>\n",
       "      <td>пенсионер</td>\n",
       "      <td>0</td>\n",
       "      <td>158616</td>\n",
       "      <td>сыграть свадьбу</td>\n",
       "      <td>свадьба</td>\n",
       "      <td>высокий доход</td>\n",
       "      <td>вернул кредит</td>\n",
       "    </tr>\n",
       "    <tr>\n",
       "      <td>5</td>\n",
       "      <td>0</td>\n",
       "      <td>27</td>\n",
       "      <td>высшее</td>\n",
       "      <td>0</td>\n",
       "      <td>гражданский брак</td>\n",
       "      <td>1</td>\n",
       "      <td>M</td>\n",
       "      <td>компаньон</td>\n",
       "      <td>0</td>\n",
       "      <td>255763</td>\n",
       "      <td>покупка жилья</td>\n",
       "      <td>недвижимость</td>\n",
       "      <td>высокий доход</td>\n",
       "      <td>вернул кредит</td>\n",
       "    </tr>\n",
       "    <tr>\n",
       "      <td>6</td>\n",
       "      <td>0</td>\n",
       "      <td>43</td>\n",
       "      <td>высшее</td>\n",
       "      <td>0</td>\n",
       "      <td>женат / замужем</td>\n",
       "      <td>0</td>\n",
       "      <td>F</td>\n",
       "      <td>компаньон</td>\n",
       "      <td>0</td>\n",
       "      <td>240525</td>\n",
       "      <td>операции с жильем</td>\n",
       "      <td>недвижимость</td>\n",
       "      <td>высокий доход</td>\n",
       "      <td>вернул кредит</td>\n",
       "    </tr>\n",
       "    <tr>\n",
       "      <td>7</td>\n",
       "      <td>0</td>\n",
       "      <td>50</td>\n",
       "      <td>среднее</td>\n",
       "      <td>1</td>\n",
       "      <td>женат / замужем</td>\n",
       "      <td>0</td>\n",
       "      <td>M</td>\n",
       "      <td>сотрудник</td>\n",
       "      <td>0</td>\n",
       "      <td>135823</td>\n",
       "      <td>образование</td>\n",
       "      <td>образование</td>\n",
       "      <td>средний доход</td>\n",
       "      <td>вернул кредит</td>\n",
       "    </tr>\n",
       "    <tr>\n",
       "      <td>8</td>\n",
       "      <td>2</td>\n",
       "      <td>35</td>\n",
       "      <td>высшее</td>\n",
       "      <td>0</td>\n",
       "      <td>гражданский брак</td>\n",
       "      <td>1</td>\n",
       "      <td>F</td>\n",
       "      <td>сотрудник</td>\n",
       "      <td>0</td>\n",
       "      <td>95856</td>\n",
       "      <td>на проведение свадьбы</td>\n",
       "      <td>свадьба</td>\n",
       "      <td>средний доход</td>\n",
       "      <td>вернул кредит</td>\n",
       "    </tr>\n",
       "    <tr>\n",
       "      <td>9</td>\n",
       "      <td>0</td>\n",
       "      <td>41</td>\n",
       "      <td>среднее</td>\n",
       "      <td>1</td>\n",
       "      <td>женат / замужем</td>\n",
       "      <td>0</td>\n",
       "      <td>M</td>\n",
       "      <td>сотрудник</td>\n",
       "      <td>0</td>\n",
       "      <td>144425</td>\n",
       "      <td>покупка жилья для семьи</td>\n",
       "      <td>недвижимость</td>\n",
       "      <td>средний доход</td>\n",
       "      <td>вернул кредит</td>\n",
       "    </tr>\n",
       "  </tbody>\n",
       "</table>\n",
       "</div>"
      ],
      "text/plain": [
       "   children  dob_years education  education_id     family_status  \\\n",
       "0         1         42    высшее             0   женат / замужем   \n",
       "1         1         36   среднее             1   женат / замужем   \n",
       "2         0         33   среднее             1   женат / замужем   \n",
       "3         3         32   среднее             1   женат / замужем   \n",
       "4         0         53   среднее             1  гражданский брак   \n",
       "5         0         27    высшее             0  гражданский брак   \n",
       "6         0         43    высшее             0   женат / замужем   \n",
       "7         0         50   среднее             1   женат / замужем   \n",
       "8         2         35    высшее             0  гражданский брак   \n",
       "9         0         41   среднее             1   женат / замужем   \n",
       "\n",
       "   family_status_id gender income_type  debt  total_income  \\\n",
       "0                 0      F   сотрудник     0        253875   \n",
       "1                 0      F   сотрудник     0        112080   \n",
       "2                 0      M   сотрудник     0        145885   \n",
       "3                 0      M   сотрудник     0        267628   \n",
       "4                 1      F   пенсионер     0        158616   \n",
       "5                 1      M   компаньон     0        255763   \n",
       "6                 0      F   компаньон     0        240525   \n",
       "7                 0      M   сотрудник     0        135823   \n",
       "8                 1      F   сотрудник     0         95856   \n",
       "9                 0      M   сотрудник     0        144425   \n",
       "\n",
       "                      purpose purpose_category total_income_category  \\\n",
       "0               покупка жилья     недвижимость         высокий доход   \n",
       "1     приобретение автомобиля       автомобиль         средний доход   \n",
       "2               покупка жилья     недвижимость         средний доход   \n",
       "3  дополнительное образование      образование         высокий доход   \n",
       "4             сыграть свадьбу          свадьба         высокий доход   \n",
       "5               покупка жилья     недвижимость         высокий доход   \n",
       "6           операции с жильем     недвижимость         высокий доход   \n",
       "7                 образование      образование         средний доход   \n",
       "8       на проведение свадьбы          свадьба         средний доход   \n",
       "9     покупка жилья для семьи     недвижимость         средний доход   \n",
       "\n",
       "   debt_category  \n",
       "0  вернул кредит  \n",
       "1  вернул кредит  \n",
       "2  вернул кредит  \n",
       "3  вернул кредит  \n",
       "4  вернул кредит  \n",
       "5  вернул кредит  \n",
       "6  вернул кредит  \n",
       "7  вернул кредит  \n",
       "8  вернул кредит  \n",
       "9  вернул кредит  "
      ]
     },
     "execution_count": 49,
     "metadata": {},
     "output_type": "execute_result"
    }
   ],
   "source": [
    "df.head(10) # получение первых 10 строк таблицы df"
   ]
  },
  {
   "cell_type": "code",
   "execution_count": 50,
   "metadata": {
    "scrolled": true
   },
   "outputs": [
    {
     "name": "stdout",
     "output_type": "stream",
     "text": [
      "<class 'pandas.core.frame.DataFrame'>\n",
      "RangeIndex: 21454 entries, 0 to 21453\n",
      "Data columns (total 14 columns):\n",
      "children                 21454 non-null int64\n",
      "dob_years                21454 non-null int64\n",
      "education                21454 non-null object\n",
      "education_id             21454 non-null int64\n",
      "family_status            21454 non-null object\n",
      "family_status_id         21454 non-null int64\n",
      "gender                   21454 non-null object\n",
      "income_type              21454 non-null object\n",
      "debt                     21454 non-null int64\n",
      "total_income             21454 non-null int32\n",
      "purpose                  21454 non-null object\n",
      "purpose_category         21454 non-null object\n",
      "total_income_category    21454 non-null object\n",
      "debt_category            21454 non-null object\n",
      "dtypes: int32(1), int64(5), object(8)\n",
      "memory usage: 2.2+ MB\n"
     ]
    }
   ],
   "source": [
    "df.info() # получение общей информации о данных в таблице df"
   ]
  },
  {
   "cell_type": "markdown",
   "metadata": {},
   "source": [
    "**Вывод**"
   ]
  },
  {
   "cell_type": "markdown",
   "metadata": {},
   "source": [
    "На этапе **предобработки данных** мы заполнили пропущенные значения, удалили явные дубликаты, избавились от неявных дубликатов, привели значения к правильным типам, произвели лемматизацию и категоризацию данных.  \n",
    "Можно утверждать, что данные готовы для проверки гипотез."
   ]
  },
  {
   "cell_type": "markdown",
   "metadata": {},
   "source": [
    "## Проверка гипотез"
   ]
  },
  {
   "cell_type": "markdown",
   "metadata": {},
   "source": [
    "### Проверка первой гипотезы"
   ]
  },
  {
   "cell_type": "markdown",
   "metadata": {},
   "source": [
    "Первая гипотеза утверждает, что количество детей у клиента влияет на факт погашения кредита в срок, при этом клиенты, у которых детей больше, реже гасят кредиты в срок.  \n",
    "Проверим это предположение по данным о количестве должников среди клиентов с разным количеством детей.  \n",
    "Для этого:\n",
    "* создадим сводную таблицу количества должников среди клиентов с разным количеством детей\n",
    "* посчитаем отношение должников к общему количеству клиентов\n",
    "* отсортируем получившееся значение по убыванию"
   ]
  },
  {
   "cell_type": "code",
   "execution_count": 51,
   "metadata": {},
   "outputs": [],
   "source": [
    "# создаем сводную таблицу\n",
    "df_pivot_debt_to_children = df.pivot_table(index = 'children', columns = 'debt_category', values = 'debt', aggfunc = 'count')"
   ]
  },
  {
   "cell_type": "code",
   "execution_count": 52,
   "metadata": {},
   "outputs": [],
   "source": [
    "# считаем отношение должников ко всем клиентам в процентах и сохраняем в новую колонку ratio\n",
    "df_pivot_debt_to_children['ratio'] = df_pivot_debt_to_children['должник'] / (df_pivot_debt_to_children['должник'] + df_pivot_debt_to_children['вернул кредит']) * 100"
   ]
  },
  {
   "cell_type": "code",
   "execution_count": 53,
   "metadata": {},
   "outputs": [
    {
     "data": {
      "text/html": [
       "<div>\n",
       "<style scoped>\n",
       "    .dataframe tbody tr th:only-of-type {\n",
       "        vertical-align: middle;\n",
       "    }\n",
       "\n",
       "    .dataframe tbody tr th {\n",
       "        vertical-align: top;\n",
       "    }\n",
       "\n",
       "    .dataframe thead th {\n",
       "        text-align: right;\n",
       "    }\n",
       "</style>\n",
       "<table border=\"1\" class=\"dataframe\">\n",
       "  <thead>\n",
       "    <tr style=\"text-align: right;\">\n",
       "      <th>debt_category</th>\n",
       "      <th>вернул кредит</th>\n",
       "      <th>должник</th>\n",
       "      <th>ratio</th>\n",
       "    </tr>\n",
       "    <tr>\n",
       "      <th>children</th>\n",
       "      <th></th>\n",
       "      <th></th>\n",
       "      <th></th>\n",
       "    </tr>\n",
       "  </thead>\n",
       "  <tbody>\n",
       "    <tr>\n",
       "      <td>4</td>\n",
       "      <td>37.0</td>\n",
       "      <td>4.0</td>\n",
       "      <td>9.756098</td>\n",
       "    </tr>\n",
       "    <tr>\n",
       "      <td>2</td>\n",
       "      <td>1926.0</td>\n",
       "      <td>202.0</td>\n",
       "      <td>9.492481</td>\n",
       "    </tr>\n",
       "    <tr>\n",
       "      <td>1</td>\n",
       "      <td>4410.0</td>\n",
       "      <td>445.0</td>\n",
       "      <td>9.165808</td>\n",
       "    </tr>\n",
       "    <tr>\n",
       "      <td>3</td>\n",
       "      <td>303.0</td>\n",
       "      <td>27.0</td>\n",
       "      <td>8.181818</td>\n",
       "    </tr>\n",
       "    <tr>\n",
       "      <td>0</td>\n",
       "      <td>13028.0</td>\n",
       "      <td>1063.0</td>\n",
       "      <td>7.543822</td>\n",
       "    </tr>\n",
       "    <tr>\n",
       "      <td>5</td>\n",
       "      <td>9.0</td>\n",
       "      <td>NaN</td>\n",
       "      <td>NaN</td>\n",
       "    </tr>\n",
       "  </tbody>\n",
       "</table>\n",
       "</div>"
      ],
      "text/plain": [
       "debt_category  вернул кредит  должник     ratio\n",
       "children                                       \n",
       "4                       37.0      4.0  9.756098\n",
       "2                     1926.0    202.0  9.492481\n",
       "1                     4410.0    445.0  9.165808\n",
       "3                      303.0     27.0  8.181818\n",
       "0                    13028.0   1063.0  7.543822\n",
       "5                        9.0      NaN       NaN"
      ]
     },
     "execution_count": 53,
     "metadata": {},
     "output_type": "execute_result"
    }
   ],
   "source": [
    "# сортируем таблицу по колонке ratio\n",
    "df_pivot_debt_to_children.sort_values('ratio', ascending = False)"
   ]
  },
  {
   "cell_type": "markdown",
   "metadata": {},
   "source": [
    "**Вывод**"
   ]
  },
  {
   "cell_type": "markdown",
   "metadata": {},
   "source": [
    "Наибольшое количество должников присутствует среди людей с четырьмя детьми. В то же время количество должников среди клиентов с тремя детьми меньше, чем среди клиентов с двумя детьми и одним ребенком, а среди людей с пятью детьми должников вообще нет.  \n",
    "Таким образом, количество детей не влияет на факт погашения кредита в срок. Первая гипотеза не подтвердилась.  \n",
    "Это вполне объяснимо, так как многодетные семьи получают льготы по кредитам и другие льготы, которые снижают нагрузку на кошелек. Также списание долгов у них происходит по упрощенной схеме, а уволить таких людей с работы практически невозможно. Не стоит забывать и про материнский капитал."
   ]
  },
  {
   "cell_type": "markdown",
   "metadata": {},
   "source": [
    "### Проверка второй гипотезы"
   ]
  },
  {
   "cell_type": "markdown",
   "metadata": {},
   "source": [
    "Вторая гипотеза утверждает, что семейное положение клиента влияет на факт погашения кредита в срок, при этом клиенты, состоящие в браке, чаще гасят кредиты в срок.  \n",
    "Проверим это предположение по данным о количестве должников среди клиентов с разным семейным положением.  \n",
    "Для этого:\n",
    "* создадим сводную таблицу количества должников среди клиентов с разным семейным положением\n",
    "* посчитаем отношение должников к общему количеству клиентов\n",
    "* отсортируем получившееся значение по убыванию\n"
   ]
  },
  {
   "cell_type": "code",
   "execution_count": 54,
   "metadata": {},
   "outputs": [],
   "source": [
    "# создаем сводную таблицу\n",
    "df_pivot_debt_to_family_status = df.pivot_table(index = 'family_status', columns = 'debt_category', values = 'debt', aggfunc = 'count')"
   ]
  },
  {
   "cell_type": "code",
   "execution_count": 55,
   "metadata": {},
   "outputs": [],
   "source": [
    "# считаем отношение должников ко всем клиентам в процентах и сохраняем в новую колонку ratio\n",
    "df_pivot_debt_to_family_status['ratio'] = df_pivot_debt_to_family_status['должник'] / (df_pivot_debt_to_family_status['должник'] + df_pivot_debt_to_family_status['вернул кредит']) * 100"
   ]
  },
  {
   "cell_type": "code",
   "execution_count": 56,
   "metadata": {},
   "outputs": [
    {
     "data": {
      "text/html": [
       "<div>\n",
       "<style scoped>\n",
       "    .dataframe tbody tr th:only-of-type {\n",
       "        vertical-align: middle;\n",
       "    }\n",
       "\n",
       "    .dataframe tbody tr th {\n",
       "        vertical-align: top;\n",
       "    }\n",
       "\n",
       "    .dataframe thead th {\n",
       "        text-align: right;\n",
       "    }\n",
       "</style>\n",
       "<table border=\"1\" class=\"dataframe\">\n",
       "  <thead>\n",
       "    <tr style=\"text-align: right;\">\n",
       "      <th>debt_category</th>\n",
       "      <th>вернул кредит</th>\n",
       "      <th>должник</th>\n",
       "      <th>ratio</th>\n",
       "    </tr>\n",
       "    <tr>\n",
       "      <th>family_status</th>\n",
       "      <th></th>\n",
       "      <th></th>\n",
       "      <th></th>\n",
       "    </tr>\n",
       "  </thead>\n",
       "  <tbody>\n",
       "    <tr>\n",
       "      <td>Не женат / не замужем</td>\n",
       "      <td>2536</td>\n",
       "      <td>274</td>\n",
       "      <td>9.750890</td>\n",
       "    </tr>\n",
       "    <tr>\n",
       "      <td>гражданский брак</td>\n",
       "      <td>3763</td>\n",
       "      <td>388</td>\n",
       "      <td>9.347145</td>\n",
       "    </tr>\n",
       "    <tr>\n",
       "      <td>женат / замужем</td>\n",
       "      <td>11408</td>\n",
       "      <td>931</td>\n",
       "      <td>7.545182</td>\n",
       "    </tr>\n",
       "    <tr>\n",
       "      <td>в разводе</td>\n",
       "      <td>1110</td>\n",
       "      <td>85</td>\n",
       "      <td>7.112971</td>\n",
       "    </tr>\n",
       "    <tr>\n",
       "      <td>вдовец / вдова</td>\n",
       "      <td>896</td>\n",
       "      <td>63</td>\n",
       "      <td>6.569343</td>\n",
       "    </tr>\n",
       "  </tbody>\n",
       "</table>\n",
       "</div>"
      ],
      "text/plain": [
       "debt_category          вернул кредит  должник     ratio\n",
       "family_status                                          \n",
       "Не женат / не замужем           2536      274  9.750890\n",
       "гражданский брак                3763      388  9.347145\n",
       "женат / замужем                11408      931  7.545182\n",
       "в разводе                       1110       85  7.112971\n",
       "вдовец / вдова                   896       63  6.569343"
      ]
     },
     "execution_count": 56,
     "metadata": {},
     "output_type": "execute_result"
    }
   ],
   "source": [
    "# сортируем таблицу по колонке ratio\n",
    "df_pivot_debt_to_family_status.sort_values('ratio', ascending = False)"
   ]
  },
  {
   "cell_type": "markdown",
   "metadata": {},
   "source": [
    "**Вывод**"
   ]
  },
  {
   "cell_type": "markdown",
   "metadata": {},
   "source": [
    "Наибольшее количество должников присутствует среди людей, которые никогда не состояли в официальном браке. В то же время мешьше всего должников среди клиентов, которые состоят или ранее состояли в браке.  \n",
    "Таким образом, семейное положение клиента влияет на факт погашения кредита в срок, клиенты, состоящие в браке, чаще гасят кредиты в срок по сравнению с теми, кто никогда не состоял в браке. Вторая гипотеза подтвердилась полностью.  \n",
    "Это также вполне объяснимо, так как в браке финансовая нагрузка распределяется между супругами и, в случае потери дохода одним из супругов, кредит может быть погашен за счет доходов другого супруга."
   ]
  },
  {
   "cell_type": "markdown",
   "metadata": {},
   "source": [
    "### Проверка третьей гипотезы"
   ]
  },
  {
   "cell_type": "markdown",
   "metadata": {},
   "source": [
    "Третья гипотеза утверждает, что уровень дохода клиента влияет на факт погашения кредита в срок, при этом чем выше уровень дохода клиентов, тем чаще они гасят кредиты в срок.  \n",
    "Проверим это предположение по данным о количестве должников среди клиентов с разным уровне дохода.\n",
    "Для этого:\n",
    "\n",
    "* создадим сводную таблицу количества должников среди клиентов с разным уровнем дохода\n",
    "* посчитаем отношение должников к общему количеству клиентов\n",
    "* отсортируем получившееся значение по убыванию"
   ]
  },
  {
   "cell_type": "code",
   "execution_count": 57,
   "metadata": {},
   "outputs": [],
   "source": [
    "# создаем сводную таблицу\n",
    "df_pivot_debt_to_total_income_category = df.pivot_table(index = 'total_income_category', columns = 'debt_category', values = 'debt', aggfunc = 'count')"
   ]
  },
  {
   "cell_type": "code",
   "execution_count": 58,
   "metadata": {},
   "outputs": [],
   "source": [
    "# считаем отношение должников к всем клиентам в процентах и сохраняем в новую колонку ratio\n",
    "df_pivot_debt_to_total_income_category['ratio'] = df_pivot_debt_to_total_income_category['должник'] / (df_pivot_debt_to_total_income_category['должник'] + df_pivot_debt_to_total_income_category['вернул кредит']) * 100"
   ]
  },
  {
   "cell_type": "code",
   "execution_count": 59,
   "metadata": {},
   "outputs": [
    {
     "data": {
      "text/html": [
       "<div>\n",
       "<style scoped>\n",
       "    .dataframe tbody tr th:only-of-type {\n",
       "        vertical-align: middle;\n",
       "    }\n",
       "\n",
       "    .dataframe tbody tr th {\n",
       "        vertical-align: top;\n",
       "    }\n",
       "\n",
       "    .dataframe thead th {\n",
       "        text-align: right;\n",
       "    }\n",
       "</style>\n",
       "<table border=\"1\" class=\"dataframe\">\n",
       "  <thead>\n",
       "    <tr style=\"text-align: right;\">\n",
       "      <th>debt_category</th>\n",
       "      <th>вернул кредит</th>\n",
       "      <th>должник</th>\n",
       "      <th>ratio</th>\n",
       "    </tr>\n",
       "    <tr>\n",
       "      <th>total_income_category</th>\n",
       "      <th></th>\n",
       "      <th></th>\n",
       "      <th></th>\n",
       "    </tr>\n",
       "  </thead>\n",
       "  <tbody>\n",
       "    <tr>\n",
       "      <td>средний доход</td>\n",
       "      <td>9526</td>\n",
       "      <td>879</td>\n",
       "      <td>8.447862</td>\n",
       "    </tr>\n",
       "    <tr>\n",
       "      <td>высокий доход</td>\n",
       "      <td>8250</td>\n",
       "      <td>712</td>\n",
       "      <td>7.944655</td>\n",
       "    </tr>\n",
       "    <tr>\n",
       "      <td>низкий доход</td>\n",
       "      <td>1729</td>\n",
       "      <td>136</td>\n",
       "      <td>7.292225</td>\n",
       "    </tr>\n",
       "    <tr>\n",
       "      <td>очень высокий доход</td>\n",
       "      <td>208</td>\n",
       "      <td>14</td>\n",
       "      <td>6.306306</td>\n",
       "    </tr>\n",
       "  </tbody>\n",
       "</table>\n",
       "</div>"
      ],
      "text/plain": [
       "debt_category          вернул кредит  должник     ratio\n",
       "total_income_category                                  \n",
       "средний доход                   9526      879  8.447862\n",
       "высокий доход                   8250      712  7.944655\n",
       "низкий доход                    1729      136  7.292225\n",
       "очень высокий доход              208       14  6.306306"
      ]
     },
     "execution_count": 59,
     "metadata": {},
     "output_type": "execute_result"
    }
   ],
   "source": [
    "# сортируем таблицу по колонке ratio\n",
    "df_pivot_debt_to_total_income_category.sort_values('ratio', ascending = False)"
   ]
  },
  {
   "cell_type": "markdown",
   "metadata": {},
   "source": [
    "**Вывод**"
   ]
  },
  {
   "cell_type": "markdown",
   "metadata": {},
   "source": [
    "Наименьшее количество должников присутствует среди людей с очень высоким уровнем дохода, в то же время должников среди людей с низким доходом тоже мало, что, однако, может говорить о тщательной проверке этих людей перед выдачей кредита. Тем не менее, на основе имеющихся данных однозначно судить о том, что уроень дохода клиента влияет на факт погашения кредита в срок нельзя.  \n",
    "Таким образом, третья гипотеза не подтвердилась.  \n",
    "Это можно объяснить, по аналогии с многодетными семьями, тем, что малоимущие клиенты в случае финансовых затруднений раз в несколько лет могут получить поддержку от государства в виде субсидий или списания долгов."
   ]
  },
  {
   "cell_type": "markdown",
   "metadata": {},
   "source": [
    "### Проверка четвертой гипотезы"
   ]
  },
  {
   "cell_type": "markdown",
   "metadata": {},
   "source": [
    "Согласно четвертой гипотезе, цель кредита влияет на факт погашения кредита в срок, а клиенты, которые берут кредиты на покупку автомобиля, реже гасят их в срок.  \n",
    "Проверим это предположение по данным о количестве должников среди клиентов с разными целями кредита.\n",
    "Для этого:\n",
    "\n",
    "* создадим сводную таблицу количества должников среди клиентов с разными целями кредита\n",
    "* посчитаем отношение должников к общему количеству клиентов\n",
    "* отсортируем получившееся значение по убыванию"
   ]
  },
  {
   "cell_type": "code",
   "execution_count": 60,
   "metadata": {},
   "outputs": [],
   "source": [
    "# создаем сводную таблицу\n",
    "df_pivot_debt_to_purpose_category = df.pivot_table(index = 'purpose_category', columns = 'debt_category', values = 'debt', aggfunc = 'count')"
   ]
  },
  {
   "cell_type": "code",
   "execution_count": 61,
   "metadata": {},
   "outputs": [],
   "source": [
    "# считаем отношение должников ко всем клиентам в процентах и сохраняем в новую колонку ratio\n",
    "df_pivot_debt_to_purpose_category['ratio'] = df_pivot_debt_to_purpose_category['должник'] / (df_pivot_debt_to_purpose_category['должник'] + df_pivot_debt_to_purpose_category['вернул кредит']) * 100"
   ]
  },
  {
   "cell_type": "code",
   "execution_count": 62,
   "metadata": {},
   "outputs": [
    {
     "data": {
      "text/html": [
       "<div>\n",
       "<style scoped>\n",
       "    .dataframe tbody tr th:only-of-type {\n",
       "        vertical-align: middle;\n",
       "    }\n",
       "\n",
       "    .dataframe tbody tr th {\n",
       "        vertical-align: top;\n",
       "    }\n",
       "\n",
       "    .dataframe thead th {\n",
       "        text-align: right;\n",
       "    }\n",
       "</style>\n",
       "<table border=\"1\" class=\"dataframe\">\n",
       "  <thead>\n",
       "    <tr style=\"text-align: right;\">\n",
       "      <th>debt_category</th>\n",
       "      <th>вернул кредит</th>\n",
       "      <th>должник</th>\n",
       "      <th>ratio</th>\n",
       "    </tr>\n",
       "    <tr>\n",
       "      <th>purpose_category</th>\n",
       "      <th></th>\n",
       "      <th></th>\n",
       "      <th></th>\n",
       "    </tr>\n",
       "  </thead>\n",
       "  <tbody>\n",
       "    <tr>\n",
       "      <td>автомобиль</td>\n",
       "      <td>3903</td>\n",
       "      <td>403</td>\n",
       "      <td>9.359034</td>\n",
       "    </tr>\n",
       "    <tr>\n",
       "      <td>образование</td>\n",
       "      <td>3643</td>\n",
       "      <td>370</td>\n",
       "      <td>9.220035</td>\n",
       "    </tr>\n",
       "    <tr>\n",
       "      <td>свадьба</td>\n",
       "      <td>2138</td>\n",
       "      <td>186</td>\n",
       "      <td>8.003442</td>\n",
       "    </tr>\n",
       "    <tr>\n",
       "      <td>недвижимость</td>\n",
       "      <td>10029</td>\n",
       "      <td>782</td>\n",
       "      <td>7.233373</td>\n",
       "    </tr>\n",
       "  </tbody>\n",
       "</table>\n",
       "</div>"
      ],
      "text/plain": [
       "debt_category     вернул кредит  должник     ratio\n",
       "purpose_category                                  \n",
       "автомобиль                 3903      403  9.359034\n",
       "образование                3643      370  9.220035\n",
       "свадьба                    2138      186  8.003442\n",
       "недвижимость              10029      782  7.233373"
      ]
     },
     "execution_count": 62,
     "metadata": {},
     "output_type": "execute_result"
    }
   ],
   "source": [
    "# сортируем таблицу по колонке ratio\n",
    "df_pivot_debt_to_purpose_category.sort_values('ratio', ascending = False)"
   ]
  },
  {
   "cell_type": "markdown",
   "metadata": {},
   "source": [
    "**Вывод**"
   ]
  },
  {
   "cell_type": "markdown",
   "metadata": {},
   "source": [
    "Наибольшее количество должников присутствует среди клиентов, которые взяли кредит для покупки автомобиля и на образование, а наименьшее среди взявших кредит на приобретение недвижимости.  \n",
    "Таким образом, цель кредита влияет на факт погашения кредита в срок. Гипотеза подтвердилась.  \n",
    "Это может быть связано с тем, что приобретенная недвижимость может приносить владельцу дополнительный доход за счет сдачи в аренду, а в случае финансовых затруднений перейти к банку в счет погашения кредита. К тому же, согласно тренду, цены на недвижимость растут, что делает выгодной дальнейшую перепродажу. В то же время автомобиль после покупки сразу сильно теряет в цене, а также требует постоянных расходов на топливо, обслуживание и т.д."
   ]
  },
  {
   "cell_type": "markdown",
   "metadata": {},
   "source": [
    "## Итоги исследования"
   ]
  },
  {
   "cell_type": "markdown",
   "metadata": {},
   "source": [
    "Мы проверили четыре гипотезы и установили:\n",
    "\n",
    "**1. Количество детей у клиента не влияет на факт погашения кредита в срок.**\n",
    "\n",
    "Наибольшое количество должников присутствует среди людей с четырьмя детьми. В то же время количество должников среди клиентов с тремя детьми меньше, чем среди клиентов с двумя детьми и одним ребенком, а среди людей с пятью детьми должников вообще нет.  \n",
    "**Первая гипотеза не подтвердилась**.   \n",
    "Это вполне объяснимо, так как многодетные семьи получают льготы по кредитам и другие льготы, которые снижают нагрузку на кошелек. Также списание долгов у них происходит по упрощенной схеме, а уволить таких людей с работы практически невозможно. Не стоит забывать и про материнский капитал.\n",
    "\n",
    "**2. Семейное положение клиента влияет на факт погашения кредита в срок. Клиенты, состоящие в браке, чаще гасят кредиты в срок по сравнению с теми, кто никогда не состоял в браке.**\n",
    "\n",
    "Наибольшее количество должников присутствует среди людей, которые никогда не состояли в официальном браке. В то же время мешьше всего должников среди клиентов, которые состоят или ранее состояли в браке.   \n",
    "**Вторая гипотеза полностью подтвердилась.**  \n",
    "Это также вполне объяснимо, так как в браке финансовая нагрузка распределяется между супругами и, в случае потери дохода одним из супругов, кредит может быть погашен за счет доходов другого супруга.\n",
    "\n",
    "**3. Уровень дохода не влияет на факт погашения кредита в срок.**  \n",
    "Наименьшее количество должников присутствует среди людей с очень высоким уровнем дохода, в то же время должников среди людей с низким доходом тоже мало, что, однако, может говорить о тщательной проверке этих людей перед выдачей кредита. Тем не менее, на основе имеющихся данных однозначно судить о том, что уроень дохода клиента влияет на факт погашения кредита в срок нельзя.  \n",
    "**Третья гипотеза не подтвердилась.**  \n",
    "Это можно объяснить, по аналогии с многодетными семьями, тем, что малоимущие клиенты в случае финансовых затруднений раз в несколько лет могут получить поддержку от государства в виде субсидий или списания долгов.\n",
    "\n",
    "**4. Цели кредита влияют на факт погашения кредита в срок. Клиенты, которые берут кредиты на покупку автомобиля, реже гасят их в срок.**  \n",
    "Наибольшее количество должников присутствует среди клиентов, которые взяли кредит для покупки автомобиля и на образование, а наименьшее среди взявших кредит на приобретение недвижимости.  \n",
    "**Четвертая гипотеза полностью подтвердилась.**  \n",
    "Это наиболее вероятно связано с тем, что приобретенная недвижимость может приносить владельцу дополнительный доход за счет сдачи в аренду, а в случае финансовых затруднений перейти к банку в счет погашения кредита. К тому же, согласно тренду, цены на недвижимость растут, что делает выгодной дальнейшую перепродажу. В то же время автомобиль после покупки сразу сильно теряет в цене, а также требует постоянных расходов на топливо, обслуживание и т.д."
   ]
  }
 ],
 "metadata": {
  "ExecuteTimeLog": [
   {
    "duration": 610,
    "start_time": "2021-11-26T06:49:06.347Z"
   },
   {
    "duration": 54,
    "start_time": "2021-11-26T06:49:06.959Z"
   },
   {
    "duration": 20,
    "start_time": "2021-11-26T06:49:07.015Z"
   },
   {
    "duration": 15,
    "start_time": "2021-11-26T06:49:07.037Z"
   },
   {
    "duration": 10,
    "start_time": "2021-11-26T06:49:07.053Z"
   },
   {
    "duration": 7,
    "start_time": "2021-11-26T06:49:07.065Z"
   },
   {
    "duration": 7,
    "start_time": "2021-11-26T06:49:07.074Z"
   },
   {
    "duration": 24,
    "start_time": "2021-11-26T06:49:07.084Z"
   },
   {
    "duration": 10,
    "start_time": "2021-11-26T06:49:07.110Z"
   },
   {
    "duration": 14,
    "start_time": "2021-11-26T06:49:07.121Z"
   },
   {
    "duration": 6,
    "start_time": "2021-11-26T06:49:07.137Z"
   },
   {
    "duration": 6,
    "start_time": "2021-11-26T06:49:07.145Z"
   },
   {
    "duration": 5,
    "start_time": "2021-11-26T06:49:07.153Z"
   },
   {
    "duration": 4,
    "start_time": "2021-11-26T06:49:07.159Z"
   },
   {
    "duration": 10,
    "start_time": "2021-11-26T06:49:07.165Z"
   },
   {
    "duration": 36,
    "start_time": "2021-11-26T06:49:07.176Z"
   },
   {
    "duration": 6,
    "start_time": "2021-11-26T06:49:07.213Z"
   },
   {
    "duration": 20,
    "start_time": "2021-11-26T06:49:07.220Z"
   },
   {
    "duration": 17,
    "start_time": "2021-11-26T06:49:07.242Z"
   },
   {
    "duration": 3,
    "start_time": "2021-11-26T06:49:07.261Z"
   },
   {
    "duration": 8,
    "start_time": "2021-11-26T06:49:07.265Z"
   },
   {
    "duration": 35,
    "start_time": "2021-11-26T06:49:07.275Z"
   },
   {
    "duration": 4,
    "start_time": "2021-11-26T06:49:07.313Z"
   },
   {
    "duration": 15,
    "start_time": "2021-11-26T06:49:07.319Z"
   },
   {
    "duration": 4,
    "start_time": "2021-11-26T06:49:07.336Z"
   },
   {
    "duration": 702,
    "start_time": "2021-11-26T06:49:07.342Z"
   },
   {
    "duration": 4,
    "start_time": "2021-11-26T06:49:08.046Z"
   },
   {
    "duration": 2827,
    "start_time": "2021-11-26T06:49:08.052Z"
   },
   {
    "duration": 14,
    "start_time": "2021-11-26T06:49:10.881Z"
   },
   {
    "duration": 7,
    "start_time": "2021-11-26T06:49:48.387Z"
   },
   {
    "duration": 3,
    "start_time": "2021-11-26T06:50:51.602Z"
   },
   {
    "duration": 3055,
    "start_time": "2021-11-26T06:50:53.297Z"
   },
   {
    "duration": 459,
    "start_time": "2021-11-26T06:52:06.321Z"
   },
   {
    "duration": 3,
    "start_time": "2021-11-26T06:52:18.881Z"
   },
   {
    "duration": 2867,
    "start_time": "2021-11-26T06:52:19.584Z"
   },
   {
    "duration": 14,
    "start_time": "2021-11-26T06:52:23.708Z"
   },
   {
    "duration": 594,
    "start_time": "2021-11-26T06:52:45.461Z"
   },
   {
    "duration": 53,
    "start_time": "2021-11-26T06:52:46.057Z"
   },
   {
    "duration": 20,
    "start_time": "2021-11-26T06:52:46.112Z"
   },
   {
    "duration": 35,
    "start_time": "2021-11-26T06:52:46.134Z"
   },
   {
    "duration": 18,
    "start_time": "2021-11-26T06:52:46.171Z"
   },
   {
    "duration": 24,
    "start_time": "2021-11-26T06:52:46.191Z"
   },
   {
    "duration": 25,
    "start_time": "2021-11-26T06:52:46.216Z"
   },
   {
    "duration": 23,
    "start_time": "2021-11-26T06:52:46.243Z"
   },
   {
    "duration": 23,
    "start_time": "2021-11-26T06:52:46.268Z"
   },
   {
    "duration": 32,
    "start_time": "2021-11-26T06:52:46.293Z"
   },
   {
    "duration": 13,
    "start_time": "2021-11-26T06:52:46.327Z"
   },
   {
    "duration": 27,
    "start_time": "2021-11-26T06:52:46.342Z"
   },
   {
    "duration": 10,
    "start_time": "2021-11-26T06:52:46.371Z"
   },
   {
    "duration": 16,
    "start_time": "2021-11-26T06:52:46.383Z"
   },
   {
    "duration": 35,
    "start_time": "2021-11-26T06:52:46.401Z"
   },
   {
    "duration": 23,
    "start_time": "2021-11-26T06:52:46.438Z"
   },
   {
    "duration": 35,
    "start_time": "2021-11-26T06:52:46.462Z"
   },
   {
    "duration": 25,
    "start_time": "2021-11-26T06:52:46.499Z"
   },
   {
    "duration": 27,
    "start_time": "2021-11-26T06:52:46.526Z"
   },
   {
    "duration": 21,
    "start_time": "2021-11-26T06:52:46.554Z"
   },
   {
    "duration": 22,
    "start_time": "2021-11-26T06:52:46.577Z"
   },
   {
    "duration": 28,
    "start_time": "2021-11-26T06:52:46.601Z"
   },
   {
    "duration": 17,
    "start_time": "2021-11-26T06:52:46.632Z"
   },
   {
    "duration": 25,
    "start_time": "2021-11-26T06:52:46.651Z"
   },
   {
    "duration": 22,
    "start_time": "2021-11-26T06:52:46.677Z"
   },
   {
    "duration": 685,
    "start_time": "2021-11-26T06:52:46.701Z"
   },
   {
    "duration": 7,
    "start_time": "2021-11-26T06:52:47.388Z"
   },
   {
    "duration": 33,
    "start_time": "2021-11-26T06:52:47.397Z"
   },
   {
    "duration": 2815,
    "start_time": "2021-11-26T06:52:47.432Z"
   },
   {
    "duration": 13,
    "start_time": "2021-11-26T06:52:50.249Z"
   },
   {
    "duration": 4,
    "start_time": "2021-11-26T07:02:07.870Z"
   },
   {
    "duration": 3029,
    "start_time": "2021-11-26T07:02:08.820Z"
   },
   {
    "duration": 13,
    "start_time": "2021-11-26T07:02:11.851Z"
   },
   {
    "duration": 3,
    "start_time": "2021-11-26T07:02:25.669Z"
   },
   {
    "duration": 7,
    "start_time": "2021-11-26T07:02:26.908Z"
   },
   {
    "duration": 13,
    "start_time": "2021-11-26T07:02:27.981Z"
   },
   {
    "duration": 667,
    "start_time": "2021-11-26T07:02:57.523Z"
   },
   {
    "duration": 52,
    "start_time": "2021-11-26T07:02:58.192Z"
   },
   {
    "duration": 18,
    "start_time": "2021-11-26T07:02:58.245Z"
   },
   {
    "duration": 24,
    "start_time": "2021-11-26T07:02:58.265Z"
   },
   {
    "duration": 21,
    "start_time": "2021-11-26T07:02:58.290Z"
   },
   {
    "duration": 16,
    "start_time": "2021-11-26T07:02:58.312Z"
   },
   {
    "duration": 24,
    "start_time": "2021-11-26T07:02:58.329Z"
   },
   {
    "duration": 35,
    "start_time": "2021-11-26T07:02:58.355Z"
   },
   {
    "duration": 23,
    "start_time": "2021-11-26T07:02:58.393Z"
   },
   {
    "duration": 19,
    "start_time": "2021-11-26T07:02:58.418Z"
   },
   {
    "duration": 15,
    "start_time": "2021-11-26T07:02:58.439Z"
   },
   {
    "duration": 34,
    "start_time": "2021-11-26T07:02:58.456Z"
   },
   {
    "duration": 24,
    "start_time": "2021-11-26T07:02:58.492Z"
   },
   {
    "duration": 15,
    "start_time": "2021-11-26T07:02:58.518Z"
   },
   {
    "duration": 38,
    "start_time": "2021-11-26T07:02:58.534Z"
   },
   {
    "duration": 16,
    "start_time": "2021-11-26T07:02:58.574Z"
   },
   {
    "duration": 16,
    "start_time": "2021-11-26T07:02:58.591Z"
   },
   {
    "duration": 41,
    "start_time": "2021-11-26T07:02:58.608Z"
   },
   {
    "duration": 22,
    "start_time": "2021-11-26T07:02:58.651Z"
   },
   {
    "duration": 6,
    "start_time": "2021-11-26T07:02:58.674Z"
   },
   {
    "duration": 24,
    "start_time": "2021-11-26T07:02:58.682Z"
   },
   {
    "duration": 31,
    "start_time": "2021-11-26T07:02:58.707Z"
   },
   {
    "duration": 23,
    "start_time": "2021-11-26T07:02:58.741Z"
   },
   {
    "duration": 23,
    "start_time": "2021-11-26T07:02:58.765Z"
   },
   {
    "duration": 25,
    "start_time": "2021-11-26T07:02:58.790Z"
   },
   {
    "duration": 677,
    "start_time": "2021-11-26T07:02:58.817Z"
   },
   {
    "duration": 11,
    "start_time": "2021-11-26T07:02:59.496Z"
   },
   {
    "duration": 35,
    "start_time": "2021-11-26T07:02:59.508Z"
   },
   {
    "duration": 27,
    "start_time": "2021-11-26T07:02:59.544Z"
   },
   {
    "duration": 38,
    "start_time": "2021-11-26T07:02:59.573Z"
   },
   {
    "duration": 4,
    "start_time": "2021-11-26T07:03:46.132Z"
   },
   {
    "duration": 9,
    "start_time": "2021-11-26T07:03:46.819Z"
   },
   {
    "duration": 12,
    "start_time": "2021-11-26T07:03:47.678Z"
   },
   {
    "duration": 670,
    "start_time": "2021-11-26T07:04:05.778Z"
   },
   {
    "duration": 54,
    "start_time": "2021-11-26T07:04:06.450Z"
   },
   {
    "duration": 21,
    "start_time": "2021-11-26T07:04:06.506Z"
   },
   {
    "duration": 24,
    "start_time": "2021-11-26T07:04:06.529Z"
   },
   {
    "duration": 20,
    "start_time": "2021-11-26T07:04:06.554Z"
   },
   {
    "duration": 10,
    "start_time": "2021-11-26T07:04:06.575Z"
   },
   {
    "duration": 11,
    "start_time": "2021-11-26T07:04:06.587Z"
   },
   {
    "duration": 12,
    "start_time": "2021-11-26T07:04:06.600Z"
   },
   {
    "duration": 10,
    "start_time": "2021-11-26T07:04:06.615Z"
   },
   {
    "duration": 15,
    "start_time": "2021-11-26T07:04:06.626Z"
   },
   {
    "duration": 6,
    "start_time": "2021-11-26T07:04:06.643Z"
   },
   {
    "duration": 13,
    "start_time": "2021-11-26T07:04:06.650Z"
   },
   {
    "duration": 6,
    "start_time": "2021-11-26T07:04:06.665Z"
   },
   {
    "duration": 10,
    "start_time": "2021-11-26T07:04:06.673Z"
   },
   {
    "duration": 26,
    "start_time": "2021-11-26T07:04:06.685Z"
   },
   {
    "duration": 10,
    "start_time": "2021-11-26T07:04:06.713Z"
   },
   {
    "duration": 5,
    "start_time": "2021-11-26T07:04:06.724Z"
   },
   {
    "duration": 32,
    "start_time": "2021-11-26T07:04:06.731Z"
   },
   {
    "duration": 17,
    "start_time": "2021-11-26T07:04:06.765Z"
   },
   {
    "duration": 3,
    "start_time": "2021-11-26T07:04:06.784Z"
   },
   {
    "duration": 18,
    "start_time": "2021-11-26T07:04:06.789Z"
   },
   {
    "duration": 6,
    "start_time": "2021-11-26T07:04:06.809Z"
   },
   {
    "duration": 8,
    "start_time": "2021-11-26T07:04:06.818Z"
   },
   {
    "duration": 4,
    "start_time": "2021-11-26T07:04:06.828Z"
   },
   {
    "duration": 4,
    "start_time": "2021-11-26T07:04:06.834Z"
   },
   {
    "duration": 715,
    "start_time": "2021-11-26T07:04:06.840Z"
   },
   {
    "duration": 8,
    "start_time": "2021-11-26T07:04:07.557Z"
   },
   {
    "duration": 11,
    "start_time": "2021-11-26T07:04:07.566Z"
   },
   {
    "duration": 3,
    "start_time": "2021-11-26T07:04:09.693Z"
   },
   {
    "duration": 56,
    "start_time": "2021-11-26T07:04:09.699Z"
   },
   {
    "duration": 13,
    "start_time": "2021-11-26T07:04:09.757Z"
   },
   {
    "duration": 33,
    "start_time": "2021-11-26T07:04:09.773Z"
   },
   {
    "duration": 9,
    "start_time": "2021-11-26T07:04:09.809Z"
   },
   {
    "duration": 9,
    "start_time": "2021-11-26T07:04:09.820Z"
   },
   {
    "duration": 8,
    "start_time": "2021-11-26T07:04:09.831Z"
   },
   {
    "duration": 13,
    "start_time": "2021-11-26T07:04:09.840Z"
   },
   {
    "duration": 12,
    "start_time": "2021-11-26T07:04:09.856Z"
   },
   {
    "duration": 16,
    "start_time": "2021-11-26T07:04:09.870Z"
   },
   {
    "duration": 4,
    "start_time": "2021-11-26T07:04:09.907Z"
   },
   {
    "duration": 18,
    "start_time": "2021-11-26T07:04:09.913Z"
   },
   {
    "duration": 8,
    "start_time": "2021-11-26T07:04:09.932Z"
   },
   {
    "duration": 8,
    "start_time": "2021-11-26T07:04:09.941Z"
   },
   {
    "duration": 12,
    "start_time": "2021-11-26T07:04:09.951Z"
   },
   {
    "duration": 15,
    "start_time": "2021-11-26T07:04:09.965Z"
   },
   {
    "duration": 10,
    "start_time": "2021-11-26T07:04:09.981Z"
   },
   {
    "duration": 36,
    "start_time": "2021-11-26T07:04:09.993Z"
   },
   {
    "duration": 16,
    "start_time": "2021-11-26T07:04:10.030Z"
   },
   {
    "duration": 17,
    "start_time": "2021-11-26T07:04:10.048Z"
   },
   {
    "duration": 15,
    "start_time": "2021-11-26T07:04:10.067Z"
   },
   {
    "duration": 25,
    "start_time": "2021-11-26T07:04:10.084Z"
   },
   {
    "duration": 36,
    "start_time": "2021-11-26T07:04:10.110Z"
   },
   {
    "duration": 4,
    "start_time": "2021-11-26T07:04:10.149Z"
   },
   {
    "duration": 5,
    "start_time": "2021-11-26T07:04:10.155Z"
   },
   {
    "duration": 672,
    "start_time": "2021-11-26T07:04:10.161Z"
   },
   {
    "duration": 8,
    "start_time": "2021-11-26T07:04:10.835Z"
   },
   {
    "duration": 5,
    "start_time": "2021-11-26T07:04:10.845Z"
   },
   {
    "duration": 11,
    "start_time": "2021-11-26T07:04:10.852Z"
   },
   {
    "duration": 14,
    "start_time": "2021-11-26T07:04:10.864Z"
   },
   {
    "duration": 2,
    "start_time": "2021-11-26T07:04:27.028Z"
   },
   {
    "duration": 12,
    "start_time": "2021-11-26T07:04:27.701Z"
   },
   {
    "duration": 3,
    "start_time": "2021-11-26T07:04:40.646Z"
   },
   {
    "duration": 2,
    "start_time": "2021-11-26T07:04:40.859Z"
   },
   {
    "duration": 12,
    "start_time": "2021-11-26T07:04:42.445Z"
   },
   {
    "duration": 653,
    "start_time": "2021-11-26T07:04:57.007Z"
   },
   {
    "duration": 53,
    "start_time": "2021-11-26T07:04:57.662Z"
   },
   {
    "duration": 19,
    "start_time": "2021-11-26T07:04:57.717Z"
   },
   {
    "duration": 19,
    "start_time": "2021-11-26T07:04:57.738Z"
   },
   {
    "duration": 14,
    "start_time": "2021-11-26T07:04:57.759Z"
   },
   {
    "duration": 12,
    "start_time": "2021-11-26T07:04:57.775Z"
   },
   {
    "duration": 19,
    "start_time": "2021-11-26T07:04:57.789Z"
   },
   {
    "duration": 15,
    "start_time": "2021-11-26T07:04:57.811Z"
   },
   {
    "duration": 15,
    "start_time": "2021-11-26T07:04:57.829Z"
   },
   {
    "duration": 17,
    "start_time": "2021-11-26T07:04:57.846Z"
   },
   {
    "duration": 20,
    "start_time": "2021-11-26T07:04:57.865Z"
   },
   {
    "duration": 12,
    "start_time": "2021-11-26T07:04:57.887Z"
   },
   {
    "duration": 18,
    "start_time": "2021-11-26T07:04:57.901Z"
   },
   {
    "duration": 22,
    "start_time": "2021-11-26T07:04:57.920Z"
   },
   {
    "duration": 12,
    "start_time": "2021-11-26T07:04:57.944Z"
   },
   {
    "duration": 30,
    "start_time": "2021-11-26T07:04:57.957Z"
   },
   {
    "duration": 12,
    "start_time": "2021-11-26T07:04:57.989Z"
   },
   {
    "duration": 35,
    "start_time": "2021-11-26T07:04:58.003Z"
   },
   {
    "duration": 19,
    "start_time": "2021-11-26T07:04:58.040Z"
   },
   {
    "duration": 4,
    "start_time": "2021-11-26T07:04:58.061Z"
   },
   {
    "duration": 30,
    "start_time": "2021-11-26T07:04:58.067Z"
   },
   {
    "duration": 18,
    "start_time": "2021-11-26T07:04:58.099Z"
   },
   {
    "duration": 16,
    "start_time": "2021-11-26T07:04:58.121Z"
   },
   {
    "duration": 9,
    "start_time": "2021-11-26T07:04:58.139Z"
   },
   {
    "duration": 13,
    "start_time": "2021-11-26T07:04:58.150Z"
   },
   {
    "duration": 678,
    "start_time": "2021-11-26T07:04:58.164Z"
   },
   {
    "duration": 9,
    "start_time": "2021-11-26T07:04:58.844Z"
   },
   {
    "duration": 21,
    "start_time": "2021-11-26T07:04:58.855Z"
   },
   {
    "duration": 6,
    "start_time": "2021-11-26T07:04:58.878Z"
   },
   {
    "duration": 29,
    "start_time": "2021-11-26T07:04:58.886Z"
   },
   {
    "duration": 10,
    "start_time": "2021-11-26T07:05:10.016Z"
   },
   {
    "duration": 13,
    "start_time": "2021-11-26T07:05:10.736Z"
   },
   {
    "duration": 3,
    "start_time": "2021-11-26T07:06:38.455Z"
   },
   {
    "duration": 8,
    "start_time": "2021-11-26T07:06:39.125Z"
   },
   {
    "duration": 14,
    "start_time": "2021-11-26T07:06:41.935Z"
   },
   {
    "duration": 4,
    "start_time": "2021-11-26T07:07:34.622Z"
   },
   {
    "duration": 8,
    "start_time": "2021-11-26T07:07:36.030Z"
   },
   {
    "duration": 15,
    "start_time": "2021-11-26T07:07:37.083Z"
   },
   {
    "duration": 3,
    "start_time": "2021-11-26T07:08:36.312Z"
   },
   {
    "duration": 7,
    "start_time": "2021-11-26T07:08:37.915Z"
   },
   {
    "duration": 13,
    "start_time": "2021-11-26T07:08:40.689Z"
   },
   {
    "duration": 3,
    "start_time": "2021-11-26T07:08:58.406Z"
   },
   {
    "duration": 7,
    "start_time": "2021-11-26T07:08:59.582Z"
   },
   {
    "duration": 13,
    "start_time": "2021-11-26T07:09:00.575Z"
   },
   {
    "duration": 3,
    "start_time": "2021-11-26T07:09:20.799Z"
   },
   {
    "duration": 8,
    "start_time": "2021-11-26T07:09:22.262Z"
   },
   {
    "duration": 13,
    "start_time": "2021-11-26T07:09:22.999Z"
   },
   {
    "duration": 3,
    "start_time": "2021-11-26T07:09:30.031Z"
   },
   {
    "duration": 8,
    "start_time": "2021-11-26T07:09:31.438Z"
   },
   {
    "duration": 13,
    "start_time": "2021-11-26T07:09:32.320Z"
   },
   {
    "duration": 3,
    "start_time": "2021-11-26T07:10:33.296Z"
   },
   {
    "duration": 8,
    "start_time": "2021-11-26T07:10:34.095Z"
   },
   {
    "duration": 14,
    "start_time": "2021-11-26T07:10:34.879Z"
   },
   {
    "duration": 3,
    "start_time": "2021-11-26T07:15:11.648Z"
   },
   {
    "duration": 9,
    "start_time": "2021-11-26T07:15:12.494Z"
   },
   {
    "duration": 16,
    "start_time": "2021-11-26T07:15:13.412Z"
   },
   {
    "duration": 3,
    "start_time": "2021-11-26T07:17:30.984Z"
   },
   {
    "duration": 8,
    "start_time": "2021-11-26T07:17:31.875Z"
   },
   {
    "duration": 14,
    "start_time": "2021-11-26T07:17:32.744Z"
   },
   {
    "duration": 4,
    "start_time": "2021-11-26T07:17:58.448Z"
   },
   {
    "duration": 8,
    "start_time": "2021-11-26T07:17:59.942Z"
   },
   {
    "duration": 19,
    "start_time": "2021-11-26T07:18:00.984Z"
   },
   {
    "duration": 3,
    "start_time": "2021-11-26T07:18:43.191Z"
   },
   {
    "duration": 9,
    "start_time": "2021-11-26T07:18:44.008Z"
   },
   {
    "duration": 13,
    "start_time": "2021-11-26T07:18:44.680Z"
   },
   {
    "duration": 3,
    "start_time": "2021-11-26T07:19:50.384Z"
   },
   {
    "duration": 8,
    "start_time": "2021-11-26T07:19:51.104Z"
   },
   {
    "duration": 13,
    "start_time": "2021-11-26T07:19:51.664Z"
   },
   {
    "duration": 4,
    "start_time": "2021-11-26T07:21:20.136Z"
   },
   {
    "duration": 8,
    "start_time": "2021-11-26T07:21:20.920Z"
   },
   {
    "duration": 13,
    "start_time": "2021-11-26T07:21:21.562Z"
   },
   {
    "duration": 3,
    "start_time": "2021-11-26T07:21:52.520Z"
   },
   {
    "duration": 9,
    "start_time": "2021-11-26T07:21:53.111Z"
   },
   {
    "duration": 12,
    "start_time": "2021-11-26T07:21:53.782Z"
   },
   {
    "duration": 14,
    "start_time": "2021-11-26T07:22:26.961Z"
   },
   {
    "duration": 19,
    "start_time": "2021-11-26T07:22:56.825Z"
   },
   {
    "duration": 13,
    "start_time": "2021-11-26T07:23:38.794Z"
   },
   {
    "duration": 3,
    "start_time": "2021-11-26T07:24:53.040Z"
   },
   {
    "duration": 9,
    "start_time": "2021-11-26T07:24:53.614Z"
   },
   {
    "duration": 13,
    "start_time": "2021-11-26T07:24:54.176Z"
   },
   {
    "duration": 3,
    "start_time": "2021-11-26T07:30:17.927Z"
   },
   {
    "duration": 9,
    "start_time": "2021-11-26T07:30:18.870Z"
   },
   {
    "duration": 13,
    "start_time": "2021-11-26T07:30:19.695Z"
   },
   {
    "duration": 5,
    "start_time": "2021-11-26T07:31:09.574Z"
   },
   {
    "duration": 5,
    "start_time": "2021-11-26T07:32:10.718Z"
   },
   {
    "duration": 5,
    "start_time": "2021-11-26T07:33:56.368Z"
   },
   {
    "duration": 5,
    "start_time": "2021-11-26T07:34:22.496Z"
   },
   {
    "duration": 4,
    "start_time": "2021-11-26T07:35:05.382Z"
   },
   {
    "duration": 10,
    "start_time": "2021-11-26T07:35:08.230Z"
   },
   {
    "duration": 12,
    "start_time": "2021-11-26T07:35:12.767Z"
   },
   {
    "duration": 8,
    "start_time": "2021-11-26T07:36:34.359Z"
   },
   {
    "duration": 8,
    "start_time": "2021-11-26T07:37:56.550Z"
   },
   {
    "duration": 8786,
    "start_time": "2021-11-26T08:39:40.486Z"
   },
   {
    "duration": 341,
    "start_time": "2021-11-26T08:40:54.255Z"
   },
   {
    "duration": 337,
    "start_time": "2021-11-26T08:41:47.309Z"
   },
   {
    "duration": 360,
    "start_time": "2021-11-26T08:41:54.405Z"
   },
   {
    "duration": 648,
    "start_time": "2021-11-26T08:42:01.397Z"
   },
   {
    "duration": 356,
    "start_time": "2021-11-26T08:42:09.149Z"
   },
   {
    "duration": 436,
    "start_time": "2021-11-26T08:42:48.872Z"
   },
   {
    "duration": 357,
    "start_time": "2021-11-26T08:43:00.526Z"
   },
   {
    "duration": 396,
    "start_time": "2021-11-26T08:48:12.271Z"
   },
   {
    "duration": 350,
    "start_time": "2021-11-26T08:48:26.140Z"
   },
   {
    "duration": 627,
    "start_time": "2021-11-26T08:50:23.134Z"
   },
   {
    "duration": 56,
    "start_time": "2021-11-26T08:50:23.763Z"
   },
   {
    "duration": 21,
    "start_time": "2021-11-26T08:50:23.821Z"
   },
   {
    "duration": 33,
    "start_time": "2021-11-26T08:50:23.844Z"
   },
   {
    "duration": 24,
    "start_time": "2021-11-26T08:50:23.879Z"
   },
   {
    "duration": 19,
    "start_time": "2021-11-26T08:50:23.905Z"
   },
   {
    "duration": 21,
    "start_time": "2021-11-26T08:50:23.926Z"
   },
   {
    "duration": 20,
    "start_time": "2021-11-26T08:50:23.950Z"
   },
   {
    "duration": 28,
    "start_time": "2021-11-26T08:50:23.973Z"
   },
   {
    "duration": 18,
    "start_time": "2021-11-26T08:50:24.003Z"
   },
   {
    "duration": 17,
    "start_time": "2021-11-26T08:50:24.023Z"
   },
   {
    "duration": 19,
    "start_time": "2021-11-26T08:50:24.042Z"
   },
   {
    "duration": 25,
    "start_time": "2021-11-26T08:50:24.064Z"
   },
   {
    "duration": 29,
    "start_time": "2021-11-26T08:50:24.091Z"
   },
   {
    "duration": 28,
    "start_time": "2021-11-26T08:50:24.122Z"
   },
   {
    "duration": 35,
    "start_time": "2021-11-26T08:50:24.152Z"
   },
   {
    "duration": 23,
    "start_time": "2021-11-26T08:50:24.189Z"
   },
   {
    "duration": 39,
    "start_time": "2021-11-26T08:50:24.214Z"
   },
   {
    "duration": 24,
    "start_time": "2021-11-26T08:50:24.255Z"
   },
   {
    "duration": 4,
    "start_time": "2021-11-26T08:50:24.281Z"
   },
   {
    "duration": 26,
    "start_time": "2021-11-26T08:50:24.287Z"
   },
   {
    "duration": 34,
    "start_time": "2021-11-26T08:50:24.315Z"
   },
   {
    "duration": 33,
    "start_time": "2021-11-26T08:50:24.354Z"
   },
   {
    "duration": 20,
    "start_time": "2021-11-26T08:50:24.389Z"
   },
   {
    "duration": 45,
    "start_time": "2021-11-26T08:50:24.412Z"
   },
   {
    "duration": 711,
    "start_time": "2021-11-26T08:50:24.459Z"
   },
   {
    "duration": 8,
    "start_time": "2021-11-26T08:50:25.172Z"
   },
   {
    "duration": 22,
    "start_time": "2021-11-26T08:50:25.182Z"
   },
   {
    "duration": 39,
    "start_time": "2021-11-26T08:50:25.205Z"
   },
   {
    "duration": 21,
    "start_time": "2021-11-26T08:50:25.246Z"
   },
   {
    "duration": 21,
    "start_time": "2021-11-26T08:50:25.269Z"
   },
   {
    "duration": 27,
    "start_time": "2021-11-26T08:50:25.292Z"
   },
   {
    "duration": 23,
    "start_time": "2021-11-26T08:50:25.321Z"
   },
   {
    "duration": 24,
    "start_time": "2021-11-26T08:50:25.346Z"
   },
   {
    "duration": 21,
    "start_time": "2021-11-26T08:50:25.372Z"
   },
   {
    "duration": 50,
    "start_time": "2021-11-26T08:50:25.395Z"
   },
   {
    "duration": 53,
    "start_time": "2021-11-26T08:50:25.446Z"
   },
   {
    "duration": 456,
    "start_time": "2021-11-26T08:50:25.501Z"
   },
   {
    "duration": -41,
    "start_time": "2021-11-26T08:50:26.000Z"
   },
   {
    "duration": 356,
    "start_time": "2021-11-26T08:53:48.194Z"
   },
   {
    "duration": 354,
    "start_time": "2021-11-26T08:54:30.580Z"
   },
   {
    "duration": 1237,
    "start_time": "2021-11-26T08:54:56.671Z"
   },
   {
    "duration": 372,
    "start_time": "2021-11-26T08:55:23.136Z"
   },
   {
    "duration": 356,
    "start_time": "2021-11-26T08:55:42.433Z"
   },
   {
    "duration": 30,
    "start_time": "2021-11-26T08:56:21.641Z"
   },
   {
    "duration": 11,
    "start_time": "2021-11-26T08:56:28.261Z"
   },
   {
    "duration": 349,
    "start_time": "2021-11-26T08:57:24.905Z"
   },
   {
    "duration": 15,
    "start_time": "2021-11-26T08:58:35.970Z"
   },
   {
    "duration": 10,
    "start_time": "2021-11-26T08:58:40.393Z"
   },
   {
    "duration": 15,
    "start_time": "2021-11-26T08:59:51.841Z"
   },
   {
    "duration": 7,
    "start_time": "2021-11-26T08:59:52.568Z"
   },
   {
    "duration": 15,
    "start_time": "2021-11-26T09:01:40.888Z"
   },
   {
    "duration": 8,
    "start_time": "2021-11-26T09:01:41.576Z"
   },
   {
    "duration": 346,
    "start_time": "2021-11-26T09:02:57.400Z"
   },
   {
    "duration": 3,
    "start_time": "2021-11-26T09:07:33.760Z"
   },
   {
    "duration": 7,
    "start_time": "2021-11-26T09:07:35.244Z"
   },
   {
    "duration": 14,
    "start_time": "2021-11-26T09:07:36.431Z"
   },
   {
    "duration": 24,
    "start_time": "2021-11-26T09:07:52.553Z"
   },
   {
    "duration": 14,
    "start_time": "2021-11-26T09:08:07.643Z"
   },
   {
    "duration": 18,
    "start_time": "2021-11-26T09:08:25.395Z"
   },
   {
    "duration": 7,
    "start_time": "2021-11-26T09:08:26.656Z"
   },
   {
    "duration": 15,
    "start_time": "2021-11-26T09:08:59.121Z"
   },
   {
    "duration": 7,
    "start_time": "2021-11-26T09:09:00.384Z"
   },
   {
    "duration": 15,
    "start_time": "2021-11-26T09:12:06.976Z"
   },
   {
    "duration": 7,
    "start_time": "2021-11-26T09:12:07.808Z"
   },
   {
    "duration": 15,
    "start_time": "2021-11-26T09:13:30.033Z"
   },
   {
    "duration": 7,
    "start_time": "2021-11-26T09:13:30.705Z"
   },
   {
    "duration": 15,
    "start_time": "2021-11-26T09:13:41.575Z"
   },
   {
    "duration": 7,
    "start_time": "2021-11-26T09:13:42.631Z"
   },
   {
    "duration": 15,
    "start_time": "2021-11-26T09:14:04.159Z"
   },
   {
    "duration": 7,
    "start_time": "2021-11-26T09:14:07.008Z"
   },
   {
    "duration": 14,
    "start_time": "2021-11-26T09:14:49.645Z"
   },
   {
    "duration": 7,
    "start_time": "2021-11-26T09:14:50.127Z"
   },
   {
    "duration": 910,
    "start_time": "2021-11-26T09:15:43.272Z"
   },
   {
    "duration": -17,
    "start_time": "2021-11-26T09:15:44.201Z"
   },
   {
    "duration": 864,
    "start_time": "2021-11-26T09:16:08.119Z"
   },
   {
    "duration": 139,
    "start_time": "2021-11-26T09:17:00.200Z"
   },
   {
    "duration": 123,
    "start_time": "2021-11-26T09:17:41.015Z"
   },
   {
    "duration": 15,
    "start_time": "2021-11-26T09:18:06.199Z"
   },
   {
    "duration": 8,
    "start_time": "2021-11-26T09:18:07.199Z"
   },
   {
    "duration": 10,
    "start_time": "2021-11-26T09:19:22.807Z"
   },
   {
    "duration": 7,
    "start_time": "2021-11-26T09:19:23.636Z"
   },
   {
    "duration": 9,
    "start_time": "2021-11-26T09:20:16.896Z"
   },
   {
    "duration": 4,
    "start_time": "2021-11-26T09:20:56.687Z"
   },
   {
    "duration": 9,
    "start_time": "2021-11-26T09:20:57.327Z"
   },
   {
    "duration": 20,
    "start_time": "2021-11-26T09:29:16.015Z"
   },
   {
    "duration": 5,
    "start_time": "2021-11-26T09:29:17.615Z"
   },
   {
    "duration": 8,
    "start_time": "2021-11-26T09:29:18.871Z"
   },
   {
    "duration": 16,
    "start_time": "2021-11-26T09:32:18.608Z"
   },
   {
    "duration": 4,
    "start_time": "2021-11-26T09:32:19.071Z"
   },
   {
    "duration": 8,
    "start_time": "2021-11-26T09:32:19.487Z"
   },
   {
    "duration": 15,
    "start_time": "2021-11-26T09:37:47.258Z"
   },
   {
    "duration": 4,
    "start_time": "2021-11-26T09:37:47.752Z"
   },
   {
    "duration": 9,
    "start_time": "2021-11-26T09:37:48.199Z"
   },
   {
    "duration": 715,
    "start_time": "2021-11-26T09:39:41.164Z"
   },
   {
    "duration": 55,
    "start_time": "2021-11-26T09:39:41.881Z"
   },
   {
    "duration": 21,
    "start_time": "2021-11-26T09:39:41.938Z"
   },
   {
    "duration": 57,
    "start_time": "2021-11-26T09:39:41.962Z"
   },
   {
    "duration": 9,
    "start_time": "2021-11-26T09:39:42.021Z"
   },
   {
    "duration": 13,
    "start_time": "2021-11-26T09:39:42.032Z"
   },
   {
    "duration": 8,
    "start_time": "2021-11-26T09:39:42.047Z"
   },
   {
    "duration": 16,
    "start_time": "2021-11-26T09:39:42.058Z"
   },
   {
    "duration": 16,
    "start_time": "2021-11-26T09:39:42.076Z"
   },
   {
    "duration": 13,
    "start_time": "2021-11-26T09:39:42.094Z"
   },
   {
    "duration": 5,
    "start_time": "2021-11-26T09:39:42.109Z"
   },
   {
    "duration": 9,
    "start_time": "2021-11-26T09:39:42.115Z"
   },
   {
    "duration": 9,
    "start_time": "2021-11-26T09:39:42.125Z"
   },
   {
    "duration": 7,
    "start_time": "2021-11-26T09:39:42.135Z"
   },
   {
    "duration": 13,
    "start_time": "2021-11-26T09:39:42.144Z"
   },
   {
    "duration": 14,
    "start_time": "2021-11-26T09:39:42.159Z"
   },
   {
    "duration": 9,
    "start_time": "2021-11-26T09:39:42.175Z"
   },
   {
    "duration": 36,
    "start_time": "2021-11-26T09:39:42.185Z"
   },
   {
    "duration": 19,
    "start_time": "2021-11-26T09:39:42.223Z"
   },
   {
    "duration": 4,
    "start_time": "2021-11-26T09:39:42.244Z"
   },
   {
    "duration": 20,
    "start_time": "2021-11-26T09:39:42.250Z"
   },
   {
    "duration": 10,
    "start_time": "2021-11-26T09:39:42.272Z"
   },
   {
    "duration": 21,
    "start_time": "2021-11-26T09:39:42.285Z"
   },
   {
    "duration": 4,
    "start_time": "2021-11-26T09:39:42.309Z"
   },
   {
    "duration": 13,
    "start_time": "2021-11-26T09:39:42.314Z"
   },
   {
    "duration": 708,
    "start_time": "2021-11-26T09:39:42.328Z"
   },
   {
    "duration": 7,
    "start_time": "2021-11-26T09:39:43.038Z"
   },
   {
    "duration": 9,
    "start_time": "2021-11-26T09:39:43.047Z"
   },
   {
    "duration": 16,
    "start_time": "2021-11-26T09:39:43.058Z"
   },
   {
    "duration": 8,
    "start_time": "2021-11-26T09:39:43.075Z"
   },
   {
    "duration": 23,
    "start_time": "2021-11-26T09:39:43.085Z"
   },
   {
    "duration": 4,
    "start_time": "2021-11-26T09:39:43.110Z"
   },
   {
    "duration": 7,
    "start_time": "2021-11-26T09:39:43.116Z"
   },
   {
    "duration": 5,
    "start_time": "2021-11-26T09:39:43.125Z"
   },
   {
    "duration": 12,
    "start_time": "2021-11-26T09:39:43.131Z"
   },
   {
    "duration": 9,
    "start_time": "2021-11-26T09:39:43.144Z"
   },
   {
    "duration": 3,
    "start_time": "2021-11-26T09:39:43.155Z"
   },
   {
    "duration": 46,
    "start_time": "2021-11-26T09:39:43.160Z"
   },
   {
    "duration": 14,
    "start_time": "2021-11-26T09:39:43.208Z"
   },
   {
    "duration": 21,
    "start_time": "2021-11-26T09:39:43.224Z"
   },
   {
    "duration": 6,
    "start_time": "2021-11-26T09:39:43.247Z"
   },
   {
    "duration": 21,
    "start_time": "2021-11-26T09:39:43.254Z"
   },
   {
    "duration": 29,
    "start_time": "2021-11-26T09:39:43.277Z"
   },
   {
    "duration": 4,
    "start_time": "2021-11-26T09:39:43.308Z"
   },
   {
    "duration": 13,
    "start_time": "2021-11-26T09:39:43.313Z"
   },
   {
    "duration": 17,
    "start_time": "2021-11-26T09:39:43.327Z"
   },
   {
    "duration": 5,
    "start_time": "2021-11-26T09:39:43.345Z"
   },
   {
    "duration": 23,
    "start_time": "2021-11-26T09:39:43.351Z"
   },
   {
    "duration": 20,
    "start_time": "2021-11-26T09:39:43.376Z"
   },
   {
    "duration": 9,
    "start_time": "2021-11-26T09:39:43.398Z"
   },
   {
    "duration": 14,
    "start_time": "2021-11-26T09:39:43.409Z"
   },
   {
    "duration": 426,
    "start_time": "2021-11-26T09:45:56.606Z"
   },
   {
    "duration": 4,
    "start_time": "2021-11-26T09:45:57.129Z"
   },
   {
    "duration": 7,
    "start_time": "2021-11-26T09:45:58.881Z"
   },
   {
    "duration": 15,
    "start_time": "2021-11-26T09:46:16.039Z"
   },
   {
    "duration": 4,
    "start_time": "2021-11-26T09:46:17.029Z"
   },
   {
    "duration": 7,
    "start_time": "2021-11-26T09:46:17.534Z"
   },
   {
    "duration": 13,
    "start_time": "2021-11-26T09:47:45.142Z"
   },
   {
    "duration": 12,
    "start_time": "2021-11-26T09:48:40.288Z"
   },
   {
    "duration": 12,
    "start_time": "2021-11-26T09:49:20.485Z"
   },
   {
    "duration": 12,
    "start_time": "2021-11-26T09:49:36.381Z"
   },
   {
    "duration": 654,
    "start_time": "2021-11-26T09:49:49.997Z"
   },
   {
    "duration": 55,
    "start_time": "2021-11-26T09:49:50.653Z"
   },
   {
    "duration": 21,
    "start_time": "2021-11-26T09:49:50.710Z"
   },
   {
    "duration": 23,
    "start_time": "2021-11-26T09:49:50.733Z"
   },
   {
    "duration": 28,
    "start_time": "2021-11-26T09:49:50.758Z"
   },
   {
    "duration": 27,
    "start_time": "2021-11-26T09:49:50.788Z"
   },
   {
    "duration": 18,
    "start_time": "2021-11-26T09:49:50.817Z"
   },
   {
    "duration": 14,
    "start_time": "2021-11-26T09:49:50.836Z"
   },
   {
    "duration": 9,
    "start_time": "2021-11-26T09:49:50.854Z"
   },
   {
    "duration": 26,
    "start_time": "2021-11-26T09:49:50.866Z"
   },
   {
    "duration": 14,
    "start_time": "2021-11-26T09:49:50.893Z"
   },
   {
    "duration": 18,
    "start_time": "2021-11-26T09:49:50.909Z"
   },
   {
    "duration": 33,
    "start_time": "2021-11-26T09:49:50.929Z"
   },
   {
    "duration": 16,
    "start_time": "2021-11-26T09:49:50.964Z"
   },
   {
    "duration": 25,
    "start_time": "2021-11-26T09:49:50.982Z"
   },
   {
    "duration": 19,
    "start_time": "2021-11-26T09:49:51.008Z"
   },
   {
    "duration": 10,
    "start_time": "2021-11-26T09:49:51.029Z"
   },
   {
    "duration": 39,
    "start_time": "2021-11-26T09:49:51.041Z"
   },
   {
    "duration": 16,
    "start_time": "2021-11-26T09:49:51.082Z"
   },
   {
    "duration": 3,
    "start_time": "2021-11-26T09:49:51.100Z"
   },
   {
    "duration": 16,
    "start_time": "2021-11-26T09:49:51.105Z"
   },
   {
    "duration": 12,
    "start_time": "2021-11-26T09:49:51.122Z"
   },
   {
    "duration": 13,
    "start_time": "2021-11-26T09:49:51.136Z"
   },
   {
    "duration": 4,
    "start_time": "2021-11-26T09:49:51.151Z"
   },
   {
    "duration": 7,
    "start_time": "2021-11-26T09:49:51.157Z"
   },
   {
    "duration": 675,
    "start_time": "2021-11-26T09:49:51.166Z"
   },
   {
    "duration": 6,
    "start_time": "2021-11-26T09:49:51.846Z"
   },
   {
    "duration": 34,
    "start_time": "2021-11-26T09:49:51.854Z"
   },
   {
    "duration": 27,
    "start_time": "2021-11-26T09:49:51.890Z"
   },
   {
    "duration": 23,
    "start_time": "2021-11-26T09:49:51.919Z"
   },
   {
    "duration": 18,
    "start_time": "2021-11-26T09:49:51.943Z"
   },
   {
    "duration": 11,
    "start_time": "2021-11-26T09:49:51.962Z"
   },
   {
    "duration": 13,
    "start_time": "2021-11-26T09:49:51.975Z"
   },
   {
    "duration": 11,
    "start_time": "2021-11-26T09:49:51.989Z"
   },
   {
    "duration": 22,
    "start_time": "2021-11-26T09:49:52.002Z"
   },
   {
    "duration": 19,
    "start_time": "2021-11-26T09:49:52.026Z"
   },
   {
    "duration": 10,
    "start_time": "2021-11-26T09:49:52.046Z"
   },
   {
    "duration": 11,
    "start_time": "2021-11-26T09:49:52.058Z"
   },
   {
    "duration": 25,
    "start_time": "2021-11-26T09:49:52.071Z"
   },
   {
    "duration": 18,
    "start_time": "2021-11-26T09:49:52.098Z"
   },
   {
    "duration": 14,
    "start_time": "2021-11-26T09:49:52.117Z"
   },
   {
    "duration": 5,
    "start_time": "2021-11-26T09:49:52.133Z"
   },
   {
    "duration": 13,
    "start_time": "2021-11-26T09:49:52.139Z"
   },
   {
    "duration": 18,
    "start_time": "2021-11-26T09:49:52.154Z"
   },
   {
    "duration": 3,
    "start_time": "2021-11-26T09:49:52.174Z"
   },
   {
    "duration": 32,
    "start_time": "2021-11-26T09:49:52.179Z"
   },
   {
    "duration": 17,
    "start_time": "2021-11-26T09:49:52.213Z"
   },
   {
    "duration": 4,
    "start_time": "2021-11-26T09:49:52.231Z"
   },
   {
    "duration": 20,
    "start_time": "2021-11-26T09:49:52.237Z"
   },
   {
    "duration": 22,
    "start_time": "2021-11-26T09:49:52.259Z"
   },
   {
    "duration": 4,
    "start_time": "2021-11-26T09:49:52.282Z"
   },
   {
    "duration": 23,
    "start_time": "2021-11-26T09:49:52.287Z"
   },
   {
    "duration": 217,
    "start_time": "2021-11-26T13:22:35.664Z"
   },
   {
    "duration": 186,
    "start_time": "2021-11-26T13:22:36.208Z"
   },
   {
    "duration": 579,
    "start_time": "2021-11-26T13:22:51.784Z"
   },
   {
    "duration": 49,
    "start_time": "2021-11-26T13:22:52.365Z"
   },
   {
    "duration": 19,
    "start_time": "2021-11-26T13:22:52.416Z"
   },
   {
    "duration": 13,
    "start_time": "2021-11-26T13:22:52.437Z"
   },
   {
    "duration": 7,
    "start_time": "2021-11-26T13:22:52.451Z"
   },
   {
    "duration": 7,
    "start_time": "2021-11-26T13:22:52.459Z"
   },
   {
    "duration": 25,
    "start_time": "2021-11-26T13:22:52.467Z"
   },
   {
    "duration": 7,
    "start_time": "2021-11-26T13:22:52.495Z"
   },
   {
    "duration": 8,
    "start_time": "2021-11-26T13:22:52.504Z"
   },
   {
    "duration": 11,
    "start_time": "2021-11-26T13:22:52.513Z"
   },
   {
    "duration": 4,
    "start_time": "2021-11-26T13:22:52.525Z"
   },
   {
    "duration": 6,
    "start_time": "2021-11-26T13:22:52.530Z"
   },
   {
    "duration": 4,
    "start_time": "2021-11-26T13:22:52.538Z"
   },
   {
    "duration": 5,
    "start_time": "2021-11-26T13:22:52.543Z"
   },
   {
    "duration": 46,
    "start_time": "2021-11-26T13:22:52.550Z"
   },
   {
    "duration": 12,
    "start_time": "2021-11-26T13:22:52.598Z"
   },
   {
    "duration": 3,
    "start_time": "2021-11-26T13:22:52.612Z"
   },
   {
    "duration": 16,
    "start_time": "2021-11-26T13:22:52.617Z"
   },
   {
    "duration": 16,
    "start_time": "2021-11-26T13:22:52.635Z"
   },
   {
    "duration": 3,
    "start_time": "2021-11-26T13:22:52.652Z"
   },
   {
    "duration": 35,
    "start_time": "2021-11-26T13:22:52.657Z"
   },
   {
    "duration": 6,
    "start_time": "2021-11-26T13:22:52.693Z"
   },
   {
    "duration": 4,
    "start_time": "2021-11-26T13:22:52.703Z"
   },
   {
    "duration": 5,
    "start_time": "2021-11-26T13:22:52.709Z"
   },
   {
    "duration": 3,
    "start_time": "2021-11-26T13:22:52.716Z"
   },
   {
    "duration": 648,
    "start_time": "2021-11-26T13:22:52.721Z"
   },
   {
    "duration": 7,
    "start_time": "2021-11-26T13:22:53.371Z"
   },
   {
    "duration": 20,
    "start_time": "2021-11-26T13:22:53.380Z"
   },
   {
    "duration": 20,
    "start_time": "2021-11-26T13:22:53.402Z"
   },
   {
    "duration": 21,
    "start_time": "2021-11-26T13:22:53.424Z"
   },
   {
    "duration": 14,
    "start_time": "2021-11-26T13:22:53.447Z"
   },
   {
    "duration": 30,
    "start_time": "2021-11-26T13:22:53.462Z"
   },
   {
    "duration": 21,
    "start_time": "2021-11-26T13:22:53.494Z"
   },
   {
    "duration": 16,
    "start_time": "2021-11-26T13:22:53.517Z"
   },
   {
    "duration": 35,
    "start_time": "2021-11-26T13:22:53.535Z"
   },
   {
    "duration": 11,
    "start_time": "2021-11-26T13:22:53.572Z"
   },
   {
    "duration": 18,
    "start_time": "2021-11-26T13:22:53.585Z"
   },
   {
    "duration": 28,
    "start_time": "2021-11-26T13:22:53.605Z"
   },
   {
    "duration": 20,
    "start_time": "2021-11-26T13:22:53.635Z"
   },
   {
    "duration": 24,
    "start_time": "2021-11-26T13:22:53.657Z"
   },
   {
    "duration": 14,
    "start_time": "2021-11-26T13:22:53.683Z"
   },
   {
    "duration": 18,
    "start_time": "2021-11-26T13:22:53.699Z"
   },
   {
    "duration": 259,
    "start_time": "2021-11-26T13:22:53.719Z"
   },
   {
    "duration": -1075,
    "start_time": "2021-11-26T13:22:55.055Z"
   },
   {
    "duration": -1086,
    "start_time": "2021-11-26T13:22:55.067Z"
   },
   {
    "duration": -1090,
    "start_time": "2021-11-26T13:22:55.072Z"
   },
   {
    "duration": -1095,
    "start_time": "2021-11-26T13:22:55.078Z"
   },
   {
    "duration": -1098,
    "start_time": "2021-11-26T13:22:55.082Z"
   },
   {
    "duration": -1103,
    "start_time": "2021-11-26T13:22:55.088Z"
   },
   {
    "duration": -1114,
    "start_time": "2021-11-26T13:22:55.100Z"
   },
   {
    "duration": -1118,
    "start_time": "2021-11-26T13:22:55.105Z"
   },
   {
    "duration": -1122,
    "start_time": "2021-11-26T13:22:55.110Z"
   },
   {
    "duration": 607,
    "start_time": "2021-11-26T13:23:59.975Z"
   },
   {
    "duration": 52,
    "start_time": "2021-11-26T13:24:00.584Z"
   },
   {
    "duration": 20,
    "start_time": "2021-11-26T13:24:00.638Z"
   },
   {
    "duration": 15,
    "start_time": "2021-11-26T13:24:00.660Z"
   },
   {
    "duration": 20,
    "start_time": "2021-11-26T13:24:00.676Z"
   },
   {
    "duration": 26,
    "start_time": "2021-11-26T13:24:00.698Z"
   },
   {
    "duration": 15,
    "start_time": "2021-11-26T13:24:00.726Z"
   },
   {
    "duration": 15,
    "start_time": "2021-11-26T13:24:00.744Z"
   },
   {
    "duration": 19,
    "start_time": "2021-11-26T13:24:00.762Z"
   },
   {
    "duration": 18,
    "start_time": "2021-11-26T13:24:00.783Z"
   },
   {
    "duration": 18,
    "start_time": "2021-11-26T13:24:00.802Z"
   },
   {
    "duration": 34,
    "start_time": "2021-11-26T13:24:00.821Z"
   },
   {
    "duration": 11,
    "start_time": "2021-11-26T13:24:00.856Z"
   },
   {
    "duration": 25,
    "start_time": "2021-11-26T13:24:00.869Z"
   },
   {
    "duration": 25,
    "start_time": "2021-11-26T13:24:00.896Z"
   },
   {
    "duration": 57,
    "start_time": "2021-11-26T13:24:00.923Z"
   },
   {
    "duration": 14,
    "start_time": "2021-11-26T13:24:00.981Z"
   },
   {
    "duration": 24,
    "start_time": "2021-11-26T13:24:00.997Z"
   },
   {
    "duration": 16,
    "start_time": "2021-11-26T13:24:01.023Z"
   },
   {
    "duration": 28,
    "start_time": "2021-11-26T13:24:01.041Z"
   },
   {
    "duration": 62,
    "start_time": "2021-11-26T13:24:01.071Z"
   },
   {
    "duration": 33,
    "start_time": "2021-11-26T13:24:01.135Z"
   },
   {
    "duration": 14,
    "start_time": "2021-11-26T13:24:01.172Z"
   },
   {
    "duration": 12,
    "start_time": "2021-11-26T13:24:01.188Z"
   },
   {
    "duration": 12,
    "start_time": "2021-11-26T13:24:01.202Z"
   },
   {
    "duration": 649,
    "start_time": "2021-11-26T13:24:01.216Z"
   },
   {
    "duration": 7,
    "start_time": "2021-11-26T13:24:01.867Z"
   },
   {
    "duration": 16,
    "start_time": "2021-11-26T13:24:01.876Z"
   },
   {
    "duration": 23,
    "start_time": "2021-11-26T13:24:01.894Z"
   },
   {
    "duration": 27,
    "start_time": "2021-11-26T13:24:01.919Z"
   },
   {
    "duration": 6,
    "start_time": "2021-11-26T13:24:01.948Z"
   },
   {
    "duration": 16,
    "start_time": "2021-11-26T13:24:01.955Z"
   },
   {
    "duration": 11,
    "start_time": "2021-11-26T13:24:01.972Z"
   },
   {
    "duration": 11,
    "start_time": "2021-11-26T13:24:01.984Z"
   },
   {
    "duration": 19,
    "start_time": "2021-11-26T13:24:01.997Z"
   },
   {
    "duration": 21,
    "start_time": "2021-11-26T13:24:02.018Z"
   },
   {
    "duration": 14,
    "start_time": "2021-11-26T13:24:02.041Z"
   },
   {
    "duration": 11,
    "start_time": "2021-11-26T13:24:02.057Z"
   },
   {
    "duration": 17,
    "start_time": "2021-11-26T13:24:02.070Z"
   },
   {
    "duration": 20,
    "start_time": "2021-11-26T13:24:02.088Z"
   },
   {
    "duration": 16,
    "start_time": "2021-11-26T13:24:02.110Z"
   },
   {
    "duration": 13,
    "start_time": "2021-11-26T13:24:02.128Z"
   },
   {
    "duration": 255,
    "start_time": "2021-11-26T13:24:02.143Z"
   },
   {
    "duration": -1076,
    "start_time": "2021-11-26T13:24:03.476Z"
   },
   {
    "duration": -1081,
    "start_time": "2021-11-26T13:24:03.482Z"
   },
   {
    "duration": -1087,
    "start_time": "2021-11-26T13:24:03.489Z"
   },
   {
    "duration": -1107,
    "start_time": "2021-11-26T13:24:03.510Z"
   },
   {
    "duration": -1135,
    "start_time": "2021-11-26T13:24:03.539Z"
   },
   {
    "duration": -1139,
    "start_time": "2021-11-26T13:24:03.544Z"
   },
   {
    "duration": -1147,
    "start_time": "2021-11-26T13:24:03.553Z"
   },
   {
    "duration": -1159,
    "start_time": "2021-11-26T13:24:03.566Z"
   },
   {
    "duration": -1164,
    "start_time": "2021-11-26T13:24:03.572Z"
   },
   {
    "duration": 4,
    "start_time": "2021-11-26T13:24:16.140Z"
   },
   {
    "duration": 10,
    "start_time": "2021-11-26T13:24:17.482Z"
   },
   {
    "duration": 4,
    "start_time": "2021-11-26T13:24:26.294Z"
   },
   {
    "duration": 12,
    "start_time": "2021-11-26T13:24:27.161Z"
   },
   {
    "duration": 5,
    "start_time": "2021-11-26T13:24:53.646Z"
   },
   {
    "duration": 13,
    "start_time": "2021-11-26T13:24:54.190Z"
   },
   {
    "duration": 22,
    "start_time": "2021-11-26T13:24:59.610Z"
   },
   {
    "duration": 8,
    "start_time": "2021-11-26T13:25:00.141Z"
   },
   {
    "duration": 12,
    "start_time": "2021-11-26T13:25:06.029Z"
   },
   {
    "duration": 1129,
    "start_time": "2021-11-27T10:55:26.965Z"
   },
   {
    "duration": 63,
    "start_time": "2021-11-27T10:55:28.097Z"
   },
   {
    "duration": 30,
    "start_time": "2021-11-27T10:56:53.258Z"
   },
   {
    "duration": 14,
    "start_time": "2021-11-27T10:57:46.509Z"
   },
   {
    "duration": 11,
    "start_time": "2021-11-27T11:14:34.154Z"
   },
   {
    "duration": 11,
    "start_time": "2021-11-27T11:14:35.201Z"
   },
   {
    "duration": 12,
    "start_time": "2021-11-27T11:25:33.074Z"
   },
   {
    "duration": 7,
    "start_time": "2021-11-27T11:51:35.944Z"
   },
   {
    "duration": 7,
    "start_time": "2021-11-27T11:51:42.878Z"
   },
   {
    "duration": 6,
    "start_time": "2021-11-27T12:04:27.708Z"
   },
   {
    "duration": 11,
    "start_time": "2021-11-27T12:04:28.119Z"
   },
   {
    "duration": 6,
    "start_time": "2021-11-27T12:04:29.187Z"
   },
   {
    "duration": 9,
    "start_time": "2021-11-27T12:08:37.044Z"
   },
   {
    "duration": 6,
    "start_time": "2021-11-27T12:15:16.907Z"
   },
   {
    "duration": 14,
    "start_time": "2021-11-27T12:27:05.284Z"
   },
   {
    "duration": 8317,
    "start_time": "2021-11-27T12:40:13.207Z"
   },
   {
    "duration": 7702,
    "start_time": "2021-11-27T12:40:27.310Z"
   },
   {
    "duration": 947,
    "start_time": "2021-11-27T12:41:20.664Z"
   },
   {
    "duration": 64,
    "start_time": "2021-11-27T12:41:21.615Z"
   },
   {
    "duration": 28,
    "start_time": "2021-11-27T12:41:21.683Z"
   },
   {
    "duration": 16,
    "start_time": "2021-11-27T12:41:21.714Z"
   },
   {
    "duration": 11,
    "start_time": "2021-11-27T12:41:21.732Z"
   },
   {
    "duration": 39,
    "start_time": "2021-11-27T12:41:21.745Z"
   },
   {
    "duration": 8,
    "start_time": "2021-11-27T12:41:21.786Z"
   },
   {
    "duration": 8,
    "start_time": "2021-11-27T12:41:21.798Z"
   },
   {
    "duration": 11,
    "start_time": "2021-11-27T12:41:21.810Z"
   },
   {
    "duration": 60,
    "start_time": "2021-11-27T12:41:21.823Z"
   },
   {
    "duration": 14,
    "start_time": "2021-11-27T12:41:21.887Z"
   },
   {
    "duration": 7,
    "start_time": "2021-11-27T12:41:21.903Z"
   },
   {
    "duration": 7,
    "start_time": "2021-11-27T12:41:21.912Z"
   },
   {
    "duration": 14,
    "start_time": "2021-11-27T12:41:21.922Z"
   },
   {
    "duration": 6,
    "start_time": "2021-11-27T12:41:21.939Z"
   },
   {
    "duration": 7,
    "start_time": "2021-11-27T12:41:21.982Z"
   },
   {
    "duration": 18,
    "start_time": "2021-11-27T12:41:21.991Z"
   },
   {
    "duration": 8,
    "start_time": "2021-11-27T12:41:22.011Z"
   },
   {
    "duration": 8,
    "start_time": "2021-11-27T12:41:22.021Z"
   },
   {
    "duration": 7,
    "start_time": "2021-11-27T12:41:22.032Z"
   },
   {
    "duration": 41,
    "start_time": "2021-11-27T12:41:22.042Z"
   },
   {
    "duration": 14,
    "start_time": "2021-11-27T12:41:22.086Z"
   },
   {
    "duration": 13,
    "start_time": "2021-11-27T12:41:22.104Z"
   },
   {
    "duration": 5,
    "start_time": "2021-11-27T12:41:22.119Z"
   },
   {
    "duration": 4,
    "start_time": "2021-11-27T12:41:44.623Z"
   },
   {
    "duration": 24,
    "start_time": "2021-11-27T12:42:23.374Z"
   },
   {
    "duration": 27,
    "start_time": "2021-11-27T12:42:24.403Z"
   },
   {
    "duration": 4,
    "start_time": "2021-11-27T12:42:25.099Z"
   },
   {
    "duration": 5,
    "start_time": "2021-11-27T12:42:25.693Z"
   },
   {
    "duration": 8,
    "start_time": "2021-11-27T12:42:26.279Z"
   },
   {
    "duration": 22,
    "start_time": "2021-11-27T12:43:21.053Z"
   },
   {
    "duration": 23,
    "start_time": "2021-11-27T12:43:30.251Z"
   },
   {
    "duration": 24,
    "start_time": "2021-11-27T12:43:31.131Z"
   },
   {
    "duration": 4,
    "start_time": "2021-11-27T12:43:32.823Z"
   },
   {
    "duration": 5,
    "start_time": "2021-11-27T12:43:33.243Z"
   },
   {
    "duration": 8,
    "start_time": "2021-11-27T12:43:33.655Z"
   },
   {
    "duration": 815,
    "start_time": "2021-11-27T12:44:06.972Z"
   },
   {
    "duration": 65,
    "start_time": "2021-11-27T12:44:07.790Z"
   },
   {
    "duration": 33,
    "start_time": "2021-11-27T12:44:07.858Z"
   },
   {
    "duration": 17,
    "start_time": "2021-11-27T12:44:07.895Z"
   },
   {
    "duration": 12,
    "start_time": "2021-11-27T12:44:07.916Z"
   },
   {
    "duration": 12,
    "start_time": "2021-11-27T12:44:07.931Z"
   },
   {
    "duration": 45,
    "start_time": "2021-11-27T12:44:07.946Z"
   },
   {
    "duration": 8,
    "start_time": "2021-11-27T12:44:07.997Z"
   },
   {
    "duration": 16,
    "start_time": "2021-11-27T12:44:08.008Z"
   },
   {
    "duration": 15,
    "start_time": "2021-11-27T12:44:08.026Z"
   },
   {
    "duration": 50,
    "start_time": "2021-11-27T12:44:08.043Z"
   },
   {
    "duration": 6,
    "start_time": "2021-11-27T12:44:08.099Z"
   },
   {
    "duration": 12,
    "start_time": "2021-11-27T12:44:08.107Z"
   },
   {
    "duration": 7,
    "start_time": "2021-11-27T12:44:08.122Z"
   },
   {
    "duration": 7,
    "start_time": "2021-11-27T12:44:08.131Z"
   },
   {
    "duration": 41,
    "start_time": "2021-11-27T12:44:08.141Z"
   },
   {
    "duration": 6,
    "start_time": "2021-11-27T12:44:08.185Z"
   },
   {
    "duration": 9,
    "start_time": "2021-11-27T12:44:08.193Z"
   },
   {
    "duration": 8,
    "start_time": "2021-11-27T12:44:08.205Z"
   },
   {
    "duration": 8,
    "start_time": "2021-11-27T12:44:08.215Z"
   },
   {
    "duration": 8,
    "start_time": "2021-11-27T12:44:08.225Z"
   },
   {
    "duration": 13,
    "start_time": "2021-11-27T12:44:08.282Z"
   },
   {
    "duration": 14,
    "start_time": "2021-11-27T12:44:08.299Z"
   },
   {
    "duration": 5,
    "start_time": "2021-11-27T12:44:08.316Z"
   },
   {
    "duration": 61,
    "start_time": "2021-11-27T12:44:08.323Z"
   },
   {
    "duration": 6,
    "start_time": "2021-11-27T12:50:54.130Z"
   },
   {
    "duration": 20,
    "start_time": "2021-11-27T12:53:30.354Z"
   },
   {
    "duration": 22,
    "start_time": "2021-11-27T12:53:44.598Z"
   },
   {
    "duration": 21,
    "start_time": "2021-11-27T12:54:10.748Z"
   },
   {
    "duration": 21,
    "start_time": "2021-11-27T12:54:32.561Z"
   },
   {
    "duration": 26,
    "start_time": "2021-11-27T12:54:34.589Z"
   },
   {
    "duration": 21,
    "start_time": "2021-11-27T12:54:37.019Z"
   },
   {
    "duration": 29,
    "start_time": "2021-11-27T12:55:13.341Z"
   },
   {
    "duration": 5,
    "start_time": "2021-11-27T12:55:14.759Z"
   },
   {
    "duration": 6,
    "start_time": "2021-11-27T12:55:15.117Z"
   },
   {
    "duration": 8,
    "start_time": "2021-11-27T12:55:15.500Z"
   },
   {
    "duration": 22,
    "start_time": "2021-11-27T12:56:18.651Z"
   },
   {
    "duration": 20,
    "start_time": "2021-11-27T12:56:29.682Z"
   },
   {
    "duration": 8,
    "start_time": "2021-11-27T12:57:24.283Z"
   },
   {
    "duration": 19,
    "start_time": "2021-11-27T12:58:55.436Z"
   },
   {
    "duration": 22,
    "start_time": "2021-11-27T12:58:56.792Z"
   },
   {
    "duration": 21,
    "start_time": "2021-11-27T12:58:57.517Z"
   },
   {
    "duration": 5,
    "start_time": "2021-11-27T12:58:58.233Z"
   },
   {
    "duration": 5,
    "start_time": "2021-11-27T12:58:58.642Z"
   },
   {
    "duration": 8,
    "start_time": "2021-11-27T12:58:59.565Z"
   },
   {
    "duration": 849,
    "start_time": "2021-11-27T12:59:21.182Z"
   },
   {
    "duration": 87,
    "start_time": "2021-11-27T12:59:22.035Z"
   },
   {
    "duration": 58,
    "start_time": "2021-11-27T12:59:22.126Z"
   },
   {
    "duration": 22,
    "start_time": "2021-11-27T12:59:22.188Z"
   },
   {
    "duration": 14,
    "start_time": "2021-11-27T12:59:22.213Z"
   },
   {
    "duration": 10,
    "start_time": "2021-11-27T12:59:22.230Z"
   },
   {
    "duration": 12,
    "start_time": "2021-11-27T12:59:22.281Z"
   },
   {
    "duration": 10,
    "start_time": "2021-11-27T12:59:22.298Z"
   },
   {
    "duration": 14,
    "start_time": "2021-11-27T12:59:22.312Z"
   },
   {
    "duration": 12,
    "start_time": "2021-11-27T12:59:22.329Z"
   },
   {
    "duration": 23,
    "start_time": "2021-11-27T12:59:22.386Z"
   },
   {
    "duration": 7,
    "start_time": "2021-11-27T12:59:22.412Z"
   },
   {
    "duration": 6,
    "start_time": "2021-11-27T12:59:22.422Z"
   },
   {
    "duration": 7,
    "start_time": "2021-11-27T12:59:22.430Z"
   },
   {
    "duration": 9,
    "start_time": "2021-11-27T12:59:22.440Z"
   },
   {
    "duration": 9,
    "start_time": "2021-11-27T12:59:22.483Z"
   },
   {
    "duration": 12,
    "start_time": "2021-11-27T12:59:22.495Z"
   },
   {
    "duration": 6,
    "start_time": "2021-11-27T12:59:22.510Z"
   },
   {
    "duration": 7,
    "start_time": "2021-11-27T12:59:22.518Z"
   },
   {
    "duration": 68,
    "start_time": "2021-11-27T12:59:22.527Z"
   },
   {
    "duration": 6,
    "start_time": "2021-11-27T12:59:22.597Z"
   },
   {
    "duration": 13,
    "start_time": "2021-11-27T12:59:22.606Z"
   },
   {
    "duration": 13,
    "start_time": "2021-11-27T12:59:22.623Z"
   },
   {
    "duration": 6,
    "start_time": "2021-11-27T12:59:22.639Z"
   },
   {
    "duration": 68,
    "start_time": "2021-11-27T12:59:22.649Z"
   },
   {
    "duration": 27,
    "start_time": "2021-11-27T12:59:22.720Z"
   },
   {
    "duration": 51,
    "start_time": "2021-11-27T12:59:22.750Z"
   },
   {
    "duration": 4,
    "start_time": "2021-11-27T12:59:22.803Z"
   },
   {
    "duration": 6,
    "start_time": "2021-11-27T12:59:22.810Z"
   },
   {
    "duration": 15,
    "start_time": "2021-11-27T12:59:22.818Z"
   },
   {
    "duration": 10,
    "start_time": "2021-11-27T13:04:07.359Z"
   },
   {
    "duration": 14,
    "start_time": "2021-11-27T13:04:07.886Z"
   },
   {
    "duration": 3,
    "start_time": "2021-11-27T13:04:08.360Z"
   },
   {
    "duration": 1274,
    "start_time": "2021-11-27T13:04:08.915Z"
   },
   {
    "duration": 13,
    "start_time": "2021-11-27T13:04:10.193Z"
   },
   {
    "duration": 91,
    "start_time": "2021-11-28T13:02:02.625Z"
   },
   {
    "duration": 84,
    "start_time": "2021-11-28T13:02:10.407Z"
   },
   {
    "duration": 102,
    "start_time": "2021-11-28T13:28:12.120Z"
   },
   {
    "duration": 6,
    "start_time": "2021-11-28T13:28:36.633Z"
   },
   {
    "duration": 315,
    "start_time": "2021-11-28T13:28:37.334Z"
   },
   {
    "duration": 264,
    "start_time": "2021-11-28T13:28:43.986Z"
   },
   {
    "duration": 784,
    "start_time": "2021-11-28T13:28:49.930Z"
   },
   {
    "duration": 64,
    "start_time": "2021-11-28T13:28:50.716Z"
   },
   {
    "duration": 30,
    "start_time": "2021-11-28T13:28:50.783Z"
   },
   {
    "duration": 17,
    "start_time": "2021-11-28T13:28:50.831Z"
   },
   {
    "duration": 11,
    "start_time": "2021-11-28T13:28:50.851Z"
   },
   {
    "duration": 9,
    "start_time": "2021-11-28T13:28:50.865Z"
   },
   {
    "duration": 15,
    "start_time": "2021-11-28T13:28:50.876Z"
   },
   {
    "duration": 8,
    "start_time": "2021-11-28T13:28:50.930Z"
   },
   {
    "duration": 21,
    "start_time": "2021-11-28T13:28:50.941Z"
   },
   {
    "duration": 24,
    "start_time": "2021-11-28T13:28:50.965Z"
   },
   {
    "duration": 19,
    "start_time": "2021-11-28T13:28:50.993Z"
   },
   {
    "duration": 20,
    "start_time": "2021-11-28T13:28:51.015Z"
   },
   {
    "duration": 8,
    "start_time": "2021-11-28T13:28:51.038Z"
   },
   {
    "duration": 16,
    "start_time": "2021-11-28T13:28:51.048Z"
   },
   {
    "duration": 9,
    "start_time": "2021-11-28T13:28:51.067Z"
   },
   {
    "duration": 16,
    "start_time": "2021-11-28T13:28:51.078Z"
   },
   {
    "duration": 37,
    "start_time": "2021-11-28T13:28:51.096Z"
   },
   {
    "duration": 12,
    "start_time": "2021-11-28T13:28:51.136Z"
   },
   {
    "duration": 8,
    "start_time": "2021-11-28T13:28:51.150Z"
   },
   {
    "duration": 7,
    "start_time": "2021-11-28T13:28:51.160Z"
   },
   {
    "duration": 5,
    "start_time": "2021-11-28T13:28:51.170Z"
   },
   {
    "duration": 53,
    "start_time": "2021-11-28T13:28:51.178Z"
   },
   {
    "duration": 12,
    "start_time": "2021-11-28T13:28:51.234Z"
   },
   {
    "duration": 12,
    "start_time": "2021-11-28T13:28:51.248Z"
   },
   {
    "duration": 28,
    "start_time": "2021-11-28T13:28:51.262Z"
   },
   {
    "duration": 46,
    "start_time": "2021-11-28T13:28:51.292Z"
   },
   {
    "duration": 23,
    "start_time": "2021-11-28T13:28:51.342Z"
   },
   {
    "duration": 4,
    "start_time": "2021-11-28T13:28:51.367Z"
   },
   {
    "duration": 9,
    "start_time": "2021-11-28T13:28:51.374Z"
   },
   {
    "duration": 10,
    "start_time": "2021-11-28T13:28:51.386Z"
   },
   {
    "duration": 34,
    "start_time": "2021-11-28T13:28:51.398Z"
   },
   {
    "duration": 10,
    "start_time": "2021-11-28T13:28:51.434Z"
   },
   {
    "duration": 6,
    "start_time": "2021-11-28T13:28:51.446Z"
   },
   {
    "duration": 912,
    "start_time": "2021-11-28T13:28:51.454Z"
   },
   {
    "duration": 13,
    "start_time": "2021-11-28T13:28:52.369Z"
   },
   {
    "duration": 7,
    "start_time": "2021-11-28T13:28:52.385Z"
   },
   {
    "duration": 44,
    "start_time": "2021-11-28T13:28:52.394Z"
   },
   {
    "duration": 11,
    "start_time": "2021-11-28T13:28:52.440Z"
   },
   {
    "duration": 5,
    "start_time": "2021-11-28T13:45:16.486Z"
   },
   {
    "duration": 14,
    "start_time": "2021-11-28T13:45:17.675Z"
   },
   {
    "duration": 11,
    "start_time": "2021-11-28T13:45:18.323Z"
   },
   {
    "duration": 4,
    "start_time": "2021-11-28T13:52:15.796Z"
   },
   {
    "duration": 11,
    "start_time": "2021-11-28T13:52:16.493Z"
   },
   {
    "duration": 22,
    "start_time": "2021-11-28T13:52:25.775Z"
   },
   {
    "duration": 21,
    "start_time": "2021-11-28T13:52:26.767Z"
   },
   {
    "duration": 10,
    "start_time": "2021-11-28T13:54:32.646Z"
   },
   {
    "duration": 24,
    "start_time": "2021-11-28T14:41:18.810Z"
   },
   {
    "duration": 11,
    "start_time": "2021-11-28T14:41:19.543Z"
   },
   {
    "duration": 14,
    "start_time": "2021-11-28T14:41:23.125Z"
   },
   {
    "duration": 5,
    "start_time": "2021-11-28T14:47:17.112Z"
   },
   {
    "duration": 14,
    "start_time": "2021-11-28T14:47:18.015Z"
   },
   {
    "duration": 21,
    "start_time": "2021-11-28T14:47:21.993Z"
   },
   {
    "duration": 5,
    "start_time": "2021-11-28T14:47:22.428Z"
   },
   {
    "duration": 13,
    "start_time": "2021-11-28T14:47:22.897Z"
   },
   {
    "duration": 12,
    "start_time": "2021-11-28T14:48:39.050Z"
   },
   {
    "duration": 23,
    "start_time": "2021-11-28T15:04:42.669Z"
   },
   {
    "duration": 6,
    "start_time": "2021-11-28T15:04:43.340Z"
   },
   {
    "duration": 11,
    "start_time": "2021-11-28T15:04:43.957Z"
   },
   {
    "duration": 24,
    "start_time": "2021-11-28T15:15:07.762Z"
   },
   {
    "duration": 7,
    "start_time": "2021-11-28T15:15:08.462Z"
   },
   {
    "duration": 11,
    "start_time": "2021-11-28T15:15:09.070Z"
   },
   {
    "duration": 4,
    "start_time": "2021-11-28T15:18:20.001Z"
   },
   {
    "duration": 13,
    "start_time": "2021-11-28T15:18:20.426Z"
   },
   {
    "duration": 10,
    "start_time": "2021-11-28T15:18:20.876Z"
   },
   {
    "duration": 4,
    "start_time": "2021-11-28T15:18:27.432Z"
   },
   {
    "duration": 13,
    "start_time": "2021-11-28T15:18:27.906Z"
   },
   {
    "duration": 9,
    "start_time": "2021-11-28T15:18:28.419Z"
   },
   {
    "duration": 22,
    "start_time": "2021-11-28T15:18:39.176Z"
   },
   {
    "duration": 5,
    "start_time": "2021-11-28T15:18:39.625Z"
   },
   {
    "duration": 11,
    "start_time": "2021-11-28T15:18:40.220Z"
   },
   {
    "duration": 5,
    "start_time": "2021-11-28T15:19:38.083Z"
   },
   {
    "duration": 19,
    "start_time": "2021-11-28T15:19:38.535Z"
   },
   {
    "duration": 11,
    "start_time": "2021-11-28T15:19:38.954Z"
   },
   {
    "duration": 4,
    "start_time": "2021-11-28T15:19:43.336Z"
   },
   {
    "duration": 14,
    "start_time": "2021-11-28T15:19:43.342Z"
   },
   {
    "duration": 21,
    "start_time": "2021-11-28T15:19:57.787Z"
   },
   {
    "duration": 6,
    "start_time": "2021-11-28T15:19:58.202Z"
   },
   {
    "duration": 11,
    "start_time": "2021-11-28T15:19:58.721Z"
   },
   {
    "duration": 22,
    "start_time": "2021-11-28T18:29:18.211Z"
   },
   {
    "duration": 5,
    "start_time": "2021-11-28T18:29:18.735Z"
   },
   {
    "duration": 10,
    "start_time": "2021-11-28T18:29:19.181Z"
   },
   {
    "duration": 24,
    "start_time": "2021-11-28T18:29:36.651Z"
   },
   {
    "duration": 5,
    "start_time": "2021-11-28T18:29:37.065Z"
   },
   {
    "duration": 11,
    "start_time": "2021-11-28T18:29:37.491Z"
   },
   {
    "duration": 722,
    "start_time": "2021-11-28T18:30:04.771Z"
   },
   {
    "duration": 70,
    "start_time": "2021-11-28T18:30:05.496Z"
   },
   {
    "duration": 30,
    "start_time": "2021-11-28T18:30:05.570Z"
   },
   {
    "duration": 36,
    "start_time": "2021-11-28T18:30:05.604Z"
   },
   {
    "duration": 11,
    "start_time": "2021-11-28T18:30:05.643Z"
   },
   {
    "duration": 12,
    "start_time": "2021-11-28T18:30:05.657Z"
   },
   {
    "duration": 7,
    "start_time": "2021-11-28T18:30:05.672Z"
   },
   {
    "duration": 48,
    "start_time": "2021-11-28T18:30:05.682Z"
   },
   {
    "duration": 10,
    "start_time": "2021-11-28T18:30:05.734Z"
   },
   {
    "duration": 13,
    "start_time": "2021-11-28T18:30:05.747Z"
   },
   {
    "duration": 14,
    "start_time": "2021-11-28T18:30:05.762Z"
   },
   {
    "duration": 6,
    "start_time": "2021-11-28T18:30:05.779Z"
   },
   {
    "duration": 41,
    "start_time": "2021-11-28T18:30:05.788Z"
   },
   {
    "duration": 9,
    "start_time": "2021-11-28T18:30:05.832Z"
   },
   {
    "duration": 10,
    "start_time": "2021-11-28T18:30:05.844Z"
   },
   {
    "duration": 6,
    "start_time": "2021-11-28T18:30:05.857Z"
   },
   {
    "duration": 7,
    "start_time": "2021-11-28T18:30:05.866Z"
   },
   {
    "duration": 11,
    "start_time": "2021-11-28T18:30:05.876Z"
   },
   {
    "duration": 43,
    "start_time": "2021-11-28T18:30:05.890Z"
   },
   {
    "duration": 15,
    "start_time": "2021-11-28T18:30:05.936Z"
   },
   {
    "duration": 14,
    "start_time": "2021-11-28T18:30:05.953Z"
   },
   {
    "duration": 17,
    "start_time": "2021-11-28T18:30:05.969Z"
   },
   {
    "duration": 37,
    "start_time": "2021-11-28T18:30:05.992Z"
   },
   {
    "duration": 5,
    "start_time": "2021-11-28T18:30:06.033Z"
   },
   {
    "duration": 28,
    "start_time": "2021-11-28T18:30:06.041Z"
   },
   {
    "duration": 26,
    "start_time": "2021-11-28T18:30:06.072Z"
   },
   {
    "duration": 47,
    "start_time": "2021-11-28T18:30:06.100Z"
   },
   {
    "duration": 5,
    "start_time": "2021-11-28T18:30:06.149Z"
   },
   {
    "duration": 9,
    "start_time": "2021-11-28T18:30:06.156Z"
   },
   {
    "duration": 8,
    "start_time": "2021-11-28T18:30:06.167Z"
   },
   {
    "duration": 8,
    "start_time": "2021-11-28T18:30:06.177Z"
   },
   {
    "duration": 42,
    "start_time": "2021-11-28T18:30:06.188Z"
   },
   {
    "duration": 3,
    "start_time": "2021-11-28T18:30:06.232Z"
   },
   {
    "duration": 927,
    "start_time": "2021-11-28T18:30:06.238Z"
   },
   {
    "duration": 10,
    "start_time": "2021-11-28T18:30:07.168Z"
   },
   {
    "duration": 7,
    "start_time": "2021-11-28T18:30:07.180Z"
   },
   {
    "duration": 19,
    "start_time": "2021-11-28T18:30:07.190Z"
   },
   {
    "duration": 14,
    "start_time": "2021-11-28T18:30:07.229Z"
   },
   {
    "duration": 7,
    "start_time": "2021-11-28T18:30:07.246Z"
   },
   {
    "duration": 16,
    "start_time": "2021-11-28T18:30:07.255Z"
   },
   {
    "duration": 9,
    "start_time": "2021-11-28T18:30:07.274Z"
   },
   {
    "duration": 3,
    "start_time": "2021-11-28T18:30:07.286Z"
   },
   {
    "duration": 11,
    "start_time": "2021-11-28T18:30:07.330Z"
   },
   {
    "duration": 23,
    "start_time": "2021-11-28T18:30:07.343Z"
   },
   {
    "duration": 27,
    "start_time": "2021-11-28T18:30:07.368Z"
   },
   {
    "duration": 47,
    "start_time": "2021-11-28T18:30:07.397Z"
   },
   {
    "duration": 11,
    "start_time": "2021-11-28T18:30:07.446Z"
   },
   {
    "duration": 12,
    "start_time": "2021-11-28T18:30:07.460Z"
   },
   {
    "duration": 22,
    "start_time": "2021-11-28T18:30:07.474Z"
   },
   {
    "duration": 34,
    "start_time": "2021-11-28T18:30:07.499Z"
   },
   {
    "duration": 14,
    "start_time": "2021-11-28T18:30:07.535Z"
   },
   {
    "duration": 27,
    "start_time": "2021-11-28T18:30:07.551Z"
   },
   {
    "duration": 5,
    "start_time": "2021-11-28T18:30:07.580Z"
   },
   {
    "duration": 44,
    "start_time": "2021-11-28T18:30:07.587Z"
   },
   {
    "duration": 28,
    "start_time": "2021-11-28T18:30:07.633Z"
   },
   {
    "duration": 4,
    "start_time": "2021-11-28T18:30:07.664Z"
   },
   {
    "duration": 14,
    "start_time": "2021-11-28T18:30:07.671Z"
   },
   {
    "duration": 34,
    "start_time": "2021-11-28T18:34:19.787Z"
   },
   {
    "duration": 6,
    "start_time": "2021-11-28T18:34:20.121Z"
   },
   {
    "duration": 11,
    "start_time": "2021-11-28T18:34:20.517Z"
   },
   {
    "duration": 797,
    "start_time": "2021-11-28T18:59:19.902Z"
   },
   {
    "duration": 64,
    "start_time": "2021-11-28T18:59:20.702Z"
   },
   {
    "duration": 28,
    "start_time": "2021-11-28T18:59:20.769Z"
   },
   {
    "duration": 32,
    "start_time": "2021-11-28T18:59:20.799Z"
   },
   {
    "duration": 12,
    "start_time": "2021-11-28T18:59:20.834Z"
   },
   {
    "duration": 12,
    "start_time": "2021-11-28T18:59:20.848Z"
   },
   {
    "duration": 19,
    "start_time": "2021-11-28T18:59:20.863Z"
   },
   {
    "duration": 19,
    "start_time": "2021-11-28T18:59:20.884Z"
   },
   {
    "duration": 25,
    "start_time": "2021-11-28T18:59:20.907Z"
   },
   {
    "duration": 20,
    "start_time": "2021-11-28T18:59:20.935Z"
   },
   {
    "duration": 19,
    "start_time": "2021-11-28T18:59:20.958Z"
   },
   {
    "duration": 14,
    "start_time": "2021-11-28T18:59:20.979Z"
   },
   {
    "duration": 26,
    "start_time": "2021-11-28T18:59:20.996Z"
   },
   {
    "duration": 21,
    "start_time": "2021-11-28T18:59:21.024Z"
   },
   {
    "duration": 17,
    "start_time": "2021-11-28T18:59:21.048Z"
   },
   {
    "duration": 19,
    "start_time": "2021-11-28T18:59:21.067Z"
   },
   {
    "duration": 20,
    "start_time": "2021-11-28T18:59:21.089Z"
   },
   {
    "duration": 25,
    "start_time": "2021-11-28T18:59:21.111Z"
   },
   {
    "duration": 21,
    "start_time": "2021-11-28T18:59:21.138Z"
   },
   {
    "duration": 10,
    "start_time": "2021-11-28T18:59:21.161Z"
   },
   {
    "duration": 29,
    "start_time": "2021-11-28T18:59:21.173Z"
   },
   {
    "duration": 22,
    "start_time": "2021-11-28T18:59:21.204Z"
   },
   {
    "duration": 33,
    "start_time": "2021-11-28T18:59:21.229Z"
   },
   {
    "duration": 16,
    "start_time": "2021-11-28T18:59:21.265Z"
   },
   {
    "duration": 42,
    "start_time": "2021-11-28T18:59:21.283Z"
   },
   {
    "duration": 29,
    "start_time": "2021-11-28T18:59:21.328Z"
   },
   {
    "duration": 19,
    "start_time": "2021-11-28T18:59:21.363Z"
   },
   {
    "duration": 5,
    "start_time": "2021-11-28T18:59:21.385Z"
   },
   {
    "duration": 23,
    "start_time": "2021-11-28T18:59:21.392Z"
   },
   {
    "duration": 32,
    "start_time": "2021-11-28T18:59:21.418Z"
   },
   {
    "duration": 18,
    "start_time": "2021-11-28T18:59:21.453Z"
   },
   {
    "duration": 11,
    "start_time": "2021-11-28T18:59:21.474Z"
   },
   {
    "duration": 9,
    "start_time": "2021-11-28T18:59:21.488Z"
   },
   {
    "duration": 939,
    "start_time": "2021-11-28T18:59:21.499Z"
   },
   {
    "duration": 11,
    "start_time": "2021-11-28T18:59:22.441Z"
   },
   {
    "duration": 6,
    "start_time": "2021-11-28T18:59:22.454Z"
   },
   {
    "duration": 19,
    "start_time": "2021-11-28T18:59:22.462Z"
   },
   {
    "duration": 9,
    "start_time": "2021-11-28T18:59:22.483Z"
   },
   {
    "duration": 37,
    "start_time": "2021-11-28T18:59:22.495Z"
   },
   {
    "duration": 19,
    "start_time": "2021-11-28T18:59:22.534Z"
   },
   {
    "duration": 10,
    "start_time": "2021-11-28T18:59:22.555Z"
   },
   {
    "duration": 7,
    "start_time": "2021-11-28T18:59:22.567Z"
   },
   {
    "duration": 14,
    "start_time": "2021-11-28T18:59:22.576Z"
   },
   {
    "duration": 53,
    "start_time": "2021-11-28T18:59:22.592Z"
   },
   {
    "duration": 48,
    "start_time": "2021-11-28T18:59:22.648Z"
   },
   {
    "duration": 26,
    "start_time": "2021-11-28T18:59:22.699Z"
   },
   {
    "duration": 17,
    "start_time": "2021-11-28T18:59:22.727Z"
   },
   {
    "duration": 26,
    "start_time": "2021-11-28T18:59:22.746Z"
   },
   {
    "duration": 45,
    "start_time": "2021-11-28T18:59:22.774Z"
   },
   {
    "duration": 22,
    "start_time": "2021-11-28T18:59:22.821Z"
   },
   {
    "duration": 34,
    "start_time": "2021-11-28T18:59:22.846Z"
   },
   {
    "duration": 47,
    "start_time": "2021-11-28T18:59:22.882Z"
   },
   {
    "duration": 25,
    "start_time": "2021-11-28T18:59:22.931Z"
   },
   {
    "duration": 57,
    "start_time": "2021-11-28T18:59:22.958Z"
   },
   {
    "duration": 38,
    "start_time": "2021-11-28T18:59:23.018Z"
   },
   {
    "duration": 6,
    "start_time": "2021-11-28T18:59:23.058Z"
   },
   {
    "duration": 40,
    "start_time": "2021-11-28T18:59:23.067Z"
   },
   {
    "duration": 359,
    "start_time": "2021-11-28T19:24:14.568Z"
   },
   {
    "duration": 285,
    "start_time": "2021-11-28T19:24:33.818Z"
   },
   {
    "duration": 265,
    "start_time": "2021-11-28T19:25:19.504Z"
   },
   {
    "duration": 313,
    "start_time": "2021-11-28T19:25:30.878Z"
   },
   {
    "duration": 293,
    "start_time": "2021-11-28T19:25:53.265Z"
   },
   {
    "duration": 259,
    "start_time": "2021-11-28T19:26:03.727Z"
   },
   {
    "duration": 272,
    "start_time": "2021-11-28T19:26:41.716Z"
   },
   {
    "duration": 4,
    "start_time": "2021-11-28T19:27:23.070Z"
   },
   {
    "duration": 3,
    "start_time": "2021-11-28T19:27:33.496Z"
   },
   {
    "duration": 5,
    "start_time": "2021-11-28T19:27:41.167Z"
   },
   {
    "duration": 3,
    "start_time": "2021-11-28T19:28:03.390Z"
   },
   {
    "duration": 252,
    "start_time": "2021-11-28T19:29:29.828Z"
   },
   {
    "duration": 282,
    "start_time": "2021-11-28T19:29:37.054Z"
   },
   {
    "duration": 300,
    "start_time": "2021-11-28T19:29:37.603Z"
   },
   {
    "duration": 3,
    "start_time": "2021-11-28T19:30:10.954Z"
   },
   {
    "duration": 5,
    "start_time": "2021-11-28T19:30:13.096Z"
   },
   {
    "duration": 4,
    "start_time": "2021-11-28T19:33:45.315Z"
   },
   {
    "duration": 6,
    "start_time": "2021-11-28T19:33:46.358Z"
   },
   {
    "duration": 795,
    "start_time": "2021-11-28T19:51:37.626Z"
   },
   {
    "duration": 67,
    "start_time": "2021-11-28T19:51:38.428Z"
   },
   {
    "duration": 37,
    "start_time": "2021-11-28T19:51:38.498Z"
   },
   {
    "duration": 18,
    "start_time": "2021-11-28T19:51:38.538Z"
   },
   {
    "duration": 10,
    "start_time": "2021-11-28T19:51:38.560Z"
   },
   {
    "duration": 14,
    "start_time": "2021-11-28T19:51:38.573Z"
   },
   {
    "duration": 42,
    "start_time": "2021-11-28T19:51:38.589Z"
   },
   {
    "duration": 9,
    "start_time": "2021-11-28T19:51:38.635Z"
   },
   {
    "duration": 11,
    "start_time": "2021-11-28T19:51:38.647Z"
   },
   {
    "duration": 20,
    "start_time": "2021-11-28T19:51:38.661Z"
   },
   {
    "duration": 45,
    "start_time": "2021-11-28T19:51:38.684Z"
   },
   {
    "duration": 6,
    "start_time": "2021-11-28T19:51:38.732Z"
   },
   {
    "duration": 8,
    "start_time": "2021-11-28T19:51:38.741Z"
   },
   {
    "duration": 8,
    "start_time": "2021-11-28T19:51:38.752Z"
   },
   {
    "duration": 6,
    "start_time": "2021-11-28T19:51:38.762Z"
   },
   {
    "duration": 6,
    "start_time": "2021-11-28T19:51:38.770Z"
   },
   {
    "duration": 50,
    "start_time": "2021-11-28T19:51:38.779Z"
   },
   {
    "duration": 6,
    "start_time": "2021-11-28T19:51:38.832Z"
   },
   {
    "duration": 14,
    "start_time": "2021-11-28T19:51:38.840Z"
   },
   {
    "duration": 7,
    "start_time": "2021-11-28T19:51:38.856Z"
   },
   {
    "duration": 6,
    "start_time": "2021-11-28T19:51:38.866Z"
   },
   {
    "duration": 17,
    "start_time": "2021-11-28T19:51:38.874Z"
   },
   {
    "duration": 13,
    "start_time": "2021-11-28T19:51:38.932Z"
   },
   {
    "duration": 6,
    "start_time": "2021-11-28T19:51:38.948Z"
   },
   {
    "duration": 35,
    "start_time": "2021-11-28T19:51:38.957Z"
   },
   {
    "duration": 54,
    "start_time": "2021-11-28T19:51:38.994Z"
   },
   {
    "duration": 21,
    "start_time": "2021-11-28T19:51:39.051Z"
   },
   {
    "duration": 4,
    "start_time": "2021-11-28T19:51:39.074Z"
   },
   {
    "duration": 12,
    "start_time": "2021-11-28T19:51:39.081Z"
   },
   {
    "duration": 41,
    "start_time": "2021-11-28T19:51:39.096Z"
   },
   {
    "duration": 10,
    "start_time": "2021-11-28T19:51:39.141Z"
   },
   {
    "duration": 9,
    "start_time": "2021-11-28T19:51:39.154Z"
   },
   {
    "duration": 9,
    "start_time": "2021-11-28T19:51:39.166Z"
   },
   {
    "duration": 989,
    "start_time": "2021-11-28T19:51:39.178Z"
   },
   {
    "duration": 17,
    "start_time": "2021-11-28T19:51:40.171Z"
   },
   {
    "duration": 7,
    "start_time": "2021-11-28T19:51:40.191Z"
   },
   {
    "duration": 40,
    "start_time": "2021-11-28T19:51:40.200Z"
   },
   {
    "duration": 12,
    "start_time": "2021-11-28T19:51:40.242Z"
   },
   {
    "duration": 7,
    "start_time": "2021-11-28T19:51:40.256Z"
   },
   {
    "duration": 17,
    "start_time": "2021-11-28T19:51:40.265Z"
   },
   {
    "duration": 9,
    "start_time": "2021-11-28T19:51:40.285Z"
   },
   {
    "duration": 4,
    "start_time": "2021-11-28T19:51:40.329Z"
   },
   {
    "duration": 13,
    "start_time": "2021-11-28T19:51:40.336Z"
   },
   {
    "duration": 26,
    "start_time": "2021-11-28T19:51:40.352Z"
   },
   {
    "duration": 58,
    "start_time": "2021-11-28T19:51:40.381Z"
   },
   {
    "duration": 32,
    "start_time": "2021-11-28T19:51:40.441Z"
   },
   {
    "duration": 12,
    "start_time": "2021-11-28T19:51:40.475Z"
   },
   {
    "duration": 43,
    "start_time": "2021-11-28T19:51:40.490Z"
   },
   {
    "duration": 28,
    "start_time": "2021-11-28T19:51:40.536Z"
   },
   {
    "duration": 5,
    "start_time": "2021-11-28T19:51:40.567Z"
   },
   {
    "duration": 16,
    "start_time": "2021-11-28T19:51:40.575Z"
   },
   {
    "duration": 53,
    "start_time": "2021-11-28T19:51:40.593Z"
   },
   {
    "duration": 6,
    "start_time": "2021-11-28T19:51:40.649Z"
   },
   {
    "duration": 15,
    "start_time": "2021-11-28T19:51:40.657Z"
   },
   {
    "duration": 23,
    "start_time": "2021-11-28T19:51:40.674Z"
   },
   {
    "duration": 34,
    "start_time": "2021-11-28T19:51:40.699Z"
   },
   {
    "duration": 15,
    "start_time": "2021-11-28T19:51:40.735Z"
   },
   {
    "duration": 772,
    "start_time": "2021-11-29T09:12:43.682Z"
   },
   {
    "duration": 47,
    "start_time": "2021-11-29T09:12:44.455Z"
   },
   {
    "duration": 17,
    "start_time": "2021-11-29T09:12:44.504Z"
   },
   {
    "duration": 10,
    "start_time": "2021-11-29T09:12:44.522Z"
   },
   {
    "duration": 6,
    "start_time": "2021-11-29T09:12:44.534Z"
   },
   {
    "duration": 7,
    "start_time": "2021-11-29T09:12:44.541Z"
   },
   {
    "duration": 5,
    "start_time": "2021-11-29T09:12:44.549Z"
   },
   {
    "duration": 35,
    "start_time": "2021-11-29T09:12:44.556Z"
   },
   {
    "duration": 8,
    "start_time": "2021-11-29T09:12:44.593Z"
   },
   {
    "duration": 7,
    "start_time": "2021-11-29T09:12:44.603Z"
   },
   {
    "duration": 11,
    "start_time": "2021-11-29T09:12:44.612Z"
   },
   {
    "duration": 4,
    "start_time": "2021-11-29T09:12:44.625Z"
   },
   {
    "duration": 5,
    "start_time": "2021-11-29T09:12:44.630Z"
   },
   {
    "duration": 7,
    "start_time": "2021-11-29T09:12:44.636Z"
   },
   {
    "duration": 6,
    "start_time": "2021-11-29T09:12:44.644Z"
   },
   {
    "duration": 5,
    "start_time": "2021-11-29T09:12:44.651Z"
   },
   {
    "duration": 31,
    "start_time": "2021-11-29T09:12:44.658Z"
   },
   {
    "duration": 3,
    "start_time": "2021-11-29T09:12:44.691Z"
   },
   {
    "duration": 13,
    "start_time": "2021-11-29T09:12:44.696Z"
   },
   {
    "duration": 10,
    "start_time": "2021-11-29T09:12:44.710Z"
   },
   {
    "duration": 9,
    "start_time": "2021-11-29T09:12:44.721Z"
   },
   {
    "duration": 11,
    "start_time": "2021-11-29T09:12:44.732Z"
   },
   {
    "duration": 7,
    "start_time": "2021-11-29T09:12:44.747Z"
   },
   {
    "duration": 3,
    "start_time": "2021-11-29T09:12:44.756Z"
   },
   {
    "duration": 28,
    "start_time": "2021-11-29T09:12:44.760Z"
   },
   {
    "duration": 14,
    "start_time": "2021-11-29T09:12:44.790Z"
   },
   {
    "duration": 12,
    "start_time": "2021-11-29T09:12:44.805Z"
   },
   {
    "duration": 3,
    "start_time": "2021-11-29T09:12:44.818Z"
   },
   {
    "duration": 7,
    "start_time": "2021-11-29T09:12:44.822Z"
   },
   {
    "duration": 7,
    "start_time": "2021-11-29T09:12:44.831Z"
   },
   {
    "duration": 9,
    "start_time": "2021-11-29T09:12:44.839Z"
   },
   {
    "duration": 4,
    "start_time": "2021-11-29T09:12:44.849Z"
   },
   {
    "duration": 5,
    "start_time": "2021-11-29T09:12:44.854Z"
   },
   {
    "duration": 619,
    "start_time": "2021-11-29T09:12:44.860Z"
   },
   {
    "duration": 11,
    "start_time": "2021-11-29T09:12:45.481Z"
   },
   {
    "duration": 23,
    "start_time": "2021-11-29T09:12:45.493Z"
   },
   {
    "duration": 21,
    "start_time": "2021-11-29T09:12:45.517Z"
   },
   {
    "duration": 7,
    "start_time": "2021-11-29T09:12:45.540Z"
   },
   {
    "duration": 10,
    "start_time": "2021-11-29T09:12:45.548Z"
   },
   {
    "duration": 23,
    "start_time": "2021-11-29T09:12:45.559Z"
   },
   {
    "duration": 10,
    "start_time": "2021-11-29T09:12:45.583Z"
   },
   {
    "duration": 18,
    "start_time": "2021-11-29T09:12:45.594Z"
   },
   {
    "duration": 9,
    "start_time": "2021-11-29T09:12:45.613Z"
   },
   {
    "duration": 16,
    "start_time": "2021-11-29T09:12:45.623Z"
   },
   {
    "duration": 15,
    "start_time": "2021-11-29T09:12:45.641Z"
   },
   {
    "duration": 13,
    "start_time": "2021-11-29T09:12:45.657Z"
   },
   {
    "duration": 4,
    "start_time": "2021-11-29T09:12:45.672Z"
   },
   {
    "duration": 11,
    "start_time": "2021-11-29T09:12:45.677Z"
   },
   {
    "duration": 15,
    "start_time": "2021-11-29T09:12:45.690Z"
   },
   {
    "duration": 3,
    "start_time": "2021-11-29T09:12:45.707Z"
   },
   {
    "duration": 12,
    "start_time": "2021-11-29T09:12:45.711Z"
   },
   {
    "duration": 14,
    "start_time": "2021-11-29T09:12:45.725Z"
   },
   {
    "duration": 3,
    "start_time": "2021-11-29T09:12:45.740Z"
   },
   {
    "duration": 14,
    "start_time": "2021-11-29T09:12:45.744Z"
   },
   {
    "duration": 30,
    "start_time": "2021-11-29T09:12:45.759Z"
   },
   {
    "duration": 4,
    "start_time": "2021-11-29T09:12:45.790Z"
   },
   {
    "duration": 11,
    "start_time": "2021-11-29T09:12:45.795Z"
   },
   {
    "duration": 11,
    "start_time": "2021-11-29T09:17:03.667Z"
   },
   {
    "duration": 10,
    "start_time": "2021-11-29T09:17:17.139Z"
   },
   {
    "duration": 12,
    "start_time": "2021-11-29T09:17:26.189Z"
   },
   {
    "duration": 79,
    "start_time": "2021-11-29T09:24:37.829Z"
   },
   {
    "duration": 1619,
    "start_time": "2021-11-29T09:24:44.832Z"
   },
   {
    "duration": 13,
    "start_time": "2021-11-29T09:29:31.704Z"
   },
   {
    "duration": 214,
    "start_time": "2021-11-29T13:52:46.476Z"
   },
   {
    "duration": 598,
    "start_time": "2021-11-29T13:53:00.317Z"
   },
   {
    "duration": 52,
    "start_time": "2021-11-29T13:53:00.918Z"
   },
   {
    "duration": 26,
    "start_time": "2021-11-29T13:53:00.972Z"
   },
   {
    "duration": 12,
    "start_time": "2021-11-29T13:53:01.000Z"
   },
   {
    "duration": 8,
    "start_time": "2021-11-29T13:53:01.014Z"
   },
   {
    "duration": 12,
    "start_time": "2021-11-29T13:53:01.024Z"
   },
   {
    "duration": 13,
    "start_time": "2021-11-29T13:53:01.038Z"
   },
   {
    "duration": 22,
    "start_time": "2021-11-29T13:53:01.053Z"
   },
   {
    "duration": 19,
    "start_time": "2021-11-29T13:53:01.077Z"
   },
   {
    "duration": 14,
    "start_time": "2021-11-29T13:53:01.097Z"
   },
   {
    "duration": 19,
    "start_time": "2021-11-29T13:53:01.113Z"
   },
   {
    "duration": 9,
    "start_time": "2021-11-29T13:53:01.134Z"
   },
   {
    "duration": 11,
    "start_time": "2021-11-29T13:53:01.144Z"
   },
   {
    "duration": 7,
    "start_time": "2021-11-29T13:53:01.157Z"
   },
   {
    "duration": 14,
    "start_time": "2021-11-29T13:53:01.166Z"
   },
   {
    "duration": 5,
    "start_time": "2021-11-29T13:53:01.192Z"
   },
   {
    "duration": 9,
    "start_time": "2021-11-29T13:53:01.198Z"
   },
   {
    "duration": 7,
    "start_time": "2021-11-29T13:53:01.209Z"
   },
   {
    "duration": 14,
    "start_time": "2021-11-29T13:53:01.218Z"
   },
   {
    "duration": 5,
    "start_time": "2021-11-29T13:53:01.234Z"
   },
   {
    "duration": 6,
    "start_time": "2021-11-29T13:53:01.241Z"
   },
   {
    "duration": 9,
    "start_time": "2021-11-29T13:53:01.249Z"
   },
   {
    "duration": 31,
    "start_time": "2021-11-29T13:53:01.261Z"
   },
   {
    "duration": 15,
    "start_time": "2021-11-29T13:53:01.294Z"
   },
   {
    "duration": 30,
    "start_time": "2021-11-29T13:53:01.311Z"
   },
   {
    "duration": 217,
    "start_time": "2021-11-29T13:53:01.343Z"
   },
   {
    "duration": 174,
    "start_time": "2021-11-29T13:53:38.232Z"
   },
   {
    "duration": 12,
    "start_time": "2021-11-29T13:55:28.387Z"
   },
   {
    "duration": 15,
    "start_time": "2021-11-29T13:56:12.693Z"
   },
   {
    "duration": 12,
    "start_time": "2021-11-29T13:56:17.365Z"
   },
   {
    "duration": 15,
    "start_time": "2021-11-29T13:56:18.061Z"
   },
   {
    "duration": 521,
    "start_time": "2021-11-29T13:56:36.132Z"
   },
   {
    "duration": 55,
    "start_time": "2021-11-29T13:56:36.655Z"
   },
   {
    "duration": 17,
    "start_time": "2021-11-29T13:56:36.712Z"
   },
   {
    "duration": 10,
    "start_time": "2021-11-29T13:56:36.731Z"
   },
   {
    "duration": 6,
    "start_time": "2021-11-29T13:56:36.742Z"
   },
   {
    "duration": 8,
    "start_time": "2021-11-29T13:56:36.750Z"
   },
   {
    "duration": 32,
    "start_time": "2021-11-29T13:56:36.759Z"
   },
   {
    "duration": 6,
    "start_time": "2021-11-29T13:56:36.793Z"
   },
   {
    "duration": 8,
    "start_time": "2021-11-29T13:56:36.801Z"
   },
   {
    "duration": 8,
    "start_time": "2021-11-29T13:56:36.810Z"
   },
   {
    "duration": 15,
    "start_time": "2021-11-29T13:56:36.820Z"
   },
   {
    "duration": 10,
    "start_time": "2021-11-29T13:56:36.837Z"
   },
   {
    "duration": 6,
    "start_time": "2021-11-29T13:56:36.848Z"
   },
   {
    "duration": 4,
    "start_time": "2021-11-29T13:56:36.892Z"
   },
   {
    "duration": 7,
    "start_time": "2021-11-29T13:56:36.898Z"
   },
   {
    "duration": 6,
    "start_time": "2021-11-29T13:56:36.907Z"
   },
   {
    "duration": 6,
    "start_time": "2021-11-29T13:56:36.915Z"
   },
   {
    "duration": 5,
    "start_time": "2021-11-29T13:56:36.923Z"
   },
   {
    "duration": 5,
    "start_time": "2021-11-29T13:56:36.930Z"
   },
   {
    "duration": 4,
    "start_time": "2021-11-29T13:56:36.937Z"
   },
   {
    "duration": 6,
    "start_time": "2021-11-29T13:56:36.943Z"
   },
   {
    "duration": 42,
    "start_time": "2021-11-29T13:56:36.950Z"
   },
   {
    "duration": 9,
    "start_time": "2021-11-29T13:56:36.995Z"
   },
   {
    "duration": 8,
    "start_time": "2021-11-29T13:56:37.006Z"
   },
   {
    "duration": 4,
    "start_time": "2021-11-29T13:56:37.016Z"
   },
   {
    "duration": 17,
    "start_time": "2021-11-29T13:56:37.021Z"
   },
   {
    "duration": 17,
    "start_time": "2021-11-29T13:56:37.039Z"
   },
   {
    "duration": 22,
    "start_time": "2021-11-29T13:56:50.304Z"
   },
   {
    "duration": 13,
    "start_time": "2021-11-29T13:57:07.015Z"
   },
   {
    "duration": 15,
    "start_time": "2021-11-29T13:57:07.658Z"
   },
   {
    "duration": 545,
    "start_time": "2021-11-29T13:57:21.956Z"
   },
   {
    "duration": 51,
    "start_time": "2021-11-29T13:57:22.503Z"
   },
   {
    "duration": 19,
    "start_time": "2021-11-29T13:57:22.556Z"
   },
   {
    "duration": 18,
    "start_time": "2021-11-29T13:57:22.576Z"
   },
   {
    "duration": 16,
    "start_time": "2021-11-29T13:57:22.596Z"
   },
   {
    "duration": 17,
    "start_time": "2021-11-29T13:57:22.613Z"
   },
   {
    "duration": 25,
    "start_time": "2021-11-29T13:57:22.633Z"
   },
   {
    "duration": 20,
    "start_time": "2021-11-29T13:57:22.661Z"
   },
   {
    "duration": 22,
    "start_time": "2021-11-29T13:57:22.684Z"
   },
   {
    "duration": 30,
    "start_time": "2021-11-29T13:57:22.707Z"
   },
   {
    "duration": 34,
    "start_time": "2021-11-29T13:57:22.738Z"
   },
   {
    "duration": 29,
    "start_time": "2021-11-29T13:57:22.773Z"
   },
   {
    "duration": 24,
    "start_time": "2021-11-29T13:57:22.804Z"
   },
   {
    "duration": 21,
    "start_time": "2021-11-29T13:57:22.830Z"
   },
   {
    "duration": 33,
    "start_time": "2021-11-29T13:57:22.852Z"
   },
   {
    "duration": 24,
    "start_time": "2021-11-29T13:57:22.887Z"
   },
   {
    "duration": 28,
    "start_time": "2021-11-29T13:57:22.913Z"
   },
   {
    "duration": 23,
    "start_time": "2021-11-29T13:57:22.942Z"
   },
   {
    "duration": 31,
    "start_time": "2021-11-29T13:57:22.966Z"
   },
   {
    "duration": 23,
    "start_time": "2021-11-29T13:57:22.999Z"
   },
   {
    "duration": 35,
    "start_time": "2021-11-29T13:57:23.024Z"
   },
   {
    "duration": 30,
    "start_time": "2021-11-29T13:57:23.060Z"
   },
   {
    "duration": 17,
    "start_time": "2021-11-29T13:57:23.094Z"
   },
   {
    "duration": 26,
    "start_time": "2021-11-29T13:57:23.113Z"
   },
   {
    "duration": 12,
    "start_time": "2021-11-29T13:57:23.141Z"
   },
   {
    "duration": 41,
    "start_time": "2021-11-29T13:57:23.155Z"
   },
   {
    "duration": 22,
    "start_time": "2021-11-29T13:57:23.198Z"
   },
   {
    "duration": 18,
    "start_time": "2021-11-29T13:57:23.222Z"
   },
   {
    "duration": 28,
    "start_time": "2021-11-29T13:57:23.242Z"
   },
   {
    "duration": 6,
    "start_time": "2021-11-29T13:57:23.272Z"
   },
   {
    "duration": 12,
    "start_time": "2021-11-29T13:57:23.279Z"
   },
   {
    "duration": 22,
    "start_time": "2021-11-29T13:57:23.293Z"
   },
   {
    "duration": 14,
    "start_time": "2021-11-29T13:57:23.317Z"
   },
   {
    "duration": 17,
    "start_time": "2021-11-29T13:57:23.332Z"
   },
   {
    "duration": 18,
    "start_time": "2021-11-29T13:57:23.350Z"
   },
   {
    "duration": 661,
    "start_time": "2021-11-29T13:57:23.369Z"
   },
   {
    "duration": 7,
    "start_time": "2021-11-29T13:57:24.032Z"
   },
   {
    "duration": 1732,
    "start_time": "2021-11-29T13:57:24.041Z"
   },
   {
    "duration": 3,
    "start_time": "2021-11-29T13:57:25.775Z"
   },
   {
    "duration": 19,
    "start_time": "2021-11-29T13:57:25.779Z"
   },
   {
    "duration": 37,
    "start_time": "2021-11-29T13:57:25.799Z"
   },
   {
    "duration": 16,
    "start_time": "2021-11-29T13:57:25.837Z"
   },
   {
    "duration": 30,
    "start_time": "2021-11-29T13:57:25.855Z"
   },
   {
    "duration": 18,
    "start_time": "2021-11-29T13:57:25.886Z"
   },
   {
    "duration": 9,
    "start_time": "2021-11-29T13:57:25.906Z"
   },
   {
    "duration": 30,
    "start_time": "2021-11-29T13:57:25.916Z"
   },
   {
    "duration": 31,
    "start_time": "2021-11-29T13:57:25.948Z"
   },
   {
    "duration": 36,
    "start_time": "2021-11-29T13:57:25.980Z"
   },
   {
    "duration": 23,
    "start_time": "2021-11-29T13:57:26.018Z"
   },
   {
    "duration": 23,
    "start_time": "2021-11-29T13:57:26.042Z"
   },
   {
    "duration": 26,
    "start_time": "2021-11-29T13:57:26.066Z"
   },
   {
    "duration": 33,
    "start_time": "2021-11-29T13:57:26.094Z"
   },
   {
    "duration": 20,
    "start_time": "2021-11-29T13:57:26.129Z"
   },
   {
    "duration": 10,
    "start_time": "2021-11-29T13:57:26.151Z"
   },
   {
    "duration": 19,
    "start_time": "2021-11-29T13:57:26.162Z"
   },
   {
    "duration": 25,
    "start_time": "2021-11-29T13:57:26.183Z"
   },
   {
    "duration": 4,
    "start_time": "2021-11-29T13:57:26.210Z"
   },
   {
    "duration": 27,
    "start_time": "2021-11-29T13:57:26.216Z"
   },
   {
    "duration": 26,
    "start_time": "2021-11-29T13:57:26.245Z"
   },
   {
    "duration": 7,
    "start_time": "2021-11-29T13:57:26.273Z"
   },
   {
    "duration": 22,
    "start_time": "2021-11-29T13:57:26.281Z"
   },
   {
    "duration": 20,
    "start_time": "2021-11-29T13:58:48.429Z"
   },
   {
    "duration": 19,
    "start_time": "2021-11-29T13:58:51.356Z"
   },
   {
    "duration": 20,
    "start_time": "2021-11-29T13:58:57.741Z"
   },
   {
    "duration": 12,
    "start_time": "2021-11-29T13:59:01.881Z"
   },
   {
    "duration": 18,
    "start_time": "2021-11-29T13:59:02.814Z"
   },
   {
    "duration": 31,
    "start_time": "2021-11-29T13:59:05.223Z"
   },
   {
    "duration": 18,
    "start_time": "2021-11-29T13:59:06.428Z"
   },
   {
    "duration": 3,
    "start_time": "2021-11-29T13:59:24.602Z"
   },
   {
    "duration": 54,
    "start_time": "2021-11-29T13:59:24.609Z"
   },
   {
    "duration": 13,
    "start_time": "2021-11-29T13:59:24.665Z"
   },
   {
    "duration": 15,
    "start_time": "2021-11-29T13:59:24.680Z"
   },
   {
    "duration": 7,
    "start_time": "2021-11-29T13:59:24.697Z"
   },
   {
    "duration": 7,
    "start_time": "2021-11-29T13:59:24.705Z"
   },
   {
    "duration": 10,
    "start_time": "2021-11-29T13:59:24.714Z"
   },
   {
    "duration": 6,
    "start_time": "2021-11-29T13:59:24.726Z"
   },
   {
    "duration": 7,
    "start_time": "2021-11-29T13:59:24.736Z"
   },
   {
    "duration": 49,
    "start_time": "2021-11-29T13:59:24.745Z"
   },
   {
    "duration": 13,
    "start_time": "2021-11-29T13:59:24.796Z"
   },
   {
    "duration": 9,
    "start_time": "2021-11-29T13:59:24.811Z"
   },
   {
    "duration": 4,
    "start_time": "2021-11-29T13:59:24.822Z"
   },
   {
    "duration": 5,
    "start_time": "2021-11-29T13:59:24.828Z"
   },
   {
    "duration": 6,
    "start_time": "2021-11-29T13:59:24.834Z"
   },
   {
    "duration": 5,
    "start_time": "2021-11-29T13:59:24.841Z"
   },
   {
    "duration": 46,
    "start_time": "2021-11-29T13:59:24.847Z"
   },
   {
    "duration": 6,
    "start_time": "2021-11-29T13:59:24.895Z"
   },
   {
    "duration": 5,
    "start_time": "2021-11-29T13:59:24.902Z"
   },
   {
    "duration": 5,
    "start_time": "2021-11-29T13:59:24.908Z"
   },
   {
    "duration": 5,
    "start_time": "2021-11-29T13:59:24.915Z"
   },
   {
    "duration": 5,
    "start_time": "2021-11-29T13:59:24.922Z"
   },
   {
    "duration": 9,
    "start_time": "2021-11-29T13:59:24.930Z"
   },
   {
    "duration": 12,
    "start_time": "2021-11-29T13:59:24.941Z"
   },
   {
    "duration": 38,
    "start_time": "2021-11-29T13:59:24.955Z"
   },
   {
    "duration": 14,
    "start_time": "2021-11-29T13:59:24.995Z"
   },
   {
    "duration": 17,
    "start_time": "2021-11-29T13:59:25.011Z"
   },
   {
    "duration": 565,
    "start_time": "2021-11-29T14:00:36.965Z"
   },
   {
    "duration": 49,
    "start_time": "2021-11-29T14:00:37.532Z"
   },
   {
    "duration": 18,
    "start_time": "2021-11-29T14:00:37.583Z"
   },
   {
    "duration": 11,
    "start_time": "2021-11-29T14:00:37.603Z"
   },
   {
    "duration": 13,
    "start_time": "2021-11-29T14:00:37.616Z"
   },
   {
    "duration": 12,
    "start_time": "2021-11-29T14:00:37.631Z"
   },
   {
    "duration": 22,
    "start_time": "2021-11-29T14:00:37.644Z"
   },
   {
    "duration": 9,
    "start_time": "2021-11-29T14:00:37.668Z"
   },
   {
    "duration": 31,
    "start_time": "2021-11-29T14:00:37.678Z"
   },
   {
    "duration": 13,
    "start_time": "2021-11-29T14:00:37.711Z"
   },
   {
    "duration": 32,
    "start_time": "2021-11-29T14:00:37.726Z"
   },
   {
    "duration": 9,
    "start_time": "2021-11-29T14:00:37.760Z"
   },
   {
    "duration": 17,
    "start_time": "2021-11-29T14:00:37.770Z"
   },
   {
    "duration": 18,
    "start_time": "2021-11-29T14:00:37.789Z"
   },
   {
    "duration": 14,
    "start_time": "2021-11-29T14:00:37.808Z"
   },
   {
    "duration": 14,
    "start_time": "2021-11-29T14:00:37.823Z"
   },
   {
    "duration": 9,
    "start_time": "2021-11-29T14:00:37.838Z"
   },
   {
    "duration": 12,
    "start_time": "2021-11-29T14:00:37.849Z"
   },
   {
    "duration": 16,
    "start_time": "2021-11-29T14:00:37.863Z"
   },
   {
    "duration": 7,
    "start_time": "2021-11-29T14:00:37.881Z"
   },
   {
    "duration": 6,
    "start_time": "2021-11-29T14:00:37.890Z"
   },
   {
    "duration": 4,
    "start_time": "2021-11-29T14:00:37.898Z"
   },
   {
    "duration": 21,
    "start_time": "2021-11-29T14:00:37.905Z"
   },
   {
    "duration": 9,
    "start_time": "2021-11-29T14:00:37.927Z"
   },
   {
    "duration": 8,
    "start_time": "2021-11-29T14:00:37.937Z"
   },
   {
    "duration": 12,
    "start_time": "2021-11-29T14:00:43.050Z"
   },
   {
    "duration": 16,
    "start_time": "2021-11-29T14:00:44.684Z"
   },
   {
    "duration": 26,
    "start_time": "2021-11-29T14:00:46.944Z"
   },
   {
    "duration": 458,
    "start_time": "2021-11-29T14:00:57.116Z"
   },
   {
    "duration": 14,
    "start_time": "2021-11-29T14:01:05.686Z"
   },
   {
    "duration": 21,
    "start_time": "2021-11-29T14:01:10.436Z"
   },
   {
    "duration": 13,
    "start_time": "2021-11-29T14:01:13.120Z"
   },
   {
    "duration": 12,
    "start_time": "2021-11-29T14:01:15.527Z"
   },
   {
    "duration": 13,
    "start_time": "2021-11-29T14:01:16.127Z"
   },
   {
    "duration": 3,
    "start_time": "2021-11-29T14:01:21.762Z"
   },
   {
    "duration": 54,
    "start_time": "2021-11-29T14:01:21.767Z"
   },
   {
    "duration": 13,
    "start_time": "2021-11-29T14:01:21.823Z"
   },
   {
    "duration": 15,
    "start_time": "2021-11-29T14:01:21.838Z"
   },
   {
    "duration": 17,
    "start_time": "2021-11-29T14:01:21.855Z"
   },
   {
    "duration": 18,
    "start_time": "2021-11-29T14:01:21.874Z"
   },
   {
    "duration": 10,
    "start_time": "2021-11-29T14:01:21.895Z"
   },
   {
    "duration": 17,
    "start_time": "2021-11-29T14:01:21.906Z"
   },
   {
    "duration": 23,
    "start_time": "2021-11-29T14:01:21.925Z"
   },
   {
    "duration": 12,
    "start_time": "2021-11-29T14:01:21.950Z"
   },
   {
    "duration": 27,
    "start_time": "2021-11-29T14:01:21.963Z"
   },
   {
    "duration": 9,
    "start_time": "2021-11-29T14:01:21.992Z"
   },
   {
    "duration": 14,
    "start_time": "2021-11-29T14:01:22.002Z"
   },
   {
    "duration": 23,
    "start_time": "2021-11-29T14:01:22.018Z"
   },
   {
    "duration": 15,
    "start_time": "2021-11-29T14:01:22.043Z"
   },
   {
    "duration": 13,
    "start_time": "2021-11-29T14:01:22.060Z"
   },
   {
    "duration": 5,
    "start_time": "2021-11-29T14:01:22.074Z"
   },
   {
    "duration": 19,
    "start_time": "2021-11-29T14:01:22.081Z"
   },
   {
    "duration": 13,
    "start_time": "2021-11-29T14:01:22.102Z"
   },
   {
    "duration": 12,
    "start_time": "2021-11-29T14:01:22.116Z"
   },
   {
    "duration": 17,
    "start_time": "2021-11-29T14:01:22.129Z"
   },
   {
    "duration": 11,
    "start_time": "2021-11-29T14:01:22.148Z"
   },
   {
    "duration": 21,
    "start_time": "2021-11-29T14:01:22.160Z"
   },
   {
    "duration": 16,
    "start_time": "2021-11-29T14:01:22.184Z"
   },
   {
    "duration": 9,
    "start_time": "2021-11-29T14:01:22.202Z"
   },
   {
    "duration": 29,
    "start_time": "2021-11-29T14:01:22.212Z"
   },
   {
    "duration": 16,
    "start_time": "2021-11-29T14:01:25.664Z"
   },
   {
    "duration": 4,
    "start_time": "2021-11-29T14:01:52.005Z"
   },
   {
    "duration": 61,
    "start_time": "2021-11-29T14:01:52.011Z"
   },
   {
    "duration": 13,
    "start_time": "2021-11-29T14:01:52.074Z"
   },
   {
    "duration": 18,
    "start_time": "2021-11-29T14:01:52.089Z"
   },
   {
    "duration": 29,
    "start_time": "2021-11-29T14:01:52.109Z"
   },
   {
    "duration": 22,
    "start_time": "2021-11-29T14:01:52.139Z"
   },
   {
    "duration": 14,
    "start_time": "2021-11-29T14:01:52.163Z"
   },
   {
    "duration": 13,
    "start_time": "2021-11-29T14:01:52.178Z"
   },
   {
    "duration": 19,
    "start_time": "2021-11-29T14:01:52.195Z"
   },
   {
    "duration": 9,
    "start_time": "2021-11-29T14:01:52.217Z"
   },
   {
    "duration": 23,
    "start_time": "2021-11-29T14:01:52.228Z"
   },
   {
    "duration": 10,
    "start_time": "2021-11-29T14:01:52.253Z"
   },
   {
    "duration": 16,
    "start_time": "2021-11-29T14:01:52.264Z"
   },
   {
    "duration": 9,
    "start_time": "2021-11-29T14:01:52.282Z"
   },
   {
    "duration": 14,
    "start_time": "2021-11-29T14:01:52.292Z"
   },
   {
    "duration": 18,
    "start_time": "2021-11-29T14:01:52.308Z"
   },
   {
    "duration": 14,
    "start_time": "2021-11-29T14:01:52.328Z"
   },
   {
    "duration": 17,
    "start_time": "2021-11-29T14:01:52.344Z"
   },
   {
    "duration": 18,
    "start_time": "2021-11-29T14:01:52.362Z"
   },
   {
    "duration": 11,
    "start_time": "2021-11-29T14:01:52.381Z"
   },
   {
    "duration": 13,
    "start_time": "2021-11-29T14:01:52.394Z"
   },
   {
    "duration": 8,
    "start_time": "2021-11-29T14:01:52.408Z"
   },
   {
    "duration": 28,
    "start_time": "2021-11-29T14:01:52.418Z"
   },
   {
    "duration": 12,
    "start_time": "2021-11-29T14:01:52.447Z"
   },
   {
    "duration": 12,
    "start_time": "2021-11-29T14:01:52.460Z"
   },
   {
    "duration": 21,
    "start_time": "2021-11-29T14:01:52.473Z"
   },
   {
    "duration": 567,
    "start_time": "2021-11-29T14:03:25.502Z"
   },
   {
    "duration": 50,
    "start_time": "2021-11-29T14:03:26.071Z"
   },
   {
    "duration": 18,
    "start_time": "2021-11-29T14:03:26.123Z"
   },
   {
    "duration": 11,
    "start_time": "2021-11-29T14:03:26.142Z"
   },
   {
    "duration": 7,
    "start_time": "2021-11-29T14:03:26.154Z"
   },
   {
    "duration": 7,
    "start_time": "2021-11-29T14:03:26.162Z"
   },
   {
    "duration": 6,
    "start_time": "2021-11-29T14:03:26.191Z"
   },
   {
    "duration": 5,
    "start_time": "2021-11-29T14:03:26.200Z"
   },
   {
    "duration": 7,
    "start_time": "2021-11-29T14:03:26.207Z"
   },
   {
    "duration": 8,
    "start_time": "2021-11-29T14:03:26.216Z"
   },
   {
    "duration": 15,
    "start_time": "2021-11-29T14:03:26.226Z"
   },
   {
    "duration": 9,
    "start_time": "2021-11-29T14:03:26.243Z"
   },
   {
    "duration": 40,
    "start_time": "2021-11-29T14:03:26.253Z"
   },
   {
    "duration": 7,
    "start_time": "2021-11-29T14:03:26.294Z"
   },
   {
    "duration": 5,
    "start_time": "2021-11-29T14:03:26.303Z"
   },
   {
    "duration": 5,
    "start_time": "2021-11-29T14:03:26.310Z"
   },
   {
    "duration": 6,
    "start_time": "2021-11-29T14:03:26.316Z"
   },
   {
    "duration": 7,
    "start_time": "2021-11-29T14:03:26.323Z"
   },
   {
    "duration": 4,
    "start_time": "2021-11-29T14:03:26.332Z"
   },
   {
    "duration": 5,
    "start_time": "2021-11-29T14:03:26.338Z"
   },
   {
    "duration": 46,
    "start_time": "2021-11-29T14:03:26.345Z"
   },
   {
    "duration": 5,
    "start_time": "2021-11-29T14:03:26.394Z"
   },
   {
    "duration": 14,
    "start_time": "2021-11-29T14:03:26.404Z"
   },
   {
    "duration": 13,
    "start_time": "2021-11-29T14:03:26.421Z"
   },
   {
    "duration": 4,
    "start_time": "2021-11-29T14:03:26.436Z"
   },
   {
    "duration": 14,
    "start_time": "2021-11-29T14:03:26.441Z"
   },
   {
    "duration": 45,
    "start_time": "2021-11-29T14:03:26.457Z"
   },
   {
    "duration": 20,
    "start_time": "2021-11-29T14:03:26.505Z"
   },
   {
    "duration": 15,
    "start_time": "2021-11-29T14:03:26.526Z"
   },
   {
    "duration": 4,
    "start_time": "2021-11-29T14:03:26.542Z"
   },
   {
    "duration": 18,
    "start_time": "2021-11-29T14:03:26.548Z"
   },
   {
    "duration": 33,
    "start_time": "2021-11-29T14:03:26.567Z"
   },
   {
    "duration": 11,
    "start_time": "2021-11-29T14:03:26.602Z"
   },
   {
    "duration": 18,
    "start_time": "2021-11-29T14:03:26.614Z"
   },
   {
    "duration": 6,
    "start_time": "2021-11-29T14:03:26.633Z"
   },
   {
    "duration": 656,
    "start_time": "2021-11-29T14:03:26.642Z"
   },
   {
    "duration": 9,
    "start_time": "2021-11-29T14:03:27.300Z"
   },
   {
    "duration": 1769,
    "start_time": "2021-11-29T14:03:27.310Z"
   },
   {
    "duration": 3,
    "start_time": "2021-11-29T14:03:29.081Z"
   },
   {
    "duration": 8,
    "start_time": "2021-11-29T14:03:29.092Z"
   },
   {
    "duration": 10,
    "start_time": "2021-11-29T14:03:29.102Z"
   },
   {
    "duration": 3,
    "start_time": "2021-11-29T14:03:29.114Z"
   },
   {
    "duration": 12,
    "start_time": "2021-11-29T14:03:29.119Z"
   },
   {
    "duration": 10,
    "start_time": "2021-11-29T14:03:29.132Z"
   },
   {
    "duration": 7,
    "start_time": "2021-11-29T14:03:29.144Z"
   },
   {
    "duration": 8,
    "start_time": "2021-11-29T14:03:29.154Z"
   },
   {
    "duration": 42,
    "start_time": "2021-11-29T14:03:29.164Z"
   },
   {
    "duration": 16,
    "start_time": "2021-11-29T14:03:29.207Z"
   },
   {
    "duration": 15,
    "start_time": "2021-11-29T14:03:29.225Z"
   },
   {
    "duration": 3,
    "start_time": "2021-11-29T14:03:29.242Z"
   },
   {
    "duration": 11,
    "start_time": "2021-11-29T14:03:29.247Z"
   },
   {
    "duration": 13,
    "start_time": "2021-11-29T14:03:29.292Z"
   },
   {
    "duration": 13,
    "start_time": "2021-11-29T14:03:29.307Z"
   },
   {
    "duration": 3,
    "start_time": "2021-11-29T14:03:29.322Z"
   },
   {
    "duration": 9,
    "start_time": "2021-11-29T14:03:29.327Z"
   },
   {
    "duration": 16,
    "start_time": "2021-11-29T14:03:29.338Z"
   },
   {
    "duration": 37,
    "start_time": "2021-11-29T14:03:29.355Z"
   },
   {
    "duration": 10,
    "start_time": "2021-11-29T14:03:29.394Z"
   },
   {
    "duration": 18,
    "start_time": "2021-11-29T14:03:29.406Z"
   },
   {
    "duration": 3,
    "start_time": "2021-11-29T14:03:29.426Z"
   },
   {
    "duration": 12,
    "start_time": "2021-11-29T14:03:29.431Z"
   },
   {
    "duration": 11,
    "start_time": "2021-11-29T14:05:00.308Z"
   },
   {
    "duration": 13,
    "start_time": "2021-11-29T14:05:29.472Z"
   },
   {
    "duration": 13,
    "start_time": "2021-11-29T14:05:35.247Z"
   },
   {
    "duration": 12,
    "start_time": "2021-11-29T14:05:41.020Z"
   },
   {
    "duration": 13,
    "start_time": "2021-11-29T14:05:41.034Z"
   },
   {
    "duration": 5325,
    "start_time": "2021-11-29T14:05:41.049Z"
   },
   {
    "duration": -393,
    "start_time": "2021-11-29T14:05:46.771Z"
   },
   {
    "duration": -402,
    "start_time": "2021-11-29T14:05:46.781Z"
   },
   {
    "duration": -410,
    "start_time": "2021-11-29T14:05:46.789Z"
   },
   {
    "duration": -418,
    "start_time": "2021-11-29T14:05:46.798Z"
   },
   {
    "duration": -425,
    "start_time": "2021-11-29T14:05:46.806Z"
   },
   {
    "duration": -433,
    "start_time": "2021-11-29T14:05:46.815Z"
   },
   {
    "duration": -862,
    "start_time": "2021-11-29T14:05:47.244Z"
   },
   {
    "duration": -886,
    "start_time": "2021-11-29T14:05:47.269Z"
   },
   {
    "duration": -893,
    "start_time": "2021-11-29T14:05:47.277Z"
   },
   {
    "duration": -901,
    "start_time": "2021-11-29T14:05:47.286Z"
   },
   {
    "duration": -908,
    "start_time": "2021-11-29T14:05:47.293Z"
   },
   {
    "duration": -916,
    "start_time": "2021-11-29T14:05:47.302Z"
   },
   {
    "duration": -923,
    "start_time": "2021-11-29T14:05:47.310Z"
   },
   {
    "duration": -931,
    "start_time": "2021-11-29T14:05:47.319Z"
   },
   {
    "duration": -938,
    "start_time": "2021-11-29T14:05:47.326Z"
   },
   {
    "duration": -946,
    "start_time": "2021-11-29T14:05:47.335Z"
   },
   {
    "duration": -952,
    "start_time": "2021-11-29T14:05:47.342Z"
   },
   {
    "duration": -958,
    "start_time": "2021-11-29T14:05:47.351Z"
   },
   {
    "duration": -964,
    "start_time": "2021-11-29T14:05:47.359Z"
   },
   {
    "duration": -983,
    "start_time": "2021-11-29T14:05:47.380Z"
   },
   {
    "duration": -990,
    "start_time": "2021-11-29T14:05:47.388Z"
   },
   {
    "duration": -997,
    "start_time": "2021-11-29T14:05:47.397Z"
   },
   {
    "duration": -1003,
    "start_time": "2021-11-29T14:05:47.405Z"
   },
   {
    "duration": -1010,
    "start_time": "2021-11-29T14:05:47.413Z"
   },
   {
    "duration": -1016,
    "start_time": "2021-11-29T14:05:47.421Z"
   },
   {
    "duration": -1023,
    "start_time": "2021-11-29T14:05:47.430Z"
   },
   {
    "duration": -1029,
    "start_time": "2021-11-29T14:05:47.437Z"
   },
   {
    "duration": -1036,
    "start_time": "2021-11-29T14:05:47.446Z"
   },
   {
    "duration": -1043,
    "start_time": "2021-11-29T14:05:47.454Z"
   },
   {
    "duration": -1052,
    "start_time": "2021-11-29T14:05:47.464Z"
   },
   {
    "duration": -1060,
    "start_time": "2021-11-29T14:05:47.473Z"
   },
   {
    "duration": -1079,
    "start_time": "2021-11-29T14:05:47.494Z"
   },
   {
    "duration": -1086,
    "start_time": "2021-11-29T14:05:47.502Z"
   },
   {
    "duration": -1093,
    "start_time": "2021-11-29T14:05:47.510Z"
   },
   {
    "duration": -1099,
    "start_time": "2021-11-29T14:05:47.518Z"
   },
   {
    "duration": -1107,
    "start_time": "2021-11-29T14:05:47.527Z"
   },
   {
    "duration": -1113,
    "start_time": "2021-11-29T14:05:47.535Z"
   },
   {
    "duration": -1120,
    "start_time": "2021-11-29T14:05:47.543Z"
   },
   {
    "duration": -1126,
    "start_time": "2021-11-29T14:05:47.551Z"
   },
   {
    "duration": -1133,
    "start_time": "2021-11-29T14:05:47.559Z"
   },
   {
    "duration": -1139,
    "start_time": "2021-11-29T14:05:47.567Z"
   },
   {
    "duration": -1147,
    "start_time": "2021-11-29T14:05:47.576Z"
   },
   {
    "duration": -1154,
    "start_time": "2021-11-29T14:05:47.584Z"
   },
   {
    "duration": -1175,
    "start_time": "2021-11-29T14:05:47.607Z"
   },
   {
    "duration": -1182,
    "start_time": "2021-11-29T14:05:47.615Z"
   },
   {
    "duration": -1191,
    "start_time": "2021-11-29T14:05:47.625Z"
   },
   {
    "duration": -1143,
    "start_time": "2021-11-29T14:05:47.636Z"
   },
   {
    "duration": -1153,
    "start_time": "2021-11-29T14:05:47.647Z"
   },
   {
    "duration": 12,
    "start_time": "2021-11-29T14:06:26.754Z"
   },
   {
    "duration": -453,
    "start_time": "2021-11-29T14:06:36.466Z"
   },
   {
    "duration": 620,
    "start_time": "2021-11-29T14:06:42.512Z"
   },
   {
    "duration": 65,
    "start_time": "2021-11-29T14:06:43.134Z"
   },
   {
    "duration": 22,
    "start_time": "2021-11-29T14:06:43.203Z"
   },
   {
    "duration": 17,
    "start_time": "2021-11-29T14:06:43.227Z"
   },
   {
    "duration": 21,
    "start_time": "2021-11-29T14:06:43.246Z"
   },
   {
    "duration": 12,
    "start_time": "2021-11-29T14:06:43.269Z"
   },
   {
    "duration": 20,
    "start_time": "2021-11-29T14:06:43.283Z"
   },
   {
    "duration": 16,
    "start_time": "2021-11-29T14:06:43.306Z"
   },
   {
    "duration": 12,
    "start_time": "2021-11-29T14:06:43.325Z"
   },
   {
    "duration": 18,
    "start_time": "2021-11-29T14:06:43.339Z"
   },
   {
    "duration": 35,
    "start_time": "2021-11-29T14:06:43.358Z"
   },
   {
    "duration": 17,
    "start_time": "2021-11-29T14:06:43.395Z"
   },
   {
    "duration": 21,
    "start_time": "2021-11-29T14:06:43.414Z"
   },
   {
    "duration": 11,
    "start_time": "2021-11-29T14:06:43.436Z"
   },
   {
    "duration": 7,
    "start_time": "2021-11-29T14:06:43.448Z"
   },
   {
    "duration": 21,
    "start_time": "2021-11-29T14:06:43.456Z"
   },
   {
    "duration": 6,
    "start_time": "2021-11-29T14:06:43.479Z"
   },
   {
    "duration": 19,
    "start_time": "2021-11-29T14:06:43.487Z"
   },
   {
    "duration": 17,
    "start_time": "2021-11-29T14:06:43.508Z"
   },
   {
    "duration": 8,
    "start_time": "2021-11-29T14:06:43.526Z"
   },
   {
    "duration": 16,
    "start_time": "2021-11-29T14:06:43.535Z"
   },
   {
    "duration": 16,
    "start_time": "2021-11-29T14:06:43.552Z"
   },
   {
    "duration": 18,
    "start_time": "2021-11-29T14:06:43.572Z"
   },
   {
    "duration": 20,
    "start_time": "2021-11-29T14:06:43.594Z"
   },
   {
    "duration": 13,
    "start_time": "2021-11-29T14:06:43.616Z"
   },
   {
    "duration": 9,
    "start_time": "2021-11-29T14:06:43.631Z"
   },
   {
    "duration": 25,
    "start_time": "2021-11-29T14:06:43.641Z"
   },
   {
    "duration": 36,
    "start_time": "2021-11-29T14:06:43.668Z"
   },
   {
    "duration": 27,
    "start_time": "2021-11-29T14:06:43.707Z"
   },
   {
    "duration": 15,
    "start_time": "2021-11-29T14:06:43.736Z"
   },
   {
    "duration": 4,
    "start_time": "2021-11-29T14:06:43.752Z"
   },
   {
    "duration": 15,
    "start_time": "2021-11-29T14:06:43.757Z"
   },
   {
    "duration": 22,
    "start_time": "2021-11-29T14:06:43.774Z"
   },
   {
    "duration": 6,
    "start_time": "2021-11-29T14:06:43.799Z"
   },
   {
    "duration": 7,
    "start_time": "2021-11-29T14:06:43.806Z"
   },
   {
    "duration": 4,
    "start_time": "2021-11-29T14:06:43.815Z"
   },
   {
    "duration": 734,
    "start_time": "2021-11-29T14:06:43.821Z"
   },
   {
    "duration": 8,
    "start_time": "2021-11-29T14:06:44.557Z"
   },
   {
    "duration": 1914,
    "start_time": "2021-11-29T14:06:44.567Z"
   },
   {
    "duration": 11,
    "start_time": "2021-11-29T14:06:46.482Z"
   },
   {
    "duration": 24,
    "start_time": "2021-11-29T14:06:46.495Z"
   },
   {
    "duration": 8,
    "start_time": "2021-11-29T14:06:46.522Z"
   },
   {
    "duration": 5,
    "start_time": "2021-11-29T14:06:46.532Z"
   },
   {
    "duration": 14,
    "start_time": "2021-11-29T14:06:46.538Z"
   },
   {
    "duration": 10,
    "start_time": "2021-11-29T14:06:46.555Z"
   },
   {
    "duration": 25,
    "start_time": "2021-11-29T14:06:46.567Z"
   },
   {
    "duration": 11,
    "start_time": "2021-11-29T14:06:46.595Z"
   },
   {
    "duration": 19,
    "start_time": "2021-11-29T14:06:46.609Z"
   },
   {
    "duration": 19,
    "start_time": "2021-11-29T14:06:46.630Z"
   },
   {
    "duration": 40,
    "start_time": "2021-11-29T14:06:46.651Z"
   },
   {
    "duration": 5,
    "start_time": "2021-11-29T14:06:46.693Z"
   },
   {
    "duration": 12,
    "start_time": "2021-11-29T14:06:46.701Z"
   },
   {
    "duration": 14,
    "start_time": "2021-11-29T14:06:46.715Z"
   },
   {
    "duration": 14,
    "start_time": "2021-11-29T14:06:46.731Z"
   },
   {
    "duration": 4,
    "start_time": "2021-11-29T14:06:46.746Z"
   },
   {
    "duration": 39,
    "start_time": "2021-11-29T14:06:46.752Z"
   },
   {
    "duration": 21,
    "start_time": "2021-11-29T14:06:46.794Z"
   },
   {
    "duration": 4,
    "start_time": "2021-11-29T14:06:46.817Z"
   },
   {
    "duration": 19,
    "start_time": "2021-11-29T14:06:46.823Z"
   },
   {
    "duration": 23,
    "start_time": "2021-11-29T14:06:46.844Z"
   },
   {
    "duration": 4,
    "start_time": "2021-11-29T14:06:46.868Z"
   },
   {
    "duration": 11,
    "start_time": "2021-11-29T14:06:46.892Z"
   },
   {
    "duration": 18,
    "start_time": "2021-11-29T14:07:40.247Z"
   },
   {
    "duration": 21,
    "start_time": "2021-11-29T14:07:44.202Z"
   },
   {
    "duration": 24,
    "start_time": "2021-11-29T14:07:44.893Z"
   },
   {
    "duration": 3,
    "start_time": "2021-11-29T14:07:50.579Z"
   },
   {
    "duration": 60,
    "start_time": "2021-11-29T14:07:50.586Z"
   },
   {
    "duration": 13,
    "start_time": "2021-11-29T14:07:50.648Z"
   },
   {
    "duration": 14,
    "start_time": "2021-11-29T14:07:50.663Z"
   },
   {
    "duration": 16,
    "start_time": "2021-11-29T14:07:50.678Z"
   },
   {
    "duration": 7,
    "start_time": "2021-11-29T14:07:50.697Z"
   },
   {
    "duration": 9,
    "start_time": "2021-11-29T14:07:50.706Z"
   },
   {
    "duration": 10,
    "start_time": "2021-11-29T14:07:50.717Z"
   },
   {
    "duration": 8,
    "start_time": "2021-11-29T14:07:50.730Z"
   },
   {
    "duration": 8,
    "start_time": "2021-11-29T14:07:50.740Z"
   },
   {
    "duration": 50,
    "start_time": "2021-11-29T14:07:50.749Z"
   },
   {
    "duration": 13,
    "start_time": "2021-11-29T14:07:50.801Z"
   },
   {
    "duration": 4,
    "start_time": "2021-11-29T14:07:50.816Z"
   },
   {
    "duration": 9,
    "start_time": "2021-11-29T14:07:50.822Z"
   },
   {
    "duration": 9,
    "start_time": "2021-11-29T14:07:50.833Z"
   },
   {
    "duration": 6,
    "start_time": "2021-11-29T14:07:50.844Z"
   },
   {
    "duration": 6,
    "start_time": "2021-11-29T14:07:50.851Z"
   },
   {
    "duration": 8,
    "start_time": "2021-11-29T14:07:50.859Z"
   },
   {
    "duration": 7,
    "start_time": "2021-11-29T14:07:50.892Z"
   },
   {
    "duration": 10,
    "start_time": "2021-11-29T14:07:50.902Z"
   },
   {
    "duration": 5,
    "start_time": "2021-11-29T14:07:50.914Z"
   },
   {
    "duration": 8,
    "start_time": "2021-11-29T14:07:50.920Z"
   },
   {
    "duration": 18,
    "start_time": "2021-11-29T14:07:50.929Z"
   },
   {
    "duration": 16,
    "start_time": "2021-11-29T14:07:50.949Z"
   },
   {
    "duration": 5,
    "start_time": "2021-11-29T14:07:50.967Z"
   },
   {
    "duration": 37,
    "start_time": "2021-11-29T14:07:50.973Z"
   },
   {
    "duration": 16,
    "start_time": "2021-11-29T14:07:55.251Z"
   },
   {
    "duration": 10,
    "start_time": "2021-11-29T14:08:13.822Z"
   },
   {
    "duration": 15,
    "start_time": "2021-11-29T14:08:15.366Z"
   },
   {
    "duration": 14,
    "start_time": "2021-11-29T14:08:34.732Z"
   },
   {
    "duration": 15,
    "start_time": "2021-11-29T14:08:34.747Z"
   },
   {
    "duration": 12,
    "start_time": "2021-11-29T14:08:34.764Z"
   },
   {
    "duration": 3,
    "start_time": "2021-11-29T14:08:34.778Z"
   },
   {
    "duration": 6,
    "start_time": "2021-11-29T14:08:34.782Z"
   },
   {
    "duration": 9,
    "start_time": "2021-11-29T14:08:34.789Z"
   },
   {
    "duration": 49,
    "start_time": "2021-11-29T14:08:34.801Z"
   },
   {
    "duration": 6,
    "start_time": "2021-11-29T14:08:34.853Z"
   },
   {
    "duration": 6,
    "start_time": "2021-11-29T14:08:34.861Z"
   },
   {
    "duration": 744,
    "start_time": "2021-11-29T14:08:34.891Z"
   },
   {
    "duration": 8,
    "start_time": "2021-11-29T14:08:35.638Z"
   },
   {
    "duration": 1973,
    "start_time": "2021-11-29T14:08:35.648Z"
   },
   {
    "duration": 3,
    "start_time": "2021-11-29T14:08:37.623Z"
   },
   {
    "duration": 11,
    "start_time": "2021-11-29T14:08:37.628Z"
   },
   {
    "duration": 9,
    "start_time": "2021-11-29T14:08:37.641Z"
   },
   {
    "duration": 4,
    "start_time": "2021-11-29T14:08:37.651Z"
   },
   {
    "duration": 10,
    "start_time": "2021-11-29T14:08:37.657Z"
   },
   {
    "duration": 6,
    "start_time": "2021-11-29T14:08:37.669Z"
   },
   {
    "duration": 3,
    "start_time": "2021-11-29T14:08:37.677Z"
   },
   {
    "duration": 11,
    "start_time": "2021-11-29T14:08:37.682Z"
   },
   {
    "duration": 22,
    "start_time": "2021-11-29T14:08:37.695Z"
   },
   {
    "duration": 14,
    "start_time": "2021-11-29T14:08:37.720Z"
   },
   {
    "duration": 14,
    "start_time": "2021-11-29T14:08:37.736Z"
   },
   {
    "duration": 3,
    "start_time": "2021-11-29T14:08:37.752Z"
   },
   {
    "duration": 11,
    "start_time": "2021-11-29T14:08:37.757Z"
   },
   {
    "duration": 14,
    "start_time": "2021-11-29T14:08:37.769Z"
   },
   {
    "duration": 28,
    "start_time": "2021-11-29T14:08:37.784Z"
   },
   {
    "duration": 5,
    "start_time": "2021-11-29T14:08:37.815Z"
   },
   {
    "duration": 10,
    "start_time": "2021-11-29T14:08:37.822Z"
   },
   {
    "duration": 15,
    "start_time": "2021-11-29T14:08:37.834Z"
   },
   {
    "duration": 3,
    "start_time": "2021-11-29T14:08:37.851Z"
   },
   {
    "duration": 10,
    "start_time": "2021-11-29T14:08:37.855Z"
   },
   {
    "duration": 16,
    "start_time": "2021-11-29T14:08:37.866Z"
   },
   {
    "duration": 8,
    "start_time": "2021-11-29T14:08:37.884Z"
   },
   {
    "duration": 17,
    "start_time": "2021-11-29T14:08:37.894Z"
   },
   {
    "duration": 3,
    "start_time": "2021-11-29T14:13:04.855Z"
   },
   {
    "duration": 3,
    "start_time": "2021-11-29T14:13:46.813Z"
   },
   {
    "duration": 10,
    "start_time": "2021-11-29T14:13:54.263Z"
   },
   {
    "duration": 4,
    "start_time": "2021-11-29T14:14:22.634Z"
   },
   {
    "duration": 8,
    "start_time": "2021-11-29T14:14:23.048Z"
   },
   {
    "duration": 15,
    "start_time": "2021-11-29T14:16:38.852Z"
   },
   {
    "duration": 5,
    "start_time": "2021-11-29T14:16:39.131Z"
   },
   {
    "duration": 11,
    "start_time": "2021-11-29T14:16:40.472Z"
   },
   {
    "duration": 9,
    "start_time": "2021-11-29T14:16:53.705Z"
   },
   {
    "duration": 4,
    "start_time": "2021-11-29T14:20:43.209Z"
   },
   {
    "duration": 10,
    "start_time": "2021-11-29T14:20:48.417Z"
   },
   {
    "duration": 16,
    "start_time": "2021-11-29T14:21:11.845Z"
   },
   {
    "duration": 6,
    "start_time": "2021-11-29T14:21:12.287Z"
   },
   {
    "duration": 8,
    "start_time": "2021-11-29T14:21:12.739Z"
   },
   {
    "duration": 4,
    "start_time": "2021-11-29T14:23:53.619Z"
   },
   {
    "duration": 8,
    "start_time": "2021-11-29T14:23:57.323Z"
   },
   {
    "duration": 8,
    "start_time": "2021-11-29T14:24:10.291Z"
   },
   {
    "duration": 5,
    "start_time": "2021-11-29T14:25:35.644Z"
   },
   {
    "duration": 7,
    "start_time": "2021-11-29T14:25:39.489Z"
   },
   {
    "duration": 574,
    "start_time": "2021-11-29T15:29:33.194Z"
   },
   {
    "duration": 50,
    "start_time": "2021-11-29T15:29:33.770Z"
   },
   {
    "duration": 18,
    "start_time": "2021-11-29T15:29:33.822Z"
   },
   {
    "duration": 11,
    "start_time": "2021-11-29T15:29:33.842Z"
   },
   {
    "duration": 7,
    "start_time": "2021-11-29T15:29:33.854Z"
   },
   {
    "duration": 6,
    "start_time": "2021-11-29T15:29:33.863Z"
   },
   {
    "duration": 26,
    "start_time": "2021-11-29T15:29:33.870Z"
   },
   {
    "duration": 7,
    "start_time": "2021-11-29T15:29:33.898Z"
   },
   {
    "duration": 12,
    "start_time": "2021-11-29T15:29:33.907Z"
   },
   {
    "duration": 7,
    "start_time": "2021-11-29T15:29:33.920Z"
   },
   {
    "duration": 14,
    "start_time": "2021-11-29T15:29:33.929Z"
   },
   {
    "duration": 8,
    "start_time": "2021-11-29T15:29:33.945Z"
   },
   {
    "duration": 37,
    "start_time": "2021-11-29T15:29:33.955Z"
   },
   {
    "duration": 4,
    "start_time": "2021-11-29T15:29:33.994Z"
   },
   {
    "duration": 7,
    "start_time": "2021-11-29T15:29:33.999Z"
   },
   {
    "duration": 6,
    "start_time": "2021-11-29T15:29:34.008Z"
   },
   {
    "duration": 9,
    "start_time": "2021-11-29T15:29:34.015Z"
   },
   {
    "duration": 6,
    "start_time": "2021-11-29T15:29:34.026Z"
   },
   {
    "duration": 6,
    "start_time": "2021-11-29T15:29:34.033Z"
   },
   {
    "duration": 5,
    "start_time": "2021-11-29T15:29:34.040Z"
   },
   {
    "duration": 4,
    "start_time": "2021-11-29T15:29:34.047Z"
   },
   {
    "duration": 38,
    "start_time": "2021-11-29T15:29:34.053Z"
   },
   {
    "duration": 10,
    "start_time": "2021-11-29T15:29:34.095Z"
   },
   {
    "duration": 11,
    "start_time": "2021-11-29T15:29:34.107Z"
   },
   {
    "duration": 3,
    "start_time": "2021-11-29T15:29:34.120Z"
   },
   {
    "duration": 12,
    "start_time": "2021-11-29T15:29:34.125Z"
   },
   {
    "duration": 20,
    "start_time": "2021-11-29T15:29:34.138Z"
   },
   {
    "duration": 45,
    "start_time": "2021-11-29T15:29:34.159Z"
   },
   {
    "duration": 13,
    "start_time": "2021-11-29T15:29:34.206Z"
   },
   {
    "duration": 3,
    "start_time": "2021-11-29T15:29:34.221Z"
   },
   {
    "duration": 9,
    "start_time": "2021-11-29T15:29:34.226Z"
   },
   {
    "duration": 12,
    "start_time": "2021-11-29T15:29:34.236Z"
   },
   {
    "duration": 5,
    "start_time": "2021-11-29T15:29:34.250Z"
   },
   {
    "duration": 6,
    "start_time": "2021-11-29T15:29:34.257Z"
   },
   {
    "duration": 5,
    "start_time": "2021-11-29T15:29:34.264Z"
   },
   {
    "duration": 665,
    "start_time": "2021-11-29T15:29:34.271Z"
   },
   {
    "duration": 9,
    "start_time": "2021-11-29T15:29:34.938Z"
   },
   {
    "duration": 1785,
    "start_time": "2021-11-29T15:29:34.949Z"
   },
   {
    "duration": 4,
    "start_time": "2021-11-29T15:29:36.736Z"
   },
   {
    "duration": 22,
    "start_time": "2021-11-29T15:29:36.741Z"
   },
   {
    "duration": 12,
    "start_time": "2021-11-29T15:29:36.765Z"
   },
   {
    "duration": 18,
    "start_time": "2021-11-29T15:29:36.778Z"
   },
   {
    "duration": 18,
    "start_time": "2021-11-29T15:29:36.797Z"
   },
   {
    "duration": 15,
    "start_time": "2021-11-29T15:29:36.816Z"
   },
   {
    "duration": 15,
    "start_time": "2021-11-29T15:29:36.833Z"
   },
   {
    "duration": 15,
    "start_time": "2021-11-29T15:29:36.850Z"
   },
   {
    "duration": 30,
    "start_time": "2021-11-29T15:29:36.867Z"
   },
   {
    "duration": 25,
    "start_time": "2021-11-29T15:29:36.899Z"
   },
   {
    "duration": 24,
    "start_time": "2021-11-29T15:29:36.925Z"
   },
   {
    "duration": 17,
    "start_time": "2021-11-29T15:29:36.950Z"
   },
   {
    "duration": 12,
    "start_time": "2021-11-29T15:29:36.969Z"
   },
   {
    "duration": 23,
    "start_time": "2021-11-29T15:29:36.983Z"
   },
   {
    "duration": 36,
    "start_time": "2021-11-29T15:29:37.008Z"
   },
   {
    "duration": 6,
    "start_time": "2021-11-29T15:29:37.045Z"
   },
   {
    "duration": 30,
    "start_time": "2021-11-29T15:29:37.052Z"
   },
   {
    "duration": 39,
    "start_time": "2021-11-29T15:29:37.084Z"
   },
   {
    "duration": 7,
    "start_time": "2021-11-29T15:29:37.125Z"
   },
   {
    "duration": 32,
    "start_time": "2021-11-29T15:29:37.133Z"
   },
   {
    "duration": 30,
    "start_time": "2021-11-29T15:29:37.167Z"
   },
   {
    "duration": 26,
    "start_time": "2021-11-29T15:29:37.198Z"
   },
   {
    "duration": 23,
    "start_time": "2021-11-29T15:29:37.226Z"
   }
  ],
  "kernelspec": {
   "display_name": "Python 3",
   "language": "python",
   "name": "python3"
  },
  "language_info": {
   "codemirror_mode": {
    "name": "ipython",
    "version": 3
   },
   "file_extension": ".py",
   "mimetype": "text/x-python",
   "name": "python",
   "nbconvert_exporter": "python",
   "pygments_lexer": "ipython3",
   "version": "3.7.12"
  },
  "toc": {
   "base_numbering": 1,
   "nav_menu": {
    "height": "220px",
    "width": "264px"
   },
   "number_sections": true,
   "sideBar": true,
   "skip_h1_title": true,
   "title_cell": "Table of Contents",
   "title_sidebar": "Contents",
   "toc_cell": false,
   "toc_position": {
    "height": "calc(100% - 180px)",
    "left": "10px",
    "top": "150px",
    "width": "260px"
   },
   "toc_section_display": true,
   "toc_window_display": true
  }
 },
 "nbformat": 4,
 "nbformat_minor": 2
}
